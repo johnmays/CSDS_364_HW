{
 "cells": [
  {
   "cell_type": "markdown",
   "metadata": {},
   "source": [
    "## Assignment A3b: Filtering\n",
    "\n",
    "Please follow the General Assignment Guidelines document on canvas under the Pages for completing this assignment.  When you have completed the assignment, please follow the Submission Instructions."
   ]
  },
  {
   "cell_type": "markdown",
   "metadata": {},
   "source": [
    "### Overview\n",
    "\n",
    "This assignment focuses on concepts in filtering continuous signals with examples of noise removal and signal detection."
   ]
  },
  {
   "cell_type": "markdown",
   "metadata": {},
   "source": [
    "### Readings\n",
    "\n",
    "The following material provides both background and additional context.  It linked in the Canvas page for this assignment.  Refer to these for a more detailed explanation and formal presentation of the concepts in the exercises.  Note that the readings contain a lot more material than what's needed for the exercises.  Feel free to skim or ignore the parts that aren't directly relevant.\n",
    "\n",
    "- Dusenbery, D. B. (1992). *Sensory Ecology*. Chapter 5-3 Signal Processing.\n",
    "- Prandoni and Vetterli (2008) *Signal Processing for Communications*.  Chapter 5."
   ]
  },
  {
   "cell_type": "markdown",
   "metadata": {},
   "source": [
    "### Learning objectives\n",
    "- explain how a filtering is a model of linear system\n",
    "- explain the assumptions of linearity and time-invariance\n",
    "- derive a recursive filter to implement a moving average\n",
    "- explain the different between and IIR and an FIR filter\n",
    "- implement a one dimensional IIR filter\n",
    "- implement the operation of convolution\n",
    "- implement low-, high-, and band-pass filters\n",
    "- explain the impulse response function\n",
    "- apply filters to different types of signals\n",
    "- use a filter to detect continuous signals in noise"
   ]
  },
  {
   "cell_type": "markdown",
   "metadata": {},
   "source": [
    "***\n",
    "## Exercises"
   ]
  },
  {
   "cell_type": "code",
   "execution_count": 1,
   "metadata": {},
   "outputs": [
    {
     "name": "stderr",
     "output_type": "stream",
     "text": [
      "\u001b[32m\u001b[1m  Activating\u001b[22m\u001b[39m new project at `~/Documents/GitHub/CSDS_364_HW/A3/A3b`\n"
     ]
    }
   ],
   "source": [
    "using Pkg; Pkg.activate(\".\")"
   ]
  },
  {
   "cell_type": "code",
   "execution_count": 3,
   "metadata": {},
   "outputs": [
    {
     "name": "stderr",
     "output_type": "stream",
     "text": [
      "\u001b[32m\u001b[1m  Installing\u001b[22m\u001b[39m known registries into `~/.julia`\n",
      "\u001b[32m\u001b[1m    Updating\u001b[22m\u001b[39m registry at `~/.julia/registries/General.toml`\n",
      "\u001b[32m\u001b[1m   Resolving\u001b[22m\u001b[39m package versions...\n",
      "\u001b[32m\u001b[1m   Installed\u001b[22m\u001b[39m Gettext_jll ─────────────── v0.21.0+0\n",
      "\u001b[32m\u001b[1m   Installed\u001b[22m\u001b[39m XML2_jll ────────────────── v2.9.12+0\n",
      "\u001b[32m\u001b[1m   Installed\u001b[22m\u001b[39m Libmount_jll ────────────── v2.35.0+0\n",
      "\u001b[32m\u001b[1m   Installed\u001b[22m\u001b[39m Xorg_libXext_jll ────────── v1.3.4+4\n",
      "\u001b[32m\u001b[1m   Installed\u001b[22m\u001b[39m Preferences ─────────────── v1.2.4\n",
      "\u001b[32m\u001b[1m   Installed\u001b[22m\u001b[39m Zstd_jll ────────────────── v1.5.2+0\n",
      "\u001b[32m\u001b[1m   Installed\u001b[22m\u001b[39m TikzPictures ────────────── v3.4.2\n",
      "\u001b[32m\u001b[1m   Installed\u001b[22m\u001b[39m Expat_jll ───────────────── v2.4.4+0\n",
      "\u001b[32m\u001b[1m   Installed\u001b[22m\u001b[39m Xorg_xtrans_jll ─────────── v1.4.0+3\n",
      "\u001b[32m\u001b[1m   Installed\u001b[22m\u001b[39m Libgcrypt_jll ───────────── v1.8.7+0\n",
      "\u001b[32m\u001b[1m   Installed\u001b[22m\u001b[39m Bzip2_jll ───────────────── v1.0.8+0\n",
      "\u001b[32m\u001b[1m   Installed\u001b[22m\u001b[39m Poppler_jll ─────────────── v0.87.0+2\n",
      "\u001b[32m\u001b[1m   Installed\u001b[22m\u001b[39m OpenJpeg_jll ────────────── v2.4.0+0\n",
      "\u001b[32m\u001b[1m   Installed\u001b[22m\u001b[39m Pixman_jll ──────────────── v0.40.1+0\n",
      "\u001b[32m\u001b[1m   Installed\u001b[22m\u001b[39m Libtiff_jll ─────────────── v4.3.0+0\n",
      "\u001b[32m\u001b[1m   Installed\u001b[22m\u001b[39m LZO_jll ─────────────────── v2.10.1+0\n",
      "\u001b[32m\u001b[1m   Installed\u001b[22m\u001b[39m Libffi_jll ──────────────── v3.2.2+1\n",
      "\u001b[32m\u001b[1m   Installed\u001b[22m\u001b[39m PCRE_jll ────────────────── v8.44.0+0\n",
      "\u001b[32m\u001b[1m   Installed\u001b[22m\u001b[39m JLLWrappers ─────────────── v1.4.1\n",
      "\u001b[32m\u001b[1m   Installed\u001b[22m\u001b[39m LaTeXStrings ────────────── v1.3.0\n",
      "\u001b[32m\u001b[1m   Installed\u001b[22m\u001b[39m Xorg_libXrender_jll ─────── v0.9.10+4\n",
      "\u001b[32m\u001b[1m   Installed\u001b[22m\u001b[39m XSLT_jll ────────────────── v1.1.34+0\n",
      "\u001b[32m\u001b[1m   Installed\u001b[22m\u001b[39m Glib_jll ────────────────── v2.68.3+2\n",
      "\u001b[32m\u001b[1m   Installed\u001b[22m\u001b[39m Cairo_jll ───────────────── v1.16.1+1\n",
      "\u001b[32m\u001b[1m   Installed\u001b[22m\u001b[39m Libgpg_error_jll ────────── v1.42.0+0\n",
      "\u001b[32m\u001b[1m   Installed\u001b[22m\u001b[39m Fontconfig_jll ──────────── v2.13.93+0\n",
      "\u001b[32m\u001b[1m   Installed\u001b[22m\u001b[39m FreeType2_jll ───────────── v2.10.4+0\n",
      "\u001b[32m\u001b[1m   Installed\u001b[22m\u001b[39m Tectonic ────────────────── v0.8.0\n",
      "\u001b[32m\u001b[1m   Installed\u001b[22m\u001b[39m JpegTurbo_jll ───────────── v2.1.2+0\n",
      "\u001b[32m\u001b[1m   Installed\u001b[22m\u001b[39m Requires ────────────────── v1.3.0\n",
      "\u001b[32m\u001b[1m   Installed\u001b[22m\u001b[39m Xorg_libXdmcp_jll ───────── v1.1.3+4\n",
      "\u001b[32m\u001b[1m   Installed\u001b[22m\u001b[39m Xorg_libXau_jll ─────────── v1.0.9+4\n",
      "\u001b[32m\u001b[1m   Installed\u001b[22m\u001b[39m Libuuid_jll ─────────────── v2.36.0+0\n",
      "\u001b[32m\u001b[1m   Installed\u001b[22m\u001b[39m Xorg_libxcb_jll ─────────── v1.13.0+3\n",
      "\u001b[32m\u001b[1m   Installed\u001b[22m\u001b[39m Xorg_libpthread_stubs_jll ─ v0.1.0+3\n",
      "\u001b[32m\u001b[1m   Installed\u001b[22m\u001b[39m Xorg_libX11_jll ─────────── v1.6.9+4\n",
      "\u001b[32m\u001b[1m   Installed\u001b[22m\u001b[39m libpng_jll ──────────────── v1.6.38+0\n",
      "\u001b[32m\u001b[1m   Installed\u001b[22m\u001b[39m Libiconv_jll ────────────── v1.16.1+1\n",
      "\u001b[32m\u001b[1m   Installed\u001b[22m\u001b[39m LittleCMS_jll ───────────── v2.12.0+0\n",
      "\u001b[32m\u001b[1m    Updating\u001b[22m\u001b[39m `~/Documents/GitHub/CSDS_364_HW/A3/A3b/Project.toml`\n",
      " \u001b[90m [37f6aa50] \u001b[39m\u001b[92m+ TikzPictures v3.4.2\u001b[39m\n",
      "\u001b[32m\u001b[1m    Updating\u001b[22m\u001b[39m `~/Documents/GitHub/CSDS_364_HW/A3/A3b/Manifest.toml`\n",
      " \u001b[90m [692b3bcd] \u001b[39m\u001b[92m+ JLLWrappers v1.4.1\u001b[39m\n",
      " \u001b[90m [b964fa9f] \u001b[39m\u001b[92m+ LaTeXStrings v1.3.0\u001b[39m\n",
      " \u001b[90m [21216c6a] \u001b[39m\u001b[92m+ Preferences v1.2.4\u001b[39m\n",
      " \u001b[90m [ae029012] \u001b[39m\u001b[92m+ Requires v1.3.0\u001b[39m\n",
      " \u001b[90m [9ac5f52a] \u001b[39m\u001b[92m+ Tectonic v0.8.0\u001b[39m\n",
      " \u001b[90m [37f6aa50] \u001b[39m\u001b[92m+ TikzPictures v3.4.2\u001b[39m\n",
      " \u001b[90m [6e34b625] \u001b[39m\u001b[92m+ Bzip2_jll v1.0.8+0\u001b[39m\n",
      " \u001b[90m [83423d85] \u001b[39m\u001b[92m+ Cairo_jll v1.16.1+1\u001b[39m\n",
      " \u001b[90m [2e619515] \u001b[39m\u001b[92m+ Expat_jll v2.4.4+0\u001b[39m\n",
      " \u001b[90m [a3f928ae] \u001b[39m\u001b[92m+ Fontconfig_jll v2.13.93+0\u001b[39m\n",
      " \u001b[90m [d7e528f0] \u001b[39m\u001b[92m+ FreeType2_jll v2.10.4+0\u001b[39m\n",
      " \u001b[90m [78b55507] \u001b[39m\u001b[92m+ Gettext_jll v0.21.0+0\u001b[39m\n",
      " \u001b[90m [7746bdde] \u001b[39m\u001b[92m+ Glib_jll v2.68.3+2\u001b[39m\n",
      " \u001b[90m [aacddb02] \u001b[39m\u001b[92m+ JpegTurbo_jll v2.1.2+0\u001b[39m\n",
      " \u001b[90m [dd4b983a] \u001b[39m\u001b[92m+ LZO_jll v2.10.1+0\u001b[39m\n",
      " \u001b[90m [e9f186c6] \u001b[39m\u001b[92m+ Libffi_jll v3.2.2+1\u001b[39m\n",
      " \u001b[90m [d4300ac3] \u001b[39m\u001b[92m+ Libgcrypt_jll v1.8.7+0\u001b[39m\n",
      " \u001b[90m [7add5ba3] \u001b[39m\u001b[92m+ Libgpg_error_jll v1.42.0+0\u001b[39m\n",
      " \u001b[90m [94ce4f54] \u001b[39m\u001b[92m+ Libiconv_jll v1.16.1+1\u001b[39m\n",
      " \u001b[90m [4b2f31a3] \u001b[39m\u001b[92m+ Libmount_jll v2.35.0+0\u001b[39m\n",
      " \u001b[90m [89763e89] \u001b[39m\u001b[92m+ Libtiff_jll v4.3.0+0\u001b[39m\n",
      " \u001b[90m [38a345b3] \u001b[39m\u001b[92m+ Libuuid_jll v2.36.0+0\u001b[39m\n",
      " \u001b[90m [d3a379c0] \u001b[39m\u001b[92m+ LittleCMS_jll v2.12.0+0\u001b[39m\n",
      " \u001b[90m [643b3616] \u001b[39m\u001b[92m+ OpenJpeg_jll v2.4.0+0\u001b[39m\n",
      " \u001b[90m [2f80f16e] \u001b[39m\u001b[92m+ PCRE_jll v8.44.0+0\u001b[39m\n",
      " \u001b[90m [30392449] \u001b[39m\u001b[92m+ Pixman_jll v0.40.1+0\u001b[39m\n",
      " \u001b[90m [9c32591e] \u001b[39m\u001b[92m+ Poppler_jll v0.87.0+2\u001b[39m\n",
      " \u001b[90m [02c8fc9c] \u001b[39m\u001b[92m+ XML2_jll v2.9.12+0\u001b[39m\n",
      " \u001b[90m [aed1982a] \u001b[39m\u001b[92m+ XSLT_jll v1.1.34+0\u001b[39m\n",
      " \u001b[90m [4f6342f7] \u001b[39m\u001b[92m+ Xorg_libX11_jll v1.6.9+4\u001b[39m\n",
      " \u001b[90m [0c0b7dd1] \u001b[39m\u001b[92m+ Xorg_libXau_jll v1.0.9+4\u001b[39m\n",
      " \u001b[90m [a3789734] \u001b[39m\u001b[92m+ Xorg_libXdmcp_jll v1.1.3+4\u001b[39m\n",
      " \u001b[90m [1082639a] \u001b[39m\u001b[92m+ Xorg_libXext_jll v1.3.4+4\u001b[39m\n",
      " \u001b[90m [ea2f1a96] \u001b[39m\u001b[92m+ Xorg_libXrender_jll v0.9.10+4\u001b[39m\n",
      " \u001b[90m [14d82f49] \u001b[39m\u001b[92m+ Xorg_libpthread_stubs_jll v0.1.0+3\u001b[39m\n",
      " \u001b[90m [c7cfdc94] \u001b[39m\u001b[92m+ Xorg_libxcb_jll v1.13.0+3\u001b[39m\n",
      " \u001b[90m [c5fb5394] \u001b[39m\u001b[92m+ Xorg_xtrans_jll v1.4.0+3\u001b[39m\n",
      " \u001b[90m [3161d3a3] \u001b[39m\u001b[92m+ Zstd_jll v1.5.2+0\u001b[39m\n",
      " \u001b[90m [b53b4c65] \u001b[39m\u001b[92m+ libpng_jll v1.6.38+0\u001b[39m\n",
      " \u001b[90m [0dad84c5] \u001b[39m\u001b[92m+ ArgTools\u001b[39m\n",
      " \u001b[90m [56f22d72] \u001b[39m\u001b[92m+ Artifacts\u001b[39m\n",
      " \u001b[90m [2a0f44e3] \u001b[39m\u001b[92m+ Base64\u001b[39m\n",
      " \u001b[90m [ade2ca70] \u001b[39m\u001b[92m+ Dates\u001b[39m\n",
      " \u001b[90m [f43a241f] \u001b[39m\u001b[92m+ Downloads\u001b[39m\n",
      " \u001b[90m [b77e0a4c] \u001b[39m\u001b[92m+ InteractiveUtils\u001b[39m\n",
      " \u001b[90m [b27032c2] \u001b[39m\u001b[92m+ LibCURL\u001b[39m\n",
      " \u001b[90m [76f85450] \u001b[39m\u001b[92m+ LibGit2\u001b[39m\n",
      " \u001b[90m [8f399da3] \u001b[39m\u001b[92m+ Libdl\u001b[39m\n",
      " \u001b[90m [56ddb016] \u001b[39m\u001b[92m+ Logging\u001b[39m\n",
      " \u001b[90m [d6f4376e] \u001b[39m\u001b[92m+ Markdown\u001b[39m\n",
      " \u001b[90m [ca575930] \u001b[39m\u001b[92m+ NetworkOptions\u001b[39m\n",
      " \u001b[90m [44cfe95a] \u001b[39m\u001b[92m+ Pkg\u001b[39m\n",
      " \u001b[90m [de0858da] \u001b[39m\u001b[92m+ Printf\u001b[39m\n",
      " \u001b[90m [3fa0cd96] \u001b[39m\u001b[92m+ REPL\u001b[39m\n",
      " \u001b[90m [9a3f8284] \u001b[39m\u001b[92m+ Random\u001b[39m\n",
      " \u001b[90m [ea8e919c] \u001b[39m\u001b[92m+ SHA\u001b[39m\n",
      " \u001b[90m [9e88b42a] \u001b[39m\u001b[92m+ Serialization\u001b[39m\n",
      " \u001b[90m [6462fe0b] \u001b[39m\u001b[92m+ Sockets\u001b[39m\n",
      " \u001b[90m [fa267f1f] \u001b[39m\u001b[92m+ TOML\u001b[39m\n",
      " \u001b[90m [a4e569a6] \u001b[39m\u001b[92m+ Tar\u001b[39m\n",
      " \u001b[90m [cf7118a7] \u001b[39m\u001b[92m+ UUIDs\u001b[39m\n",
      " \u001b[90m [4ec0a83e] \u001b[39m\u001b[92m+ Unicode\u001b[39m\n",
      " \u001b[90m [e66e0078] \u001b[39m\u001b[92m+ CompilerSupportLibraries_jll\u001b[39m\n",
      " \u001b[90m [deac9b47] \u001b[39m\u001b[92m+ LibCURL_jll\u001b[39m\n",
      " \u001b[90m [29816b5a] \u001b[39m\u001b[92m+ LibSSH2_jll\u001b[39m\n",
      " \u001b[90m [c8ffd9c3] \u001b[39m\u001b[92m+ MbedTLS_jll\u001b[39m\n",
      " \u001b[90m [14a3606d] \u001b[39m\u001b[92m+ MozillaCACerts_jll\u001b[39m\n",
      " \u001b[90m [83775a58] \u001b[39m\u001b[92m+ Zlib_jll\u001b[39m\n",
      " \u001b[90m [8e850ede] \u001b[39m\u001b[92m+ nghttp2_jll\u001b[39m\n",
      " \u001b[90m [3f19e933] \u001b[39m\u001b[92m+ p7zip_jll\u001b[39m\n",
      "\u001b[32m\u001b[1mPrecompiling\u001b[22m\u001b[39m project...\n",
      "\u001b[32m  ✓ \u001b[39m\u001b[90mTectonic\u001b[39m\n",
      "\u001b[32m  ✓ \u001b[39m\u001b[90mLaTeXStrings\u001b[39m\n",
      "\u001b[32m  ✓ \u001b[39m\u001b[90mMbedTLS_jll\u001b[39m\n",
      "\u001b[32m  ✓ \u001b[39m\u001b[90mRequires\u001b[39m\n",
      "\u001b[32m  ✓ \u001b[39m\u001b[90mZlib_jll\u001b[39m\n",
      "\u001b[32m  ✓ \u001b[39m\u001b[90mCompilerSupportLibraries_jll\u001b[39m\n",
      "\u001b[32m  ✓ \u001b[39m\u001b[90mPreferences\u001b[39m\n",
      "\u001b[32m  ✓ \u001b[39m\u001b[90mLibSSH2_jll\u001b[39m\n",
      "\u001b[32m  ✓ \u001b[39m\u001b[90mJLLWrappers\u001b[39m\n",
      "\u001b[32m  ✓ \u001b[39m\u001b[90mXorg_libXau_jll\u001b[39m\n",
      "\u001b[32m  ✓ \u001b[39m\u001b[90mJpegTurbo_jll\u001b[39m\n",
      "\u001b[32m  ✓ \u001b[39m\u001b[90mXorg_xtrans_jll\u001b[39m\n",
      "\u001b[32m  ✓ \u001b[39m\u001b[90mXorg_libXdmcp_jll\u001b[39m\n",
      "\u001b[32m  ✓ \u001b[39m\u001b[90mlibpng_jll\u001b[39m\n",
      "\u001b[32m  ✓ \u001b[39m\u001b[90mLibmount_jll\u001b[39m\n",
      "\u001b[32m  ✓ \u001b[39m\u001b[90mZstd_jll\u001b[39m\n",
      "\u001b[32m  ✓ \u001b[39m\u001b[90mLibiconv_jll\u001b[39m\n",
      "\u001b[32m  ✓ \u001b[39m\u001b[90mLibffi_jll\u001b[39m\n",
      "\u001b[32m  ✓ \u001b[39m\u001b[90mPCRE_jll\u001b[39m\n",
      "\u001b[32m  ✓ \u001b[39m\u001b[90mExpat_jll\u001b[39m\n",
      "\u001b[32m  ✓ \u001b[39m\u001b[90mBzip2_jll\u001b[39m\n",
      "\u001b[32m  ✓ \u001b[39m\u001b[90mLibgpg_error_jll\u001b[39m\n",
      "\u001b[32m  ✓ \u001b[39m\u001b[90mLZO_jll\u001b[39m\n",
      "\u001b[32m  ✓ \u001b[39m\u001b[90mXorg_libpthread_stubs_jll\u001b[39m\n",
      "\u001b[32m  ✓ \u001b[39m\u001b[90mPixman_jll\u001b[39m\n",
      "\u001b[32m  ✓ \u001b[39m\u001b[90mLibuuid_jll\u001b[39m\n",
      "\u001b[32m  ✓ \u001b[39m\u001b[90mFreeType2_jll\u001b[39m\n",
      "\u001b[32m  ✓ \u001b[39m\u001b[90mLibgcrypt_jll\u001b[39m\n",
      "\u001b[32m  ✓ \u001b[39m\u001b[90mXML2_jll\u001b[39m\n",
      "\u001b[32m  ✓ \u001b[39m\u001b[90mLibtiff_jll\u001b[39m\n",
      "\u001b[32m  ✓ \u001b[39m\u001b[90mFontconfig_jll\u001b[39m\n",
      "\u001b[32m  ✓ \u001b[39m\u001b[90mLittleCMS_jll\u001b[39m\n",
      "\u001b[32m  ✓ \u001b[39m\u001b[90mGettext_jll\u001b[39m\n",
      "\u001b[32m  ✓ \u001b[39m\u001b[90mXSLT_jll\u001b[39m\n",
      "\u001b[32m  ✓ \u001b[39m\u001b[90mXorg_libxcb_jll\u001b[39m\n",
      "\u001b[32m  ✓ \u001b[39m\u001b[90mOpenJpeg_jll\u001b[39m\n",
      "\u001b[32m  ✓ \u001b[39m\u001b[90mGlib_jll\u001b[39m\n",
      "\u001b[32m  ✓ \u001b[39m\u001b[90mXorg_libX11_jll\u001b[39m\n",
      "\u001b[32m  ✓ \u001b[39m\u001b[90mXorg_libXext_jll\u001b[39m\n",
      "\u001b[32m  ✓ \u001b[39m\u001b[90mXorg_libXrender_jll\u001b[39m\n",
      "\u001b[32m  ✓ \u001b[39m\u001b[90mCairo_jll\u001b[39m\n",
      "\u001b[32m  ✓ \u001b[39m\u001b[90mPoppler_jll\u001b[39m\n",
      "\u001b[32m  ✓ \u001b[39mTikzPictures\n",
      "  43 dependencies successfully precompiled in 11 seconds\n"
     ]
    }
   ],
   "source": [
    "import Pkg; Pkg.add(\"TikzPictures\")"
   ]
  },
  {
   "cell_type": "markdown",
   "metadata": {},
   "source": [
    "### 1. Filtering\n",
    "\n",
    "Filtering is a model of how a system responds to a signal.  The goal is not only to describe the relationship between the input and output, but also to design the characteristics of system itself so that it produces desired outputs.  The input output relationship is not just an instantaneous function of time, e.g. $y(t) = f(x(t))$.  Instead, filtering can be described as a transformation of one signal to another.  We will see below that the response of the system can be characterized by the function $h[n]$.  It is common to represent the flow of the signal through the system with a block diagram:"
   ]
  },
  {
   "cell_type": "code",
   "execution_count": 4,
   "metadata": {
    "jupyter": {
     "source_hidden": true
    }
   },
   "outputs": [
    {
     "data": {
      "image/svg+xml": "<?xml version=\"1.0\" encoding=\"UTF-8\"?>\n<svg xmlns=\"http://www.w3.org/2000/svg\" xmlns:xlink=\"http://www.w3.org/1999/xlink\" width=\"205.514pt\" height=\"45.828pt\" viewBox=\"0 0 205.514 45.828\" version=\"1.2\">\n<defs>\n<g>\n<symbol overflow=\"visible\" id=\"glyph-1646190839050993-0-0\">\n<path style=\"stroke:none;\" d=\"\"/>\n</symbol>\n<symbol overflow=\"visible\" id=\"glyph-1646190839050993-0-1\">\n<path style=\"stroke:none;\" d=\"M 4.96875 -4.5 C 5.0625 -4.890625 5.40625 -6.25 6.453125 -6.25 C 6.515625 -6.25 6.875 -6.25 7.1875 -6.0625 C 6.78125 -5.984375 6.484375 -5.609375 6.484375 -5.25 C 6.484375 -5.015625 6.640625 -4.734375 7.046875 -4.734375 C 7.375 -4.734375 7.84375 -5 7.84375 -5.59375 C 7.84375 -6.375 6.96875 -6.578125 6.46875 -6.578125 C 5.59375 -6.578125 5.078125 -5.796875 4.90625 -5.453125 C 4.53125 -6.4375 3.71875 -6.578125 3.296875 -6.578125 C 1.75 -6.578125 0.890625 -4.65625 0.890625 -4.28125 C 0.890625 -4.140625 1.046875 -4.140625 1.078125 -4.140625 C 1.1875 -4.140625 1.234375 -4.171875 1.265625 -4.296875 C 1.765625 -5.875 2.75 -6.25 3.265625 -6.25 C 3.546875 -6.25 4.0625 -6.125 4.0625 -5.25 C 4.0625 -4.796875 3.8125 -3.796875 3.265625 -1.71875 C 3.015625 -0.796875 2.5 -0.15625 1.84375 -0.15625 C 1.75 -0.15625 1.421875 -0.15625 1.109375 -0.359375 C 1.46875 -0.4375 1.796875 -0.75 1.796875 -1.15625 C 1.796875 -1.5625 1.46875 -1.6875 1.25 -1.6875 C 0.796875 -1.6875 0.4375 -1.296875 0.4375 -0.8125 C 0.4375 -0.140625 1.171875 0.15625 1.828125 0.15625 C 2.8125 0.15625 3.34375 -0.875 3.390625 -0.96875 C 3.578125 -0.421875 4.109375 0.15625 5 0.15625 C 6.53125 0.15625 7.390625 -1.75 7.390625 -2.125 C 7.390625 -2.28125 7.25 -2.28125 7.203125 -2.28125 C 7.078125 -2.28125 7.046875 -2.21875 7.015625 -2.109375 C 6.515625 -0.515625 5.515625 -0.15625 5.03125 -0.15625 C 4.453125 -0.15625 4.21875 -0.640625 4.21875 -1.140625 C 4.21875 -1.46875 4.296875 -1.796875 4.46875 -2.453125 Z M 4.96875 -4.5 \"/>\n</symbol>\n<symbol overflow=\"visible\" id=\"glyph-1646190839050993-0-2\">\n<path style=\"stroke:none;\" d=\"M 1.3125 -0.875 C 1.265625 -0.65625 1.171875 -0.3125 1.171875 -0.234375 C 1.171875 0.03125 1.390625 0.15625 1.609375 0.15625 C 1.78125 0.15625 2.0625 0.046875 2.15625 -0.25 C 2.171875 -0.28125 2.359375 -0.984375 2.4375 -1.359375 L 2.765625 -2.6875 C 2.859375 -3.015625 2.953125 -3.34375 3.015625 -3.6875 C 3.078125 -3.953125 3.203125 -4.375 3.21875 -4.4375 C 3.4375 -4.90625 4.234375 -6.25 5.640625 -6.25 C 6.3125 -6.25 6.453125 -5.703125 6.453125 -5.21875 C 6.453125 -4.28125 5.71875 -2.375 5.484375 -1.75 C 5.34375 -1.40625 5.328125 -1.21875 5.328125 -1.0625 C 5.328125 -0.359375 5.859375 0.15625 6.546875 0.15625 C 7.953125 0.15625 8.5 -2.015625 8.5 -2.125 C 8.5 -2.28125 8.375 -2.28125 8.328125 -2.28125 C 8.171875 -2.28125 8.171875 -2.234375 8.09375 -2.015625 C 7.796875 -1 7.3125 -0.15625 6.578125 -0.15625 C 6.328125 -0.15625 6.21875 -0.3125 6.21875 -0.65625 C 6.21875 -1.03125 6.359375 -1.390625 6.5 -1.71875 C 6.78125 -2.5 7.40625 -4.140625 7.40625 -4.984375 C 7.40625 -5.984375 6.765625 -6.578125 5.6875 -6.578125 C 4.34375 -6.578125 3.625 -5.625 3.359375 -5.28125 C 3.296875 -6.125 2.6875 -6.578125 2 -6.578125 C 1.3125 -6.578125 1.03125 -6 0.875 -5.734375 C 0.640625 -5.234375 0.4375 -4.34375 0.4375 -4.28125 C 0.4375 -4.140625 0.578125 -4.140625 0.609375 -4.140625 C 0.765625 -4.140625 0.78125 -4.15625 0.859375 -4.484375 C 1.109375 -5.546875 1.421875 -6.25 1.953125 -6.25 C 2.25 -6.25 2.40625 -6.0625 2.40625 -5.5625 C 2.40625 -5.25 2.375 -5.09375 2.171875 -4.3125 Z M 1.3125 -0.875 \"/>\n</symbol>\n<symbol overflow=\"visible\" id=\"glyph-1646190839050993-0-3\">\n<path style=\"stroke:none;\" d=\"M 4.28125 -10.171875 C 4.28125 -10.1875 4.28125 -10.328125 4.078125 -10.328125 C 3.734375 -10.328125 2.65625 -10.21875 2.265625 -10.1875 C 2.140625 -10.171875 1.984375 -10.15625 1.984375 -9.890625 C 1.984375 -9.703125 2.109375 -9.703125 2.34375 -9.703125 C 3.046875 -9.703125 3.078125 -9.609375 3.078125 -9.453125 L 3.03125 -9.15625 L 0.875 -0.578125 C 0.8125 -0.375 0.8125 -0.34375 0.8125 -0.25 C 0.8125 0.09375 1.109375 0.15625 1.25 0.15625 C 1.484375 0.15625 1.734375 -0.015625 1.796875 -0.21875 L 2.078125 -1.359375 L 2.40625 -2.6875 C 2.5 -3.015625 2.59375 -3.34375 2.671875 -3.6875 C 2.6875 -3.78125 2.8125 -4.28125 2.828125 -4.359375 C 2.875 -4.5 3.328125 -5.328125 3.84375 -5.734375 C 4.171875 -5.96875 4.625 -6.25 5.265625 -6.25 C 5.90625 -6.25 6.078125 -5.75 6.078125 -5.21875 C 6.078125 -4.40625 5.515625 -2.78125 5.15625 -1.875 C 5.03125 -1.53125 4.953125 -1.359375 4.953125 -1.0625 C 4.953125 -0.359375 5.484375 0.15625 6.171875 0.15625 C 7.578125 0.15625 8.125 -2.015625 8.125 -2.125 C 8.125 -2.28125 8 -2.28125 7.953125 -2.28125 C 7.796875 -2.28125 7.796875 -2.234375 7.734375 -2.015625 C 7.5 -1.21875 7.03125 -0.15625 6.203125 -0.15625 C 5.953125 -0.15625 5.859375 -0.3125 5.859375 -0.65625 C 5.859375 -1.03125 5.984375 -1.390625 6.125 -1.71875 C 6.359375 -2.359375 7.03125 -4.125 7.03125 -4.984375 C 7.03125 -5.953125 6.4375 -6.578125 5.3125 -6.578125 C 4.375 -6.578125 3.65625 -6.125 3.109375 -5.4375 Z M 4.28125 -10.171875 \"/>\n</symbol>\n<symbol overflow=\"visible\" id=\"glyph-1646190839050993-0-4\">\n<path style=\"stroke:none;\" d=\"M 7.234375 -5.671875 C 7.296875 -5.875 7.296875 -5.90625 7.296875 -6.015625 C 7.296875 -6.28125 7.09375 -6.421875 6.859375 -6.421875 C 6.71875 -6.421875 6.484375 -6.328125 6.34375 -6.109375 C 6.3125 -6.03125 6.1875 -5.5625 6.140625 -5.296875 C 6.03125 -4.90625 5.921875 -4.515625 5.84375 -4.109375 L 5.171875 -1.421875 C 5.109375 -1.203125 4.46875 -0.15625 3.484375 -0.15625 C 2.71875 -0.15625 2.5625 -0.8125 2.5625 -1.375 C 2.5625 -2.0625 2.8125 -2.984375 3.328125 -4.28125 C 3.5625 -4.90625 3.625 -5.0625 3.625 -5.359375 C 3.625 -6.03125 3.140625 -6.578125 2.390625 -6.578125 C 0.984375 -6.578125 0.4375 -4.421875 0.4375 -4.28125 C 0.4375 -4.140625 0.578125 -4.140625 0.609375 -4.140625 C 0.765625 -4.140625 0.78125 -4.171875 0.84375 -4.40625 C 1.25 -5.8125 1.84375 -6.25 2.359375 -6.25 C 2.46875 -6.25 2.71875 -6.25 2.71875 -5.78125 C 2.71875 -5.40625 2.578125 -5.015625 2.46875 -4.734375 C 1.875 -3.15625 1.609375 -2.3125 1.609375 -1.609375 C 1.609375 -0.28125 2.546875 0.15625 3.421875 0.15625 C 4 0.15625 4.515625 -0.09375 4.921875 -0.5 C 4.734375 0.265625 4.5625 1 3.953125 1.78125 C 3.578125 2.296875 3.015625 2.71875 2.328125 2.71875 C 2.109375 2.71875 1.4375 2.6875 1.1875 2.09375 C 1.421875 2.09375 1.625 2.09375 1.828125 1.921875 C 1.984375 1.78125 2.125 1.59375 2.125 1.3125 C 2.125 0.84375 1.734375 0.796875 1.578125 0.796875 C 1.234375 0.796875 0.75 1.03125 0.75 1.75 C 0.75 2.5 1.40625 3.046875 2.328125 3.046875 C 3.859375 3.046875 5.390625 1.703125 5.8125 0.015625 Z M 7.234375 -5.671875 \"/>\n</symbol>\n<symbol overflow=\"visible\" id=\"glyph-1646190839050993-1-0\">\n<path style=\"stroke:none;\" d=\"\"/>\n</symbol>\n<symbol overflow=\"visible\" id=\"glyph-1646190839050993-1-1\">\n<path style=\"stroke:none;\" d=\"M 3.796875 3.71875 L 3.796875 3.125 L 2.359375 3.125 L 2.359375 -10.578125 L 3.796875 -10.578125 L 3.796875 -11.171875 L 1.75 -11.171875 L 1.75 3.71875 Z M 3.796875 3.71875 \"/>\n</symbol>\n<symbol overflow=\"visible\" id=\"glyph-1646190839050993-1-2\">\n<path style=\"stroke:none;\" d=\"M 2.375 -11.171875 L 0.328125 -11.171875 L 0.328125 -10.578125 L 1.765625 -10.578125 L 1.765625 3.125 L 0.328125 3.125 L 0.328125 3.71875 L 2.375 3.71875 Z M 2.375 -11.171875 \"/>\n</symbol>\n</g>\n<clipPath id=\"clip-1646190839050993-1\">\n  <path d=\"M 79 0 L 126 0 L 126 45.65625 L 79 45.65625 Z M 79 0 \"/>\n</clipPath>\n</defs>\n<g id=\"surface1\">\n<g style=\"fill:rgb(0%,0%,0%);fill-opacity:1;\">\n  <use xlink:href=\"#glyph-1646190839050993-0-1\" x=\"5.104506\" y=\"26.550352\"/>\n</g>\n<g style=\"fill:rgb(0%,0%,0%);fill-opacity:1;\">\n  <use xlink:href=\"#glyph-1646190839050993-1-1\" x=\"13.61357\" y=\"26.550352\"/>\n</g>\n<g style=\"fill:rgb(0%,0%,0%);fill-opacity:1;\">\n  <use xlink:href=\"#glyph-1646190839050993-0-2\" x=\"17.748551\" y=\"26.550352\"/>\n</g>\n<g style=\"fill:rgb(0%,0%,0%);fill-opacity:1;\">\n  <use xlink:href=\"#glyph-1646190839050993-1-2\" x=\"26.685011\" y=\"26.550352\"/>\n</g>\n<g clip-path=\"url(#clip-1646190839050993-1)\" clip-rule=\"nonzero\">\n<path style=\"fill:none;stroke-width:0.99628;stroke-linecap:butt;stroke-linejoin:miter;stroke:rgb(0%,0%,0%);stroke-opacity:1;stroke-miterlimit:10;\" d=\"M 22.415165 22.416044 L -22.416529 22.416044 L -22.416529 -22.41565 L 22.415165 -22.41565 Z M 22.415165 22.416044 \" transform=\"matrix(0.996261,0,0,-0.996261,102.684273,22.828322)\"/>\n</g>\n<g style=\"fill:rgb(0%,0%,0%);fill-opacity:1;\">\n  <use xlink:href=\"#glyph-1646190839050993-0-3\" x=\"89.791661\" y=\"26.550352\"/>\n</g>\n<g style=\"fill:rgb(0%,0%,0%);fill-opacity:1;\">\n  <use xlink:href=\"#glyph-1646190839050993-1-1\" x=\"98.369467\" y=\"26.550352\"/>\n</g>\n<g style=\"fill:rgb(0%,0%,0%);fill-opacity:1;\">\n  <use xlink:href=\"#glyph-1646190839050993-0-2\" x=\"102.504448\" y=\"26.550352\"/>\n</g>\n<g style=\"fill:rgb(0%,0%,0%);fill-opacity:1;\">\n  <use xlink:href=\"#glyph-1646190839050993-1-2\" x=\"111.440908\" y=\"26.550352\"/>\n</g>\n<g style=\"fill:rgb(0%,0%,0%);fill-opacity:1;\">\n  <use xlink:href=\"#glyph-1646190839050993-0-4\" x=\"174.884294\" y=\"26.550352\"/>\n</g>\n<g style=\"fill:rgb(0%,0%,0%);fill-opacity:1;\">\n  <use xlink:href=\"#glyph-1646190839050993-1-1\" x=\"182.717894\" y=\"26.550352\"/>\n</g>\n<g style=\"fill:rgb(0%,0%,0%);fill-opacity:1;\">\n  <use xlink:href=\"#glyph-1646190839050993-0-2\" x=\"186.854369\" y=\"26.550352\"/>\n</g>\n<g style=\"fill:rgb(0%,0%,0%);fill-opacity:1;\">\n  <use xlink:href=\"#glyph-1646190839050993-1-2\" x=\"195.790829\" y=\"26.550352\"/>\n</g>\n<path style=\"fill:none;stroke-width:0.79701;stroke-linecap:butt;stroke-linejoin:miter;stroke:rgb(0%,0%,0%);stroke-opacity:1;stroke-miterlimit:10;\" d=\"M -66.562063 0.000197303 L -27.827386 0.000197303 \" transform=\"matrix(0.996261,0,0,-0.996261,102.684273,22.828322)\"/>\n<path style=\" stroke:none;fill-rule:nonzero;fill:rgb(0%,0%,0%);fill-opacity:1;\" d=\"M 79.605469 22.828125 C 78.226562 22.570312 75.992188 21.796875 74.445312 20.894531 L 74.445312 24.765625 C 75.992188 23.859375 78.226562 23.085938 79.605469 22.828125 \"/>\n<path style=\"fill:none;stroke-width:0.79701;stroke-linecap:butt;stroke-linejoin:miter;stroke:rgb(0%,0%,0%);stroke-opacity:1;stroke-miterlimit:10;\" d=\"M 23.16798 0.000197303 L 62.239856 0.000197303 \" transform=\"matrix(0.996261,0,0,-0.996261,102.684273,22.828322)\"/>\n<path style=\" stroke:none;fill-rule:nonzero;fill:rgb(0%,0%,0%);fill-opacity:1;\" d=\"M 169.335938 22.828125 C 167.960938 22.570312 165.722656 21.796875 164.175781 20.894531 L 164.175781 24.765625 C 165.722656 23.859375 167.960938 23.085938 169.335938 22.828125 \"/>\n</g>\n</svg>\n\n",
      "text/plain": [
       "TikzPicture(L\"% define elements\n",
       "\\tikzstyle{block} = [draw, shape=rectangle, minimum height=3em, minimum width=3em, node distance=2cm, line width=1pt]\n",
       "    \n",
       "% create nodes\n",
       "\\node at (-2.0,0) (input)  {$x[n]$};\n",
       "\\node     [block] (h)      {$h[n]$};\n",
       "\\node at (2.0,0)  (output) {$y[n]$};\n",
       "\n",
       "% connect\n",
       "\\draw[->] (input) -- (h);\n",
       "\\draw[->] (h) -- (output);\n",
       "\", \"scale=1.5, thick, transform shape, auto, >=latex\", \"\", \"tikzpicture\", \"\", \"\", true, true)"
      ]
     },
     "metadata": {},
     "output_type": "display_data"
    }
   ],
   "source": [
    "using TikzPictures\n",
    "\n",
    "fig = TikzPicture(L\"\"\"\n",
    "% define elements\n",
    "\\tikzstyle{block} = [draw, shape=rectangle, minimum height=3em, minimum width=3em, node distance=2cm, line width=1pt]\n",
    "    \n",
    "% create nodes\n",
    "\\node at (-2.0,0) (input)  {$x[n]$};\n",
    "\\node     [block] (h)      {$h[n]$};\n",
    "\\node at (2.0,0)  (output) {$y[n]$};\n",
    "\n",
    "% connect\n",
    "\\draw[->] (input) -- (h);\n",
    "\\draw[->] (h) -- (output);\n",
    "\"\"\", options=\"scale=1.5, thick, transform shape, auto, >=latex\")"
   ]
  },
  {
   "cell_type": "markdown",
   "metadata": {},
   "source": [
    "### 1a. A moving average filter\n",
    "\n",
    "One of the simplest computations to perform is an average, to do, for example, noise reduction.  A system that outputs (in discrete steps) the average of the last $M$ samples is described mathematically by\n",
    "$$\n",
    "y_M[n] = \\frac{1}{M} \\sum_{k=0}^{M-1} x[n-k]\n",
    "$$\n",
    "To implement this in a physical system would seem to require a memory of the previous $M-1$ input values, but it is possible to do the equivalent computation simply by using feedback, i.e. the previous output.  In terms of a block diagram, we can represent the signal flow in terms of a feed-forward part and a feed-back part."
   ]
  },
  {
   "cell_type": "markdown",
   "metadata": {},
   "source": [
    "Use the equation above to derive the following expression\n",
    "$$\n",
    "y_M[n] = \\lambda y_{M-1}[n-1] + (1-\\lambda) x[n]\n",
    "$$\n",
    "Then make an approximation to get\n",
    "$$\n",
    "y[n] = \\lambda y[n-1] + (1-\\lambda) x[n]\n",
    "$$\n",
    "This is now a just a function of the current input and the previous output, so the filter can be described as a simple feedback system.  What is the behavior for different values of $\\lambda$?"
   ]
  },
  {
   "cell_type": "markdown",
   "metadata": {},
   "source": [
    "This equation can be represented in a diagram:"
   ]
  },
  {
   "cell_type": "code",
   "execution_count": 5,
   "metadata": {
    "jupyter": {
     "source_hidden": true
    }
   },
   "outputs": [
    {
     "data": {
      "image/svg+xml": "<?xml version=\"1.0\" encoding=\"UTF-8\"?>\n<svg xmlns=\"http://www.w3.org/2000/svg\" xmlns:xlink=\"http://www.w3.org/1999/xlink\" width=\"309.776pt\" height=\"123.633pt\" viewBox=\"0 0 309.776 123.633\" version=\"1.2\">\n<defs>\n<g>\n<symbol overflow=\"visible\" id=\"glyph-1646190839050994-0-0\">\n<path style=\"stroke:none;\" d=\"\"/>\n</symbol>\n<symbol overflow=\"visible\" id=\"glyph-1646190839050994-0-1\">\n<path style=\"stroke:none;\" d=\"M 6.390625 -4.78125 C 5.96875 -4.65625 5.75 -4.25 5.75 -3.953125 C 5.75 -3.703125 5.953125 -3.40625 6.34375 -3.40625 C 6.765625 -3.40625 7.203125 -3.75 7.203125 -4.34375 C 7.203125 -4.96875 6.5625 -5.390625 5.84375 -5.390625 C 5.15625 -5.390625 4.71875 -4.875 4.5625 -4.65625 C 4.265625 -5.15625 3.59375 -5.390625 2.921875 -5.390625 C 1.421875 -5.390625 0.609375 -3.921875 0.609375 -3.53125 C 0.609375 -3.359375 0.78125 -3.359375 0.890625 -3.359375 C 1.03125 -3.359375 1.125 -3.359375 1.171875 -3.515625 C 1.515625 -4.609375 2.375 -4.953125 2.859375 -4.953125 C 3.3125 -4.953125 3.53125 -4.75 3.53125 -4.359375 C 3.53125 -4.140625 3.359375 -3.484375 3.25 -3.046875 L 2.84375 -1.421875 C 2.671875 -0.6875 2.234375 -0.328125 1.84375 -0.328125 C 1.78125 -0.328125 1.5 -0.328125 1.265625 -0.515625 C 1.6875 -0.625 1.90625 -1.03125 1.90625 -1.328125 C 1.90625 -1.59375 1.703125 -1.890625 1.3125 -1.890625 C 0.890625 -1.890625 0.453125 -1.53125 0.453125 -0.953125 C 0.453125 -0.328125 1.078125 0.09375 1.8125 0.09375 C 2.484375 0.09375 2.9375 -0.421875 3.09375 -0.625 C 3.390625 -0.125 4.046875 0.09375 4.734375 0.09375 C 6.234375 0.09375 7.046875 -1.375 7.046875 -1.765625 C 7.046875 -1.9375 6.859375 -1.9375 6.765625 -1.9375 C 6.609375 -1.9375 6.53125 -1.9375 6.484375 -1.78125 C 6.140625 -0.6875 5.28125 -0.328125 4.796875 -0.328125 C 4.34375 -0.328125 4.125 -0.546875 4.125 -0.9375 C 4.125 -1.1875 4.28125 -1.8125 4.390625 -2.25 C 4.46875 -2.5625 4.75 -3.6875 4.796875 -3.875 C 4.984375 -4.59375 5.40625 -4.953125 5.8125 -4.953125 C 5.875 -4.953125 6.15625 -4.953125 6.390625 -4.78125 Z M 6.390625 -4.78125 \"/>\n</symbol>\n<symbol overflow=\"visible\" id=\"glyph-1646190839050994-0-2\">\n<path style=\"stroke:none;\" d=\"M 3.34375 -4.484375 C 3.171875 -5.078125 2.515625 -5.390625 1.875 -5.390625 C 1.4375 -5.390625 1.09375 -5.140625 0.828125 -4.703125 C 0.53125 -4.234375 0.375 -3.59375 0.375 -3.53125 C 0.375 -3.359375 0.5625 -3.359375 0.671875 -3.359375 C 0.796875 -3.359375 0.84375 -3.359375 0.90625 -3.421875 C 0.9375 -3.453125 0.9375 -3.46875 1 -3.765625 C 1.234375 -4.703125 1.5 -4.953125 1.8125 -4.953125 C 1.984375 -4.953125 2.09375 -4.84375 2.09375 -4.515625 C 2.09375 -4.3125 2.03125 -4.125 1.921875 -3.640625 C 1.84375 -3.3125 1.71875 -2.84375 1.65625 -2.578125 L 1.234375 -0.90625 C 1.1875 -0.734375 1.125 -0.515625 1.125 -0.421875 C 1.125 -0.171875 1.328125 0.09375 1.6875 0.09375 C 2.3125 0.09375 2.453125 -0.453125 2.546875 -0.8125 C 2.65625 -1.25 2.75 -1.640625 2.875 -2.140625 C 2.921875 -2.296875 3.21875 -3.53125 3.25 -3.5625 C 3.25 -3.640625 3.59375 -4.171875 3.984375 -4.5 C 4.3125 -4.75 4.703125 -4.953125 5.203125 -4.953125 C 5.515625 -4.953125 5.8125 -4.84375 5.8125 -4.25 C 5.8125 -3.578125 5.28125 -2.1875 5.0625 -1.578125 C 4.921875 -1.265625 4.890625 -1.1875 4.890625 -0.984375 C 4.890625 -0.28125 5.578125 0.09375 6.234375 0.09375 C 7.5 0.09375 8.09375 -1.53125 8.09375 -1.765625 C 8.09375 -1.9375 7.921875 -1.9375 7.8125 -1.9375 C 7.671875 -1.9375 7.578125 -1.9375 7.53125 -1.78125 C 7.140625 -0.453125 6.5 -0.328125 6.3125 -0.328125 C 6.21875 -0.328125 6.109375 -0.328125 6.109375 -0.578125 C 6.109375 -0.859375 6.21875 -1.15625 6.34375 -1.453125 C 6.53125 -1.9375 7.078125 -3.34375 7.078125 -4 C 7.078125 -5.109375 6.15625 -5.390625 5.3125 -5.390625 C 5.0625 -5.390625 4.1875 -5.390625 3.34375 -4.484375 Z M 3.34375 -4.484375 \"/>\n</symbol>\n<symbol overflow=\"visible\" id=\"glyph-1646190839050994-0-3\">\n<path style=\"stroke:none;\" d=\"M 6.875 -4.5 C 6.9375 -4.703125 6.9375 -4.734375 6.9375 -4.765625 C 6.9375 -5.03125 6.75 -5.296875 6.375 -5.296875 C 5.765625 -5.296875 5.609375 -4.734375 5.53125 -4.40625 L 5.21875 -3.171875 C 5.078125 -2.59375 4.859375 -1.6875 4.71875 -1.1875 C 4.65625 -0.9375 4.296875 -0.640625 4.25 -0.625 C 4.125 -0.53125 3.84375 -0.328125 3.453125 -0.328125 C 2.734375 -0.328125 2.734375 -0.9375 2.734375 -1.203125 C 2.734375 -1.9375 3.09375 -2.859375 3.4375 -3.71875 C 3.546875 -4.03125 3.59375 -4.109375 3.59375 -4.3125 C 3.59375 -5 2.890625 -5.390625 2.234375 -5.390625 C 0.984375 -5.390625 0.375 -3.765625 0.375 -3.53125 C 0.375 -3.359375 0.5625 -3.359375 0.671875 -3.359375 C 0.8125 -3.359375 0.890625 -3.359375 0.9375 -3.515625 C 1.328125 -4.84375 1.984375 -4.953125 2.171875 -4.953125 C 2.25 -4.953125 2.375 -4.953125 2.375 -4.703125 C 2.375 -4.4375 2.234375 -4.125 2.171875 -3.9375 C 1.703125 -2.734375 1.453125 -2.0625 1.453125 -1.453125 C 1.453125 -0.09375 2.640625 0.09375 3.34375 0.09375 C 3.640625 0.09375 4.046875 0.046875 4.5 -0.265625 C 4.15625 1.203125 3.265625 1.984375 2.4375 1.984375 C 2.28125 1.984375 1.953125 1.953125 1.71875 1.8125 C 2.09375 1.65625 2.28125 1.328125 2.28125 1.015625 C 2.28125 0.578125 1.9375 0.46875 1.703125 0.46875 C 1.265625 0.46875 0.84375 0.84375 0.84375 1.375 C 0.84375 1.984375 1.484375 2.40625 2.4375 2.40625 C 3.8125 2.40625 5.390625 1.484375 5.765625 0.015625 Z M 6.875 -4.5 \"/>\n</symbol>\n<symbol overflow=\"visible\" id=\"glyph-1646190839050994-0-4\">\n<path style=\"stroke:none;\" d=\"M 4.28125 -7.609375 C 4.140625 -7.9375 3.984375 -8.28125 2.515625 -8.28125 C 2.234375 -8.28125 2.03125 -8.28125 2.03125 -8.046875 C 2.03125 -7.875 2.203125 -7.84375 2.21875 -7.84375 C 2.40625 -7.828125 2.546875 -7.8125 2.734375 -7.515625 C 2.875 -7.296875 4.109375 -4.453125 4.390625 -3.84375 L 0.9375 -1.0625 C 0.796875 -0.953125 0.5625 -0.75 0.5625 -0.421875 C 0.5625 -0.09375 0.828125 0.140625 1.125 0.140625 C 1.46875 0.140625 1.703125 -0.125 2.03125 -0.484375 C 2.0625 -0.515625 2.640625 -1.125 2.6875 -1.171875 C 3.140625 -1.625 4.203125 -2.796875 4.65625 -3.234375 L 5.796875 -0.65625 C 5.828125 -0.5625 5.9375 -0.328125 5.96875 -0.234375 C 6.078125 -0.03125 6.3125 0.09375 6.71875 0.09375 L 7.3125 0.09375 C 7.53125 0.09375 7.671875 0.09375 7.671875 -0.078125 C 7.671875 -0.125 7.640625 -0.171875 7.625 -0.21875 C 7.515625 -0.3125 7.421875 -0.53125 7.328125 -0.734375 Z M 4.28125 -7.609375 \"/>\n</symbol>\n<symbol overflow=\"visible\" id=\"glyph-1646190839050994-0-5\">\n<path style=\"stroke:none;\" d=\"M 2.875 -4.0625 C 3.046875 -4.078125 3.1875 -4.0625 3.359375 -4.078125 C 3.84375 -4.09375 4.421875 -4.140625 4.90625 -4.15625 C 4.5625 -3.828125 4.375 -3.640625 3.171875 -2.734375 C 0.765625 -0.890625 0.5 -0.125 0.5 -0.078125 C 0.5 0.09375 0.671875 0.09375 0.78125 0.09375 C 0.96875 0.09375 0.984375 0.078125 1.0625 -0.03125 C 1.484375 -0.625 1.9375 -0.71875 2.125 -0.71875 C 2.4375 -0.71875 2.71875 -0.515625 2.890625 -0.375 C 3.265625 -0.125 3.5625 0.09375 4.015625 0.09375 C 5.359375 0.09375 6.21875 -1.359375 6.21875 -1.8125 C 6.21875 -1.984375 6.015625 -1.984375 5.9375 -1.984375 C 5.859375 -1.984375 5.71875 -1.984375 5.6875 -1.875 C 5.578125 -1.640625 5.453125 -1.34375 4.65625 -1.25 C 4.59375 -1.234375 2.265625 -1.140625 2 -1.125 C 2.34375 -1.453125 2.53125 -1.640625 3.75 -2.5625 C 6.15625 -4.40625 6.40625 -5.171875 6.40625 -5.21875 C 6.40625 -5.390625 6.25 -5.390625 6.140625 -5.390625 C 5.96875 -5.390625 5.9375 -5.390625 5.859375 -5.265625 C 5.578125 -4.859375 5.359375 -4.578125 5.0625 -4.578125 C 4.75 -4.578125 4.5 -4.765625 4.21875 -4.953125 C 3.9375 -5.171875 3.640625 -5.390625 3.1875 -5.390625 C 2.140625 -5.390625 1.46875 -4.328125 1.46875 -3.953125 C 1.46875 -3.796875 1.65625 -3.796875 1.75 -3.796875 C 1.859375 -3.796875 1.984375 -3.796875 2.03125 -3.953125 C 2.1875 -4.03125 2.28125 -4.046875 2.640625 -4.0625 Z M 2.875 -4.0625 \"/>\n</symbol>\n<symbol overflow=\"visible\" id=\"glyph-1646190839050994-1-0\">\n<path style=\"stroke:none;\" d=\"\"/>\n</symbol>\n<symbol overflow=\"visible\" id=\"glyph-1646190839050994-1-1\">\n<path style=\"stroke:none;\" d=\"M 3.421875 2.984375 L 3.421875 2.328125 L 2.1875 2.328125 L 2.1875 -8.28125 L 3.421875 -8.28125 L 3.421875 -8.9375 L 1.53125 -8.9375 L 1.53125 2.984375 Z M 3.421875 2.984375 \"/>\n</symbol>\n<symbol overflow=\"visible\" id=\"glyph-1646190839050994-1-2\">\n<path style=\"stroke:none;\" d=\"M 2.1875 -8.9375 L 0.28125 -8.9375 L 0.28125 -8.28125 L 1.53125 -8.28125 L 1.53125 2.328125 L 0.28125 2.328125 L 0.28125 2.984375 L 2.1875 2.984375 Z M 2.1875 -8.9375 \"/>\n</symbol>\n<symbol overflow=\"visible\" id=\"glyph-1646190839050994-1-3\">\n<path style=\"stroke:none;\" d=\"M 5.546875 -2.640625 L 9.203125 -2.640625 C 9.359375 -2.640625 9.6875 -2.640625 9.6875 -2.96875 C 9.6875 -3.296875 9.375 -3.296875 9.203125 -3.296875 L 5.546875 -3.296875 L 5.546875 -6.96875 C 5.546875 -7.125 5.546875 -7.453125 5.21875 -7.453125 C 4.890625 -7.453125 4.890625 -7.140625 4.890625 -6.96875 L 4.890625 -3.296875 L 1.21875 -3.296875 C 1.046875 -3.296875 0.734375 -3.296875 0.734375 -2.96875 C 0.734375 -2.640625 1.0625 -2.640625 1.21875 -2.640625 L 4.890625 -2.640625 L 4.890625 1.03125 C 4.890625 1.1875 4.890625 1.5 5.203125 1.5 C 5.546875 1.5 5.546875 1.1875 5.546875 1.03125 Z M 5.546875 -2.640625 \"/>\n</symbol>\n<symbol overflow=\"visible\" id=\"glyph-1646190839050994-1-4\">\n<path style=\"stroke:none;\" d=\"M 4.453125 2.84375 C 4.453125 2.796875 4.453125 2.78125 4.234375 2.5625 C 2.890625 1.234375 2.390625 -0.875 2.390625 -2.96875 C 2.390625 -5.3125 2.96875 -7.25 4.296875 -8.59375 C 4.453125 -8.734375 4.453125 -8.75 4.453125 -8.796875 C 4.453125 -8.9375 4.3125 -8.9375 4.25 -8.9375 C 4.15625 -8.9375 4.125 -8.9375 3.8125 -8.6875 C 2.09375 -7.3125 1.28125 -5.125 1.28125 -2.984375 C 1.28125 -0.78125 2.109375 1.34375 3.796875 2.734375 C 4.109375 3 4.140625 3 4.25 3 C 4.3125 3 4.453125 3 4.453125 2.84375 Z M 4.453125 2.84375 \"/>\n</symbol>\n<symbol overflow=\"visible\" id=\"glyph-1646190839050994-1-5\">\n<path style=\"stroke:none;\" d=\"M 4.125 -7.46875 C 4.125 -7.828125 4.09375 -7.828125 3.71875 -7.828125 C 2.84375 -7.0625 1.515625 -7.0625 1.25 -7.0625 L 1.03125 -7.0625 L 1.03125 -6.546875 L 1.25 -6.546875 C 1.671875 -6.546875 2.296875 -6.609375 2.78125 -6.765625 L 2.78125 -0.515625 L 1.125 -0.515625 L 1.125 0 C 1.625 -0.03125 2.875 -0.03125 3.4375 -0.03125 C 4 -0.03125 5.25 -0.03125 5.765625 0 L 5.765625 -0.515625 L 4.125 -0.515625 Z M 4.125 -7.46875 \"/>\n</symbol>\n<symbol overflow=\"visible\" id=\"glyph-1646190839050994-1-6\">\n<path style=\"stroke:none;\" d=\"M 3.90625 -2.96875 C 3.90625 -5.15625 3.09375 -7.296875 1.390625 -8.671875 C 1.078125 -8.9375 1.0625 -8.9375 0.9375 -8.9375 C 0.875 -8.9375 0.734375 -8.9375 0.734375 -8.796875 C 0.734375 -8.75 0.734375 -8.734375 0.96875 -8.515625 C 2.296875 -7.171875 2.8125 -5.078125 2.8125 -2.984375 C 2.8125 -0.625 2.234375 1.296875 0.890625 2.640625 C 0.75 2.796875 0.734375 2.796875 0.734375 2.84375 C 0.734375 3 0.875 3 0.9375 3 C 1.046875 3 1.078125 3 1.390625 2.734375 C 3.09375 1.375 3.90625 -0.828125 3.90625 -2.96875 Z M 3.90625 -2.96875 \"/>\n</symbol>\n<symbol overflow=\"visible\" id=\"glyph-1646190839050994-2-0\">\n<path style=\"stroke:none;\" d=\"\"/>\n</symbol>\n<symbol overflow=\"visible\" id=\"glyph-1646190839050994-2-1\">\n<path style=\"stroke:none;\" d=\"M 4.8125 -3 L 2.171875 -0.34375 C 2.078125 -0.25 1.984375 -0.15625 1.984375 -0.03125 C 1.984375 0.171875 2.15625 0.34375 2.359375 0.34375 C 2.5 0.34375 2.578125 0.28125 2.703125 0.140625 L 5.328125 -2.46875 L 8.078125 0.28125 C 8.109375 0.296875 8.15625 0.34375 8.296875 0.34375 C 8.46875 0.34375 8.65625 0.203125 8.65625 -0.03125 C 8.65625 -0.078125 8.625 -0.15625 8.609375 -0.203125 C 8.546875 -0.28125 8.1875 -0.625 7.96875 -0.84375 L 5.84375 -2.984375 C 6.453125 -3.59375 8.5 -5.625 8.5625 -5.703125 C 8.625 -5.78125 8.65625 -5.859375 8.65625 -5.953125 C 8.65625 -6.171875 8.46875 -6.3125 8.296875 -6.3125 C 8.15625 -6.3125 8.09375 -6.265625 7.96875 -6.140625 L 5.328125 -3.5 C 4.703125 -4.109375 2.6875 -6.15625 2.609375 -6.21875 C 2.53125 -6.28125 2.453125 -6.3125 2.359375 -6.3125 C 2.15625 -6.3125 1.984375 -6.15625 1.984375 -5.953125 C 1.984375 -5.8125 2.046875 -5.765625 2.171875 -5.640625 Z M 4.8125 -3 \"/>\n</symbol>\n<symbol overflow=\"visible\" id=\"glyph-1646190839050994-2-2\">\n<path style=\"stroke:none;\" d=\"M 8.96875 -2.625 C 9.140625 -2.625 9.5 -2.625 9.5 -2.984375 C 9.5 -3.34375 9.15625 -3.34375 8.96875 -3.34375 L 1.6875 -3.34375 C 1.5 -3.34375 1.140625 -3.34375 1.140625 -3 C 1.140625 -2.625 1.484375 -2.625 1.6875 -2.625 Z M 8.96875 -2.625 \"/>\n</symbol>\n<symbol overflow=\"visible\" id=\"glyph-1646190839050994-3-0\">\n<path style=\"stroke:none;\" d=\"\"/>\n</symbol>\n<symbol overflow=\"visible\" id=\"glyph-1646190839050994-3-1\">\n<path style=\"stroke:none;\" d=\"M 6.375 -1.71875 C 6.484375 -1.71875 6.765625 -1.71875 6.765625 -1.984375 C 6.765625 -2.265625 6.484375 -2.265625 6.375 -2.265625 L 1.1875 -2.265625 C 1.078125 -2.265625 0.8125 -2.265625 0.8125 -1.984375 C 0.8125 -1.71875 1.078125 -1.71875 1.1875 -1.71875 Z M 6.375 -1.71875 \"/>\n</symbol>\n<symbol overflow=\"visible\" id=\"glyph-1646190839050994-4-0\">\n<path style=\"stroke:none;\" d=\"\"/>\n</symbol>\n<symbol overflow=\"visible\" id=\"glyph-1646190839050994-4-1\">\n<path style=\"stroke:none;\" d=\"M 3.015625 -4.96875 C 3.015625 -5.234375 2.96875 -5.234375 2.640625 -5.234375 C 2.15625 -4.84375 1.53125 -4.71875 0.90625 -4.71875 L 0.734375 -4.71875 L 0.734375 -4.3125 L 0.90625 -4.3125 C 1.109375 -4.3125 1.546875 -4.328125 2 -4.46875 L 2 -0.40625 L 0.8125 -0.40625 L 0.8125 0 C 1.09375 -0.03125 2.140625 -0.03125 2.5 -0.03125 C 2.859375 -0.03125 3.890625 -0.03125 4.1875 0 L 4.1875 -0.40625 L 3.015625 -0.40625 Z M 3.015625 -4.96875 \"/>\n</symbol>\n</g>\n</defs>\n<g id=\"surface1\">\n<g style=\"fill:rgb(0%,0%,0%);fill-opacity:1;\">\n  <use xlink:href=\"#glyph-1646190839050994-0-1\" x=\"7.63013\" y=\"16.222843\"/>\n</g>\n<g style=\"fill:rgb(0%,0%,0%);fill-opacity:1;\">\n  <use xlink:href=\"#glyph-1646190839050994-1-1\" x=\"15.48581\" y=\"16.222843\"/>\n</g>\n<g style=\"fill:rgb(0%,0%,0%);fill-opacity:1;\">\n  <use xlink:href=\"#glyph-1646190839050994-0-2\" x=\"19.210753\" y=\"16.222843\"/>\n</g>\n<g style=\"fill:rgb(0%,0%,0%);fill-opacity:1;\">\n  <use xlink:href=\"#glyph-1646190839050994-1-2\" x=\"27.708528\" y=\"16.222843\"/>\n</g>\n<path style=\"fill:none;stroke-width:1.0959;stroke-linecap:butt;stroke-linejoin:miter;stroke:rgb(0%,0%,0%);stroke-opacity:1;stroke-miterlimit:10;\" d=\"M 8.458383 0.00150355 C 8.458383 4.671575 4.669826 8.456214 -0.000245679 8.456214 C -4.670318 8.456214 -8.458874 4.671575 -8.458874 0.00150355 C -8.458874 -4.672486 -4.670318 -8.457125 -0.000245679 -8.457125 C 4.669826 -8.457125 8.458383 -4.672486 8.458383 0.00150355 Z M 8.458383 0.00150355 \" transform=\"matrix(0.99704,0,0,-0.99704,80.187745,13.243687)\"/>\n<g style=\"fill:rgb(0%,0%,0%);fill-opacity:1;\">\n  <use xlink:href=\"#glyph-1646190839050994-2-1\" x=\"74.857567\" y=\"16.222843\"/>\n</g>\n<path style=\"fill:none;stroke-width:1.0959;stroke-linecap:butt;stroke-linejoin:miter;stroke:rgb(0%,0%,0%);stroke-opacity:1;stroke-miterlimit:10;\" d=\"M 8.301264 0.00150355 C 8.301264 4.585383 4.587146 8.303418 -0.000651072 8.303418 C -4.58453 8.303418 -8.302566 4.585383 -8.302566 0.00150355 C -8.302566 -4.586294 -4.58453 -8.300411 -0.000651072 -8.300411 C 4.587146 -8.300411 8.301264 -4.586294 8.301264 0.00150355 Z M 8.301264 0.00150355 \" transform=\"matrix(0.99704,0,0,-0.99704,133.793618,13.243687)\"/>\n<g style=\"fill:rgb(0%,0%,0%);fill-opacity:1;\">\n  <use xlink:href=\"#glyph-1646190839050994-1-3\" x=\"128.579097\" y=\"16.222843\"/>\n</g>\n<path style=\" stroke:none;fill-rule:nonzero;fill:rgb(0%,0%,0%);fill-opacity:1;\" d=\"M 218.734375 13.242188 C 218.734375 11.597656 217.398438 10.265625 215.753906 10.265625 C 214.109375 10.265625 212.773438 11.597656 212.773438 13.242188 C 212.773438 14.890625 214.109375 16.222656 215.753906 16.222656 C 217.398438 16.222656 218.734375 14.890625 218.734375 13.242188 Z M 218.734375 13.242188 \"/>\n<g style=\"fill:rgb(0%,0%,0%);fill-opacity:1;\">\n  <use xlink:href=\"#glyph-1646190839050994-0-3\" x=\"266.767889\" y=\"16.222843\"/>\n</g>\n<g style=\"fill:rgb(0%,0%,0%);fill-opacity:1;\">\n  <use xlink:href=\"#glyph-1646190839050994-1-1\" x=\"274.244694\" y=\"16.222843\"/>\n</g>\n<g style=\"fill:rgb(0%,0%,0%);fill-opacity:1;\">\n  <use xlink:href=\"#glyph-1646190839050994-0-2\" x=\"277.969637\" y=\"16.222843\"/>\n</g>\n<g style=\"fill:rgb(0%,0%,0%);fill-opacity:1;\">\n  <use xlink:href=\"#glyph-1646190839050994-1-2\" x=\"286.468408\" y=\"16.222843\"/>\n</g>\n<g style=\"fill:rgb(0%,0%,0%);fill-opacity:1;\">\n  <use xlink:href=\"#glyph-1646190839050994-1-4\" x=\"59.24591\" y=\"51.53502\"/>\n  <use xlink:href=\"#glyph-1646190839050994-1-5\" x=\"64.460817\" y=\"51.53502\"/>\n</g>\n<g style=\"fill:rgb(0%,0%,0%);fill-opacity:1;\">\n  <use xlink:href=\"#glyph-1646190839050994-2-2\" x=\"74.211485\" y=\"51.53502\"/>\n</g>\n<g style=\"fill:rgb(0%,0%,0%);fill-opacity:1;\">\n  <use xlink:href=\"#glyph-1646190839050994-0-4\" x=\"87.919793\" y=\"51.53502\"/>\n</g>\n<g style=\"fill:rgb(0%,0%,0%);fill-opacity:1;\">\n  <use xlink:href=\"#glyph-1646190839050994-1-6\" x=\"95.916056\" y=\"51.53502\"/>\n</g>\n<path style=\"fill:none;stroke-width:1.0959;stroke-linecap:butt;stroke-linejoin:miter;stroke:rgb(0%,0%,0%);stroke-opacity:1;stroke-miterlimit:10;\" d=\"M -14.945996 -14.942483 L 14.943247 -14.942483 L 14.943247 14.942843 L -14.945996 14.942843 Z M -14.945996 -14.942483 \" transform=\"matrix(0.99704,0,0,-0.99704,215.753324,48.554867)\"/>\n<g style=\"fill:rgb(0%,0%,0%);fill-opacity:1;\">\n  <use xlink:href=\"#glyph-1646190839050994-0-5\" x=\"205.726089\" y=\"53.333681\"/>\n</g>\n<g style=\"fill:rgb(0%,0%,0%);fill-opacity:1;\">\n  <use xlink:href=\"#glyph-1646190839050994-3-1\" x=\"212.844957\" y=\"49.00852\"/>\n</g>\n<g style=\"fill:rgb(0%,0%,0%);fill-opacity:1;\">\n  <use xlink:href=\"#glyph-1646190839050994-4-1\" x=\"220.415484\" y=\"49.00852\"/>\n</g>\n<path style=\"fill:none;stroke-width:1.0959;stroke-linecap:butt;stroke-linejoin:miter;stroke:rgb(0%,0%,0%);stroke-opacity:1;stroke-miterlimit:10;\" d=\"M 8.457762 -0.000144152 C 8.457762 4.669928 4.669206 8.458484 -0.000866346 8.458484 C -4.670938 8.458484 -8.455577 4.669928 -8.455577 -0.000144152 C -8.455577 -4.670216 -4.670938 -8.458773 -0.000866346 -8.458773 C 4.669206 -8.458773 8.457762 -4.670216 8.457762 -0.000144152 Z M 8.457762 -0.000144152 \" transform=\"matrix(0.99704,0,0,-0.99704,171.461801,83.867044)\"/>\n<g style=\"fill:rgb(0%,0%,0%);fill-opacity:1;\">\n  <use xlink:href=\"#glyph-1646190839050994-2-1\" x=\"166.131624\" y=\"86.847197\"/>\n</g>\n<path style=\" stroke:none;fill-rule:nonzero;fill:rgb(0%,0%,0%);fill-opacity:1;\" d=\"M 218.734375 83.867188 C 218.734375 82.222656 217.398438 80.886719 215.753906 80.886719 C 214.109375 80.886719 212.773438 82.222656 212.773438 83.867188 C 212.773438 85.511719 214.109375 86.847656 215.753906 86.847656 C 217.398438 86.847656 218.734375 85.511719 218.734375 83.867188 Z M 218.734375 83.867188 \"/>\n<g style=\"fill:rgb(0%,0%,0%);fill-opacity:1;\">\n  <use xlink:href=\"#glyph-1646190839050994-0-3\" x=\"255.037709\" y=\"86.847197\"/>\n</g>\n<g style=\"fill:rgb(0%,0%,0%);fill-opacity:1;\">\n  <use xlink:href=\"#glyph-1646190839050994-1-1\" x=\"262.515512\" y=\"86.847197\"/>\n</g>\n<g style=\"fill:rgb(0%,0%,0%);fill-opacity:1;\">\n  <use xlink:href=\"#glyph-1646190839050994-0-2\" x=\"266.240454\" y=\"86.847197\"/>\n</g>\n<g style=\"fill:rgb(0%,0%,0%);fill-opacity:1;\">\n  <use xlink:href=\"#glyph-1646190839050994-2-2\" x=\"277.785184\" y=\"86.847197\"/>\n</g>\n<g style=\"fill:rgb(0%,0%,0%);fill-opacity:1;\">\n  <use xlink:href=\"#glyph-1646190839050994-1-5\" x=\"291.492495\" y=\"86.847197\"/>\n  <use xlink:href=\"#glyph-1646190839050994-1-2\" x=\"298.197375\" y=\"86.847197\"/>\n</g>\n<g style=\"fill:rgb(0%,0%,0%);fill-opacity:1;\">\n  <use xlink:href=\"#glyph-1646190839050994-0-4\" x=\"167.46367\" y=\"115.983707\"/>\n</g>\n<path style=\"fill:none;stroke-width:1.0959;stroke-linecap:butt;stroke-linejoin:miter;stroke:rgb(0%,0%,0%);stroke-opacity:1;stroke-miterlimit:10;\" d=\"M -119.175929 48.534504 L -89.286685 48.534504 \" transform=\"matrix(0.99704,0,0,-0.99704,154.776331,61.633045)\"/>\n<path style=\" stroke:none;fill-rule:nonzero;fill:rgb(0%,0%,0%);fill-opacity:1;\" d=\"M 71.207031 13.242188 C 69.59375 12.9375 66.96875 12.03125 65.148438 10.96875 L 65.148438 15.515625 C 66.96875 14.453125 69.59375 13.546875 71.207031 13.242188 \"/>\n<path style=\"fill:none;stroke-width:1.0959;stroke-linecap:butt;stroke-linejoin:miter;stroke:rgb(0%,0%,0%);stroke-opacity:1;stroke-miterlimit:10;\" d=\"M -65.807037 48.534504 L -35.365377 48.534504 \" transform=\"matrix(0.99704,0,0,-0.99704,154.776331,61.633045)\"/>\n<path style=\" stroke:none;fill-rule:nonzero;fill:rgb(0%,0%,0%);fill-opacity:1;\" d=\"M 124.96875 13.242188 C 123.351562 12.9375 120.726562 12.03125 118.910156 10.96875 L 118.910156 15.515625 C 120.726562 14.453125 123.351562 13.546875 124.96875 13.242188 \"/>\n<path style=\"fill:none;stroke-width:1.0959;stroke-linecap:butt;stroke-linejoin:miter;stroke:rgb(0%,0%,0%);stroke-opacity:1;stroke-miterlimit:10;\" d=\"M -12.195238 48.534504 L 102.323388 48.534504 \" transform=\"matrix(0.99704,0,0,-0.99704,154.776331,61.633045)\"/>\n<path style=\" stroke:none;fill-rule:nonzero;fill:rgb(0%,0%,0%);fill-opacity:1;\" d=\"M 262.25 13.242188 C 260.632812 12.9375 258.007812 12.03125 256.191406 10.96875 L 256.191406 15.515625 C 258.007812 14.453125 260.632812 13.546875 262.25 13.242188 \"/>\n<path style=\"fill:none;stroke-width:1.0959;stroke-linecap:butt;stroke-linejoin:miter;stroke:rgb(0%,0%,0%);stroke-opacity:1;stroke-miterlimit:10;\" d=\"M 61.158584 45.545187 L 61.158584 34.077653 \" transform=\"matrix(0.99704,0,0,-0.99704,154.776331,61.633045)\"/>\n<path style=\" stroke:none;fill-rule:nonzero;fill:rgb(0%,0%,0%);fill-opacity:1;\" d=\"M 215.753906 33.109375 C 216.054688 31.492188 216.964844 28.867188 218.027344 27.050781 L 213.480469 27.050781 C 214.542969 28.867188 215.449219 31.492188 215.753906 33.109375 \"/>\n<path style=\"fill:none;stroke-width:1.0959;stroke-linecap:butt;stroke-linejoin:miter;stroke:rgb(0%,0%,0%);stroke-opacity:1;stroke-miterlimit:10;\" d=\"M 61.158584 -2.373982 L 61.158584 -19.310828 \" transform=\"matrix(0.99704,0,0,-0.99704,154.776331,61.633045)\"/>\n<path style=\"fill:none;stroke-width:1.0959;stroke-linecap:butt;stroke-linejoin:miter;stroke:rgb(0%,0%,0%);stroke-opacity:1;stroke-miterlimit:10;\" d=\"M 58.169268 -22.300144 L 31.210573 -22.300144 \" transform=\"matrix(0.99704,0,0,-0.99704,154.776331,61.633045)\"/>\n<path style=\" stroke:none;fill-rule:nonzero;fill:rgb(0%,0%,0%);fill-opacity:1;\" d=\"M 180.441406 83.867188 C 182.058594 84.171875 184.683594 85.078125 186.5 86.140625 L 186.5 81.59375 C 184.683594 82.65625 182.058594 83.5625 180.441406 83.867188 \"/>\n<path style=\"fill:none;stroke-width:1.0959;stroke-linecap:butt;stroke-linejoin:miter;stroke:rgb(0%,0%,0%);stroke-opacity:1;stroke-miterlimit:10;\" d=\"M 7.730925 -22.300144 L -21.045651 -22.300144 \" transform=\"matrix(0.99704,0,0,-0.99704,154.776331,61.633045)\"/>\n<path style=\"fill:none;stroke-width:1.0959;stroke-linecap:butt;stroke-linejoin:miter;stroke:rgb(0%,0%,0%);stroke-opacity:1;stroke-miterlimit:10;\" d=\"M -21.045651 -22.300144 L -21.045651 34.214778 \" transform=\"matrix(0.99704,0,0,-0.99704,154.776331,61.633045)\"/>\n<path style=\" stroke:none;fill-rule:nonzero;fill:rgb(0%,0%,0%);fill-opacity:1;\" d=\"M 133.792969 22.066406 C 133.492188 23.683594 132.582031 26.308594 131.519531 28.125 L 136.066406 28.125 C 135.003906 26.308594 134.097656 23.683594 133.792969 22.066406 \"/>\n<path style=\"fill:none;stroke-width:1.0959;stroke-linecap:butt;stroke-linejoin:miter;stroke:rgb(0%,0%,0%);stroke-opacity:1;stroke-miterlimit:10;\" d=\"M -74.810246 23.628759 L -74.810246 34.058064 \" transform=\"matrix(0.99704,0,0,-0.99704,154.776331,61.633045)\"/>\n<path style=\" stroke:none;fill-rule:nonzero;fill:rgb(0%,0%,0%);fill-opacity:1;\" d=\"M 80.1875 22.222656 C 79.882812 23.835938 78.976562 26.460938 77.914062 28.28125 L 82.460938 28.28125 C 81.398438 26.460938 80.492188 23.835938 80.1875 22.222656 \"/>\n<path style=\"fill:none;stroke-width:1.0959;stroke-linecap:butt;stroke-linejoin:miter;stroke:rgb(0%,0%,0%);stroke-opacity:1;stroke-miterlimit:10;\" d=\"M 16.734134 -41.677808 L 16.734134 -36.776583 \" transform=\"matrix(0.99704,0,0,-0.99704,154.776331,61.633045)\"/>\n<path style=\" stroke:none;fill-rule:nonzero;fill:rgb(0%,0%,0%);fill-opacity:1;\" d=\"M 171.460938 92.84375 C 171.160156 94.460938 170.25 97.085938 169.191406 98.90625 L 173.734375 98.90625 C 172.675781 97.085938 171.765625 94.460938 171.460938 92.84375 \"/>\n</g>\n</svg>\n\n",
      "text/plain": [
       "TikzPicture(L\"    % The default tikz rendering is too small and thin in a jupyter notebook.\n",
       "    % We also need the option (in options=, below) \\\"font=\\\\boldmath\\\" to get more legible fonts.\n",
       "    \\def\\nodefontsize{\\large} % match katex\n",
       "    \\pgfsetlinewidth{1.1pt}   % bold lines\n",
       "\n",
       "    % define element styles\n",
       "    \\tikzstyle{var}    = [node font=\\nodefontsize]\n",
       "    \\tikzstyle{branch} = [fill, shape=circle, minimum size=6pt, inner sep=0pt, outer sep=0pt]\n",
       "    \\tikzstyle{corner} = [fill, minimum size=0pt, inner sep=0pt, outer sep=0pt]\n",
       "    \\tikzstyle{block}  = [draw, shape=rectangle, minimum height=2.5em, minimum width=2.5em, node font=\\nodefontsize]\n",
       "    \\tikzstyle{sum}    = [draw, circle, node font=\\nodefontsize, inner sep=1pt]\n",
       "    \\tikzstyle{prod}   = [draw, circle, node font=\\nodefontsize, inner sep=1pt]\n",
       "\n",
       "    % define macros for different nodes types\n",
       "    \\def\\vn#1#2{\\node [var]    (#1) {#2};}        % variable node\n",
       "    \\def\\bn#1  {\\node [branch] (#1) {};}\n",
       "    \\def\\cn#1  {\\node [corner] (#1) {};}          % corner node (without branch)\n",
       "    \\def\\sn#1  {\\node [sum]    (#1) {$+$};}\n",
       "    \\def\\pn#1  {\\node [prod]   (#1) {$\\times$};}\n",
       "    \\def\\dn#1  {\\node [block]  (#1) {$z^{-1}$};}  % delay node\n",
       "\n",
       "    % create nodes\n",
       "    \\matrix[row sep=10pt, column sep=20pt] {\n",
       "    \\vn{i11}{$x[n]$} & \\pn{p12}                & \\sn{s13} &                     & \\bn{b15} & \\vn{o16}{$y[n]$} \\\\\n",
       "                     & \\vn{v22}{$(1-\\lambda)$} &          &                     & \\dn{d25} & \\\\\n",
       "                     &                         & \\cn{c33} & \\pn{p34}            & \\bn{b35} & \\vn{o36}{$y[n-1]$} \\\\\n",
       "                     &                         &          & \\vn{v44}{$\\lambda$} &          & \\\\\n",
       "    };\n",
       "\n",
       "    % connect nodes by paths\n",
       "    \\foreach \\x [remember=\\x as \\lastx (initially i11)] in {p12, s13, o16}{\n",
       "        \\draw[->] (\\lastx) -- (\\x);\n",
       "    }\n",
       "    \\foreach \\x/\\tip [remember=\\x as \\lastx (initially b15)] in {d25/->, b35/-, p34/->, c33/-, s13/->}{\n",
       "        \\draw[\\tip] (\\lastx) -- (\\x);\n",
       "    }\n",
       "\n",
       "    % connect variables\n",
       "    \\foreach \\x/\\y in {v22/p12, v44/p34}{\n",
       "        \\draw[->] (\\x) -- (\\y);\n",
       "    }\n",
       "\n",
       "    % Normally, these options make the whole plot larger, thicker, and more legible,\n",
       "    % but they don't seem to work with matrix.\n",
       "    % options=\\\"scale=1.25, thick, transform shape, auto, thick\\\"\n",
       "    % Instead, we just use font=\\\\boldmath (note the escaped \\) to make it look more like katex.\n",
       "\", \"font=\\\\boldmath, >=latex\", \"\", \"tikzpicture\", \"\", \"\", true, true)"
      ]
     },
     "metadata": {},
     "output_type": "display_data"
    }
   ],
   "source": [
    "using TikzPictures\n",
    "\n",
    "# A first order circuit\n",
    "\n",
    "fig = TikzPicture(L\"\"\"\n",
    "    % The default tikz rendering is too small and thin in a jupyter notebook.\n",
    "    % We also need the option (in options=, below) \"font=\\\\boldmath\" to get more legible fonts.\n",
    "    \\def\\nodefontsize{\\large} % match katex\n",
    "    \\pgfsetlinewidth{1.1pt}   % bold lines\n",
    "\n",
    "    % define element styles\n",
    "    \\tikzstyle{var}    = [node font=\\nodefontsize]\n",
    "    \\tikzstyle{branch} = [fill, shape=circle, minimum size=6pt, inner sep=0pt, outer sep=0pt]\n",
    "    \\tikzstyle{corner} = [fill, minimum size=0pt, inner sep=0pt, outer sep=0pt]\n",
    "    \\tikzstyle{block}  = [draw, shape=rectangle, minimum height=2.5em, minimum width=2.5em, node font=\\nodefontsize]\n",
    "    \\tikzstyle{sum}    = [draw, circle, node font=\\nodefontsize, inner sep=1pt]\n",
    "    \\tikzstyle{prod}   = [draw, circle, node font=\\nodefontsize, inner sep=1pt]\n",
    "\n",
    "    % define macros for different nodes types\n",
    "    \\def\\vn#1#2{\\node [var]    (#1) {#2};}        % variable node\n",
    "    \\def\\bn#1  {\\node [branch] (#1) {};}\n",
    "    \\def\\cn#1  {\\node [corner] (#1) {};}          % corner node (without branch)\n",
    "    \\def\\sn#1  {\\node [sum]    (#1) {$+$};}\n",
    "    \\def\\pn#1  {\\node [prod]   (#1) {$\\times$};}\n",
    "    \\def\\dn#1  {\\node [block]  (#1) {$z^{-1}$};}  % delay node\n",
    "\n",
    "    % create nodes\n",
    "    \\matrix[row sep=10pt, column sep=20pt] {\n",
    "    \\vn{i11}{$x[n]$} & \\pn{p12}                & \\sn{s13} &                     & \\bn{b15} & \\vn{o16}{$y[n]$} \\\\\n",
    "                     & \\vn{v22}{$(1-\\lambda)$} &          &                     & \\dn{d25} & \\\\\n",
    "                     &                         & \\cn{c33} & \\pn{p34}            & \\bn{b35} & \\vn{o36}{$y[n-1]$} \\\\\n",
    "                     &                         &          & \\vn{v44}{$\\lambda$} &          & \\\\\n",
    "    };\n",
    "\n",
    "    % connect nodes by paths\n",
    "    \\foreach \\x [remember=\\x as \\lastx (initially i11)] in {p12, s13, o16}{\n",
    "        \\draw[->] (\\lastx) -- (\\x);\n",
    "    }\n",
    "    \\foreach \\x/\\tip [remember=\\x as \\lastx (initially b15)] in {d25/->, b35/-, p34/->, c33/-, s13/->}{\n",
    "        \\draw[\\tip] (\\lastx) -- (\\x);\n",
    "    }\n",
    "\n",
    "    % connect variables\n",
    "    \\foreach \\x/\\y in {v22/p12, v44/p34}{\n",
    "        \\draw[->] (\\x) -- (\\y);\n",
    "    }\n",
    "\n",
    "    % Normally, these options make the whole plot larger, thicker, and more legible,\n",
    "    % but they don't seem to work with matrix.\n",
    "    % options=\"scale=1.25, thick, transform shape, auto, thick\"\n",
    "    % Instead, we just use font=\\\\boldmath (note the escaped \\) to make it look more like katex.\n",
    "\"\"\", options=\"font=\\\\boldmath, >=latex\")"
   ]
  },
  {
   "cell_type": "markdown",
   "metadata": {},
   "source": [
    "The paths represent the signal flow and the  nodes represent the operations (multiplication, addition, and delay).  Notice how the output is feedback and added (after scaling) to the scaled input.  $z^{-1}$ is standard notation for representing a delay of one sample (for reasons that go beyond the scope of this course, but it's from the time shift property of the z-transform).  This is also just a memory cell that holds the last value of the output, i.e. $y[n-1]$."
   ]
  },
  {
   "cell_type": "markdown",
   "metadata": {},
   "source": [
    "### 1b. Implementation\n",
    "\n",
    "Write a function `movingavg(x; λ=0.5)` which takes a vector `x` and returns the moving average as described above.  Assume that the input `x` is zero before the first sample.\n",
    "\n",
    "To test your function, we could use just random noise, but we can make it a little more interesting by smoothing a random process.  Write a function `randprocess(N; σ=1)` which produces a waveform of length `N` where the next sample is randomly perturbed from the previous according to\n",
    "$$\n",
    "x_i \\sim \\mathcal{N}(x_{i-1}, \\sigma)\n",
    "$$\n",
    "Note that this isn't a function of time, only the previous sample.  \n",
    "\n",
    "Show an examples of random process vector `x`  with the waveform resulting from different values $\\lambda$.  Use your code from A3a to generate a noisy sine wave, and demonstrate how the moving average smooths the signal."
   ]
  },
  {
   "cell_type": "markdown",
   "metadata": {},
   "source": [
    "### 1c. System delay\n",
    "You will notice that the filtered waveform is not exactly superimposed on the noisy signal.  Why is that?  What can you say about the response lag?  Plot smoothed noisy sine waves again, but this time with delay adjusted for a centered average."
   ]
  },
  {
   "cell_type": "markdown",
   "metadata": {},
   "source": [
    "### 2. IIR Filters"
   ]
  },
  {
   "cell_type": "markdown",
   "metadata": {},
   "source": [
    "#### First order IIR filter\n",
    "\n",
    "We can generalize the filter above to be a function of both the previous output and the previous input.  In addition, we can have arbitrary values for the multiplicative factors (coefficients).\n",
    "\n",
    "$$\n",
    "y[n] =  a_1 y[n-1] + b_0 x[n] + b_1 x[n-1]\n",
    "$$\n",
    "\n",
    "It can be represented with the following block diagram"
   ]
  },
  {
   "cell_type": "code",
   "execution_count": 6,
   "metadata": {
    "jupyter": {
     "source_hidden": true
    }
   },
   "outputs": [
    {
     "data": {
      "image/svg+xml": "<?xml version=\"1.0\" encoding=\"UTF-8\"?>\n<svg xmlns=\"http://www.w3.org/2000/svg\" xmlns:xlink=\"http://www.w3.org/1999/xlink\" width=\"394.341pt\" height=\"125.426pt\" viewBox=\"0 0 394.341 125.426\" version=\"1.2\">\n<defs>\n<g>\n<symbol overflow=\"visible\" id=\"glyph-1646190839050995-0-0\">\n<path style=\"stroke:none;\" d=\"\"/>\n</symbol>\n<symbol overflow=\"visible\" id=\"glyph-1646190839050995-0-1\">\n<path style=\"stroke:none;\" d=\"M 6.375 -4.78125 C 5.953125 -4.65625 5.734375 -4.25 5.734375 -3.953125 C 5.734375 -3.6875 5.9375 -3.40625 6.328125 -3.40625 C 6.75 -3.40625 7.1875 -3.75 7.1875 -4.328125 C 7.1875 -4.96875 6.5625 -5.375 5.828125 -5.375 C 5.15625 -5.375 4.71875 -4.875 4.5625 -4.65625 C 4.265625 -5.15625 3.59375 -5.375 2.921875 -5.375 C 1.421875 -5.375 0.609375 -3.921875 0.609375 -3.53125 C 0.609375 -3.359375 0.78125 -3.359375 0.890625 -3.359375 C 1.03125 -3.359375 1.125 -3.359375 1.171875 -3.515625 C 1.515625 -4.59375 2.375 -4.953125 2.859375 -4.953125 C 3.3125 -4.953125 3.53125 -4.734375 3.53125 -4.359375 C 3.53125 -4.125 3.359375 -3.484375 3.25 -3.046875 L 2.84375 -1.421875 C 2.671875 -0.6875 2.234375 -0.328125 1.828125 -0.328125 C 1.78125 -0.328125 1.5 -0.328125 1.265625 -0.515625 C 1.6875 -0.625 1.90625 -1.03125 1.90625 -1.328125 C 1.90625 -1.59375 1.703125 -1.875 1.3125 -1.875 C 0.890625 -1.875 0.453125 -1.53125 0.453125 -0.953125 C 0.453125 -0.328125 1.078125 0.09375 1.8125 0.09375 C 2.484375 0.09375 2.921875 -0.421875 3.078125 -0.625 C 3.375 -0.125 4.046875 0.09375 4.734375 0.09375 C 6.234375 0.09375 7.03125 -1.375 7.03125 -1.765625 C 7.03125 -1.921875 6.859375 -1.921875 6.75 -1.921875 C 6.609375 -1.921875 6.53125 -1.921875 6.484375 -1.78125 C 6.125 -0.6875 5.28125 -0.328125 4.78125 -0.328125 C 4.328125 -0.328125 4.125 -0.546875 4.125 -0.921875 C 4.125 -1.171875 4.28125 -1.8125 4.375 -2.25 C 4.46875 -2.5625 4.734375 -3.671875 4.796875 -3.875 C 4.984375 -4.578125 5.390625 -4.953125 5.8125 -4.953125 C 5.875 -4.953125 6.140625 -4.953125 6.375 -4.78125 Z M 6.375 -4.78125 \"/>\n</symbol>\n<symbol overflow=\"visible\" id=\"glyph-1646190839050995-0-2\">\n<path style=\"stroke:none;\" d=\"M 3.328125 -4.484375 C 3.171875 -5.078125 2.515625 -5.375 1.875 -5.375 C 1.421875 -5.375 1.09375 -5.125 0.828125 -4.703125 C 0.53125 -4.234375 0.375 -3.578125 0.375 -3.53125 C 0.375 -3.359375 0.5625 -3.359375 0.671875 -3.359375 C 0.796875 -3.359375 0.84375 -3.359375 0.90625 -3.421875 C 0.921875 -3.4375 0.921875 -3.46875 1 -3.765625 C 1.234375 -4.6875 1.5 -4.953125 1.8125 -4.953125 C 1.984375 -4.953125 2.078125 -4.828125 2.078125 -4.515625 C 2.078125 -4.3125 2.03125 -4.125 1.921875 -3.640625 C 1.828125 -3.3125 1.71875 -2.828125 1.65625 -2.578125 L 1.21875 -0.90625 C 1.1875 -0.734375 1.125 -0.515625 1.125 -0.421875 C 1.125 -0.171875 1.328125 0.09375 1.6875 0.09375 C 2.3125 0.09375 2.453125 -0.453125 2.53125 -0.8125 C 2.65625 -1.25 2.75 -1.625 2.875 -2.140625 C 2.921875 -2.296875 3.21875 -3.53125 3.234375 -3.5625 C 3.25 -3.625 3.578125 -4.171875 3.984375 -4.484375 C 4.3125 -4.75 4.703125 -4.953125 5.203125 -4.953125 C 5.515625 -4.953125 5.796875 -4.828125 5.796875 -4.25 C 5.796875 -3.578125 5.28125 -2.171875 5.046875 -1.578125 C 4.921875 -1.265625 4.875 -1.171875 4.875 -0.96875 C 4.875 -0.28125 5.578125 0.09375 6.234375 0.09375 C 7.484375 0.09375 8.078125 -1.53125 8.078125 -1.765625 C 8.078125 -1.921875 7.90625 -1.921875 7.796875 -1.921875 C 7.65625 -1.921875 7.578125 -1.921875 7.53125 -1.78125 C 7.125 -0.453125 6.484375 -0.328125 6.296875 -0.328125 C 6.21875 -0.328125 6.09375 -0.328125 6.09375 -0.578125 C 6.09375 -0.859375 6.21875 -1.15625 6.328125 -1.453125 C 6.53125 -1.9375 7.078125 -3.328125 7.078125 -4 C 7.078125 -5.09375 6.15625 -5.375 5.296875 -5.375 C 5.046875 -5.375 4.171875 -5.375 3.328125 -4.484375 Z M 3.328125 -4.484375 \"/>\n</symbol>\n<symbol overflow=\"visible\" id=\"glyph-1646190839050995-0-3\">\n<path style=\"stroke:none;\" d=\"M 6.875 -4.484375 C 6.921875 -4.703125 6.921875 -4.734375 6.921875 -4.765625 C 6.921875 -5.03125 6.734375 -5.28125 6.375 -5.28125 C 5.75 -5.28125 5.609375 -4.734375 5.53125 -4.40625 L 5.21875 -3.171875 C 5.078125 -2.59375 4.84375 -1.671875 4.71875 -1.1875 C 4.65625 -0.921875 4.28125 -0.640625 4.25 -0.625 C 4.125 -0.53125 3.828125 -0.328125 3.4375 -0.328125 C 2.734375 -0.328125 2.71875 -0.921875 2.71875 -1.203125 C 2.71875 -1.921875 3.09375 -2.859375 3.421875 -3.71875 C 3.546875 -4.03125 3.578125 -4.109375 3.578125 -4.3125 C 3.578125 -5 2.890625 -5.375 2.234375 -5.375 C 0.96875 -5.375 0.375 -3.765625 0.375 -3.53125 C 0.375 -3.359375 0.5625 -3.359375 0.671875 -3.359375 C 0.8125 -3.359375 0.890625 -3.359375 0.9375 -3.515625 C 1.328125 -4.828125 1.984375 -4.953125 2.171875 -4.953125 C 2.25 -4.953125 2.375 -4.953125 2.375 -4.703125 C 2.375 -4.421875 2.234375 -4.125 2.171875 -3.921875 C 1.703125 -2.734375 1.453125 -2.0625 1.453125 -1.453125 C 1.453125 -0.09375 2.640625 0.09375 3.34375 0.09375 C 3.640625 0.09375 4.046875 0.046875 4.484375 -0.265625 C 4.15625 1.203125 3.265625 1.96875 2.4375 1.96875 C 2.28125 1.96875 1.953125 1.953125 1.71875 1.8125 C 2.09375 1.65625 2.28125 1.328125 2.28125 1.015625 C 2.28125 0.578125 1.9375 0.46875 1.703125 0.46875 C 1.265625 0.46875 0.84375 0.84375 0.84375 1.375 C 0.84375 1.96875 1.46875 2.40625 2.4375 2.40625 C 3.8125 2.40625 5.375 1.484375 5.75 0.015625 Z M 6.875 -4.484375 \"/>\n</symbol>\n<symbol overflow=\"visible\" id=\"glyph-1646190839050995-0-4\">\n<path style=\"stroke:none;\" d=\"M 2.875 -4.0625 C 3.03125 -4.078125 3.1875 -4.0625 3.359375 -4.078125 C 3.828125 -4.09375 4.421875 -4.125 4.890625 -4.140625 C 4.5625 -3.828125 4.375 -3.625 3.171875 -2.71875 C 0.765625 -0.890625 0.5 -0.125 0.5 -0.078125 C 0.5 0.09375 0.671875 0.09375 0.78125 0.09375 C 0.96875 0.09375 0.96875 0.078125 1.0625 -0.03125 C 1.484375 -0.625 1.921875 -0.71875 2.125 -0.71875 C 2.4375 -0.71875 2.71875 -0.515625 2.890625 -0.375 C 3.265625 -0.125 3.5625 0.09375 4.015625 0.09375 C 5.34375 0.09375 6.21875 -1.359375 6.21875 -1.8125 C 6.21875 -1.96875 6.015625 -1.96875 5.921875 -1.96875 C 5.84375 -1.96875 5.71875 -1.96875 5.671875 -1.875 C 5.578125 -1.640625 5.453125 -1.34375 4.65625 -1.25 C 4.578125 -1.234375 2.265625 -1.140625 2 -1.125 C 2.328125 -1.453125 2.53125 -1.640625 3.734375 -2.5625 C 6.140625 -4.390625 6.40625 -5.171875 6.40625 -5.21875 C 6.40625 -5.375 6.234375 -5.375 6.125 -5.375 C 5.953125 -5.375 5.921875 -5.375 5.859375 -5.265625 C 5.578125 -4.84375 5.34375 -4.578125 5.0625 -4.578125 C 4.75 -4.578125 4.484375 -4.765625 4.21875 -4.953125 C 3.921875 -5.171875 3.625 -5.375 3.1875 -5.375 C 2.140625 -5.375 1.46875 -4.328125 1.46875 -3.953125 C 1.46875 -3.78125 1.65625 -3.78125 1.75 -3.78125 C 1.859375 -3.78125 1.984375 -3.78125 2.03125 -3.9375 C 2.1875 -4.03125 2.28125 -4.03125 2.625 -4.0625 Z M 2.875 -4.0625 \"/>\n</symbol>\n<symbol overflow=\"visible\" id=\"glyph-1646190839050995-0-5\">\n<path style=\"stroke:none;\" d=\"M 3.34375 -7.84375 C 3.390625 -8.015625 3.390625 -8.03125 3.390625 -8.046875 C 3.390625 -8.203125 3.265625 -8.265625 3.125 -8.265625 C 3.078125 -8.265625 3.078125 -8.265625 3.046875 -8.25 L 1.515625 -8.171875 C 1.34375 -8.171875 1.125 -8.15625 1.125 -7.828125 C 1.125 -7.609375 1.359375 -7.609375 1.4375 -7.609375 C 1.578125 -7.609375 1.78125 -7.609375 1.9375 -7.578125 C 1.84375 -7.171875 1.71875 -6.671875 1.609375 -6.21875 L 0.78125 -2.921875 C 0.625 -2.265625 0.625 -2.125 0.625 -1.84375 C 0.625 -0.328125 1.75 0.09375 2.640625 0.09375 C 4.796875 0.09375 6.03125 -1.84375 6.03125 -3.421875 C 6.03125 -4.875 4.921875 -5.375 3.9375 -5.375 C 3.375 -5.375 2.890625 -5.15625 2.640625 -5 Z M 2.671875 -0.328125 C 2.203125 -0.328125 1.8125 -0.578125 1.8125 -1.328125 C 1.8125 -1.703125 1.921875 -2.140625 2.015625 -2.515625 C 2.125 -2.96875 2.328125 -3.78125 2.421875 -4.140625 C 2.46875 -4.34375 3.15625 -4.953125 3.875 -4.953125 C 4.625 -4.953125 4.671875 -4.3125 4.671875 -4.046875 C 4.671875 -3.421875 4.28125 -1.96875 4.078125 -1.5 C 3.671875 -0.53125 3.015625 -0.328125 2.671875 -0.328125 Z M 2.671875 -0.328125 \"/>\n</symbol>\n<symbol overflow=\"visible\" id=\"glyph-1646190839050995-0-6\">\n<path style=\"stroke:none;\" d=\"M 6.125 -3.78125 C 6.203125 -4.078125 6.328125 -4.546875 6.328125 -4.65625 C 6.328125 -5.03125 6.015625 -5.171875 5.765625 -5.171875 C 5.53125 -5.171875 5.296875 -5.0625 5.15625 -4.875 C 4.984375 -5.078125 4.578125 -5.375 3.890625 -5.375 C 1.828125 -5.375 0.53125 -3.5 0.53125 -1.875 C 0.53125 -0.40625 1.625 0.09375 2.625 0.09375 C 3.46875 0.09375 4.078125 -0.375 4.28125 -0.546875 C 4.734375 0.09375 5.515625 0.09375 5.640625 0.09375 C 6.078125 0.09375 6.421875 -0.15625 6.671875 -0.578125 C 6.984375 -1.0625 7.125 -1.703125 7.125 -1.765625 C 7.125 -1.921875 6.953125 -1.921875 6.84375 -1.921875 C 6.71875 -1.921875 6.671875 -1.921875 6.609375 -1.875 C 6.578125 -1.84375 6.578125 -1.828125 6.515625 -1.53125 C 6.28125 -0.578125 6 -0.328125 5.703125 -0.328125 C 5.578125 -0.328125 5.421875 -0.375 5.421875 -0.78125 C 5.421875 -0.96875 5.484375 -1.171875 5.59375 -1.640625 C 5.671875 -1.96875 5.796875 -2.453125 5.859375 -2.71875 Z M 4.15625 -1.109375 C 3.8125 -0.703125 3.25 -0.328125 2.671875 -0.328125 C 1.9375 -0.328125 1.875 -0.96875 1.875 -1.234375 C 1.875 -1.859375 2.28125 -3.328125 2.46875 -3.78125 C 2.84375 -4.65625 3.421875 -4.953125 3.921875 -4.953125 C 4.625 -4.953125 4.90625 -4.390625 4.90625 -4.265625 L 4.875 -4.09375 Z M 4.15625 -1.109375 \"/>\n</symbol>\n<symbol overflow=\"visible\" id=\"glyph-1646190839050995-1-0\">\n<path style=\"stroke:none;\" d=\"\"/>\n</symbol>\n<symbol overflow=\"visible\" id=\"glyph-1646190839050995-1-1\">\n<path style=\"stroke:none;\" d=\"M 3.421875 2.96875 L 3.421875 2.328125 L 2.171875 2.328125 L 2.171875 -8.28125 L 3.421875 -8.28125 L 3.421875 -8.921875 L 1.53125 -8.921875 L 1.53125 2.96875 Z M 3.421875 2.96875 \"/>\n</symbol>\n<symbol overflow=\"visible\" id=\"glyph-1646190839050995-1-2\">\n<path style=\"stroke:none;\" d=\"M 2.171875 -8.921875 L 0.28125 -8.921875 L 0.28125 -8.28125 L 1.53125 -8.28125 L 1.53125 2.328125 L 0.28125 2.328125 L 0.28125 2.96875 L 2.171875 2.96875 Z M 2.171875 -8.921875 \"/>\n</symbol>\n<symbol overflow=\"visible\" id=\"glyph-1646190839050995-1-3\">\n<path style=\"stroke:none;\" d=\"M 5.53125 -2.640625 L 9.1875 -2.640625 C 9.34375 -2.640625 9.671875 -2.640625 9.671875 -2.96875 C 9.671875 -3.296875 9.359375 -3.296875 9.1875 -3.296875 L 5.53125 -3.296875 L 5.53125 -6.96875 C 5.53125 -7.125 5.53125 -7.4375 5.21875 -7.4375 C 4.875 -7.4375 4.875 -7.125 4.875 -6.96875 L 4.875 -3.296875 L 1.21875 -3.296875 C 1.046875 -3.296875 0.734375 -3.296875 0.734375 -2.96875 C 0.734375 -2.640625 1.0625 -2.640625 1.21875 -2.640625 L 4.875 -2.640625 L 4.875 1.03125 C 4.875 1.171875 4.875 1.5 5.203125 1.5 C 5.53125 1.5 5.53125 1.1875 5.53125 1.03125 Z M 5.53125 -2.640625 \"/>\n</symbol>\n<symbol overflow=\"visible\" id=\"glyph-1646190839050995-1-4\">\n<path style=\"stroke:none;\" d=\"M 4.125 -7.46875 C 4.125 -7.8125 4.09375 -7.8125 3.71875 -7.8125 C 2.828125 -7.046875 1.515625 -7.046875 1.25 -7.046875 L 1.03125 -7.046875 L 1.03125 -6.53125 L 1.25 -6.53125 C 1.671875 -6.53125 2.296875 -6.609375 2.78125 -6.765625 L 2.78125 -0.515625 L 1.125 -0.515625 L 1.125 0 C 1.625 -0.03125 2.875 -0.03125 3.421875 -0.03125 C 3.984375 -0.03125 5.25 -0.03125 5.75 0 L 5.75 -0.515625 L 4.125 -0.515625 Z M 4.125 -7.46875 \"/>\n</symbol>\n<symbol overflow=\"visible\" id=\"glyph-1646190839050995-2-0\">\n<path style=\"stroke:none;\" d=\"\"/>\n</symbol>\n<symbol overflow=\"visible\" id=\"glyph-1646190839050995-2-1\">\n<path style=\"stroke:none;\" d=\"M 4.8125 -2.984375 L 2.171875 -0.34375 C 2.078125 -0.25 1.984375 -0.15625 1.984375 -0.03125 C 1.984375 0.171875 2.15625 0.34375 2.359375 0.34375 C 2.5 0.34375 2.578125 0.28125 2.703125 0.140625 L 5.328125 -2.46875 L 8.0625 0.28125 C 8.09375 0.296875 8.140625 0.34375 8.28125 0.34375 C 8.453125 0.34375 8.640625 0.203125 8.640625 -0.03125 C 8.640625 -0.078125 8.625 -0.15625 8.59375 -0.203125 C 8.53125 -0.28125 8.171875 -0.625 7.96875 -0.84375 L 5.828125 -2.96875 C 6.4375 -3.59375 8.484375 -5.625 8.546875 -5.6875 C 8.609375 -5.78125 8.640625 -5.84375 8.640625 -5.9375 C 8.640625 -6.171875 8.453125 -6.3125 8.28125 -6.3125 C 8.140625 -6.3125 8.078125 -6.25 7.96875 -6.125 L 5.328125 -3.5 C 4.703125 -4.109375 2.671875 -6.15625 2.609375 -6.21875 C 2.53125 -6.28125 2.453125 -6.3125 2.359375 -6.3125 C 2.15625 -6.3125 1.984375 -6.140625 1.984375 -5.9375 C 1.984375 -5.8125 2.046875 -5.75 2.171875 -5.625 Z M 4.8125 -2.984375 \"/>\n</symbol>\n<symbol overflow=\"visible\" id=\"glyph-1646190839050995-2-2\">\n<path style=\"stroke:none;\" d=\"M 8.953125 -2.625 C 9.125 -2.625 9.484375 -2.625 9.484375 -2.96875 C 9.484375 -3.34375 9.140625 -3.34375 8.953125 -3.34375 L 1.671875 -3.34375 C 1.5 -3.34375 1.140625 -3.34375 1.140625 -2.984375 C 1.140625 -2.625 1.484375 -2.625 1.671875 -2.625 Z M 8.953125 -2.625 \"/>\n</symbol>\n<symbol overflow=\"visible\" id=\"glyph-1646190839050995-3-0\">\n<path style=\"stroke:none;\" d=\"\"/>\n</symbol>\n<symbol overflow=\"visible\" id=\"glyph-1646190839050995-3-1\">\n<path style=\"stroke:none;\" d=\"M 6.359375 -1.71875 C 6.484375 -1.71875 6.75 -1.71875 6.75 -1.984375 C 6.75 -2.25 6.484375 -2.25 6.359375 -2.25 L 1.1875 -2.25 C 1.078125 -2.25 0.8125 -2.25 0.8125 -1.984375 C 0.8125 -1.71875 1.078125 -1.71875 1.1875 -1.71875 Z M 6.359375 -1.71875 \"/>\n</symbol>\n<symbol overflow=\"visible\" id=\"glyph-1646190839050995-4-0\">\n<path style=\"stroke:none;\" d=\"\"/>\n</symbol>\n<symbol overflow=\"visible\" id=\"glyph-1646190839050995-4-1\">\n<path style=\"stroke:none;\" d=\"M 3.015625 -4.953125 C 3.015625 -5.21875 2.953125 -5.21875 2.640625 -5.21875 C 2.15625 -4.84375 1.53125 -4.71875 0.90625 -4.71875 L 0.734375 -4.71875 L 0.734375 -4.296875 L 0.90625 -4.296875 C 1.109375 -4.296875 1.546875 -4.328125 2 -4.453125 L 2 -0.40625 L 0.8125 -0.40625 L 0.8125 0 C 1.09375 -0.03125 2.140625 -0.03125 2.5 -0.03125 C 2.859375 -0.03125 3.890625 -0.03125 4.1875 0 L 4.1875 -0.40625 L 3.015625 -0.40625 Z M 3.015625 -4.953125 \"/>\n</symbol>\n<symbol overflow=\"visible\" id=\"glyph-1646190839050995-4-2\">\n<path style=\"stroke:none;\" d=\"M 4.484375 -2.53125 C 4.484375 -3.453125 4.40625 -5.21875 2.421875 -5.21875 C 0.4375 -5.21875 0.375 -3.4375 0.375 -2.53125 C 0.375 -1.640625 0.4375 0.109375 2.421875 0.109375 C 4.421875 0.109375 4.484375 -1.65625 4.484375 -2.53125 Z M 2.421875 -0.21875 C 2.21875 -0.21875 2 -0.296875 1.828125 -0.4375 C 1.578125 -0.65625 1.453125 -0.765625 1.453125 -2.625 C 1.453125 -3.203125 1.453125 -3.78125 1.53125 -4.171875 C 1.640625 -4.734375 2.125 -4.890625 2.421875 -4.890625 C 2.625 -4.890625 3.21875 -4.84375 3.34375 -4.09375 C 3.40625 -3.703125 3.40625 -3.09375 3.40625 -2.625 C 3.40625 -0.8125 3.296875 -0.703125 3.046875 -0.453125 C 2.984375 -0.390625 2.765625 -0.21875 2.421875 -0.21875 Z M 2.421875 -0.21875 \"/>\n</symbol>\n</g>\n</defs>\n<g id=\"surface1\">\n<g style=\"fill:rgb(0%,0%,0%);fill-opacity:1;\">\n  <use xlink:href=\"#glyph-1646190839050995-0-1\" x=\"19.552352\" y=\"16.196877\"/>\n</g>\n<g style=\"fill:rgb(0%,0%,0%);fill-opacity:1;\">\n  <use xlink:href=\"#glyph-1646190839050995-1-1\" x=\"27.395459\" y=\"16.196877\"/>\n</g>\n<g style=\"fill:rgb(0%,0%,0%);fill-opacity:1;\">\n  <use xlink:href=\"#glyph-1646190839050995-0-2\" x=\"31.11444\" y=\"16.196877\"/>\n</g>\n<g style=\"fill:rgb(0%,0%,0%);fill-opacity:1;\">\n  <use xlink:href=\"#glyph-1646190839050995-1-2\" x=\"39.599608\" y=\"16.196877\"/>\n</g>\n<path style=\" stroke:none;fill-rule:nonzero;fill:rgb(0%,0%,0%);fill-opacity:1;\" d=\"M 97.226562 13.222656 C 97.226562 11.578125 95.894531 10.246094 94.25 10.246094 C 92.609375 10.246094 91.277344 11.578125 91.277344 13.222656 C 91.277344 14.863281 92.609375 16.195312 94.25 16.195312 C 95.894531 16.195312 97.226562 14.863281 97.226562 13.222656 Z M 97.226562 13.222656 \"/>\n<path style=\"fill:none;stroke-width:1.0959;stroke-linecap:butt;stroke-linejoin:miter;stroke:rgb(0%,0%,0%);stroke-opacity:1;stroke-miterlimit:10;\" d=\"M 8.455925 -0.00116846 C 8.455925 4.672466 4.669143 8.455324 -0.000567586 8.455324 C -4.670278 8.455324 -8.45706 4.672466 -8.45706 -0.00116846 C -8.45706 -4.670879 -4.670278 -8.457661 -0.000567586 -8.457661 C 4.669143 -8.457661 8.455925 -4.670879 8.455925 -0.00116846 Z M 8.455925 -0.00116846 \" transform=\"matrix(0.995444,0,0,-0.995444,139.250565,13.221493)\"/>\n<g style=\"fill:rgb(0%,0%,0%);fill-opacity:1;\">\n  <use xlink:href=\"#glyph-1646190839050995-2-1\" x=\"133.927924\" y=\"16.196877\"/>\n</g>\n<path style=\"fill:none;stroke-width:1.0959;stroke-linecap:butt;stroke-linejoin:miter;stroke:rgb(0%,0%,0%);stroke-opacity:1;stroke-miterlimit:10;\" d=\"M 8.302276 -0.00116846 C 8.302276 4.586136 4.586128 8.302283 -0.00117572 8.302283 C -4.584556 8.302283 -8.300703 4.586136 -8.300703 -0.00116846 C -8.300703 -4.584548 -4.584556 -8.300696 -0.00117572 -8.300696 C 4.586128 -8.300696 8.302276 -4.584548 8.302276 -0.00116846 Z M 8.302276 -0.00116846 \" transform=\"matrix(0.995444,0,0,-0.995444,177.637889,13.221493)\"/>\n<g style=\"fill:rgb(0%,0%,0%);fill-opacity:1;\">\n  <use xlink:href=\"#glyph-1646190839050995-1-3\" x=\"172.430719\" y=\"16.196877\"/>\n</g>\n<path style=\"fill:none;stroke-width:1.0959;stroke-linecap:butt;stroke-linejoin:miter;stroke:rgb(0%,0%,0%);stroke-opacity:1;stroke-miterlimit:10;\" d=\"M 8.301802 -0.00116846 C 8.301802 4.586136 4.585654 8.302283 -0.0016501 8.302283 C -4.58503 8.302283 -8.301178 4.586136 -8.301178 -0.00116846 C -8.301178 -4.584548 -4.58503 -8.300696 -0.0016501 -8.300696 C 4.585654 -8.300696 8.301802 -4.584548 8.301802 -0.00116846 Z M 8.301802 -0.00116846 \" transform=\"matrix(0.995444,0,0,-0.995444,215.091486,13.221493)\"/>\n<g style=\"fill:rgb(0%,0%,0%);fill-opacity:1;\">\n  <use xlink:href=\"#glyph-1646190839050995-1-3\" x=\"209.885312\" y=\"16.196877\"/>\n</g>\n<path style=\" stroke:none;fill-rule:nonzero;fill:rgb(0%,0%,0%);fill-opacity:1;\" d=\"M 302.785156 13.222656 C 302.785156 11.578125 301.453125 10.246094 299.8125 10.246094 C 298.167969 10.246094 296.835938 11.578125 296.835938 13.222656 C 296.835938 14.863281 298.167969 16.195312 299.8125 16.195312 C 301.453125 16.195312 302.785156 14.863281 302.785156 13.222656 Z M 302.785156 13.222656 \"/>\n<g style=\"fill:rgb(0%,0%,0%);fill-opacity:1;\">\n  <use xlink:href=\"#glyph-1646190839050995-0-3\" x=\"350.744683\" y=\"16.196877\"/>\n</g>\n<g style=\"fill:rgb(0%,0%,0%);fill-opacity:1;\">\n  <use xlink:href=\"#glyph-1646190839050995-1-1\" x=\"358.210516\" y=\"16.196877\"/>\n</g>\n<g style=\"fill:rgb(0%,0%,0%);fill-opacity:1;\">\n  <use xlink:href=\"#glyph-1646190839050995-0-2\" x=\"361.929496\" y=\"16.196877\"/>\n</g>\n<g style=\"fill:rgb(0%,0%,0%);fill-opacity:1;\">\n  <use xlink:href=\"#glyph-1646190839050995-1-2\" x=\"370.413669\" y=\"16.196877\"/>\n</g>\n<path style=\"fill:none;stroke-width:1.0959;stroke-linecap:butt;stroke-linejoin:miter;stroke:rgb(0%,0%,0%);stroke-opacity:1;stroke-miterlimit:10;\" d=\"M -14.94458 -14.942485 L 14.945492 -14.942485 L 14.945492 14.943663 L -14.94458 14.943663 Z M -14.94458 -14.942485 \" transform=\"matrix(0.995444,0,0,-0.995444,94.251499,48.477149)\"/>\n<g style=\"fill:rgb(0%,0%,0%);fill-opacity:1;\">\n  <use xlink:href=\"#glyph-1646190839050995-0-4\" x=\"84.240314\" y=\"53.248314\"/>\n</g>\n<g style=\"fill:rgb(0%,0%,0%);fill-opacity:1;\">\n  <use xlink:href=\"#glyph-1646190839050995-3-1\" x=\"91.347787\" y=\"48.929081\"/>\n</g>\n<g style=\"fill:rgb(0%,0%,0%);fill-opacity:1;\">\n  <use xlink:href=\"#glyph-1646190839050995-4-1\" x=\"98.907193\" y=\"48.929081\"/>\n</g>\n<g style=\"fill:rgb(0%,0%,0%);fill-opacity:1;\">\n  <use xlink:href=\"#glyph-1646190839050995-0-5\" x=\"133.473005\" y=\"51.717321\"/>\n</g>\n<g style=\"fill:rgb(0%,0%,0%);fill-opacity:1;\">\n  <use xlink:href=\"#glyph-1646190839050995-4-2\" x=\"139.671638\" y=\"53.502153\"/>\n</g>\n<path style=\"fill:none;stroke-width:1.0959;stroke-linecap:butt;stroke-linejoin:miter;stroke:rgb(0%,0%,0%);stroke-opacity:1;stroke-miterlimit:10;\" d=\"M -14.942343 -14.942485 L 14.943805 -14.942485 L 14.943805 14.943663 L -14.942343 14.943663 Z M -14.942343 -14.942485 \" transform=\"matrix(0.995444,0,0,-0.995444,299.811772,48.477149)\"/>\n<g style=\"fill:rgb(0%,0%,0%);fill-opacity:1;\">\n  <use xlink:href=\"#glyph-1646190839050995-0-4\" x=\"289.800587\" y=\"53.248314\"/>\n</g>\n<g style=\"fill:rgb(0%,0%,0%);fill-opacity:1;\">\n  <use xlink:href=\"#glyph-1646190839050995-3-1\" x=\"296.908061\" y=\"48.929081\"/>\n</g>\n<g style=\"fill:rgb(0%,0%,0%);fill-opacity:1;\">\n  <use xlink:href=\"#glyph-1646190839050995-4-1\" x=\"304.467466\" y=\"48.929081\"/>\n</g>\n<g style=\"fill:rgb(0%,0%,0%);fill-opacity:1;\">\n  <use xlink:href=\"#glyph-1646190839050995-0-1\" x=\"7.841944\" y=\"86.708188\"/>\n</g>\n<g style=\"fill:rgb(0%,0%,0%);fill-opacity:1;\">\n  <use xlink:href=\"#glyph-1646190839050995-1-1\" x=\"15.685051\" y=\"86.708188\"/>\n</g>\n<g style=\"fill:rgb(0%,0%,0%);fill-opacity:1;\">\n  <use xlink:href=\"#glyph-1646190839050995-0-2\" x=\"19.404031\" y=\"86.708188\"/>\n</g>\n<g style=\"fill:rgb(0%,0%,0%);fill-opacity:1;\">\n  <use xlink:href=\"#glyph-1646190839050995-2-2\" x=\"30.930282\" y=\"86.708188\"/>\n</g>\n<g style=\"fill:rgb(0%,0%,0%);fill-opacity:1;\">\n  <use xlink:href=\"#glyph-1646190839050995-1-4\" x=\"44.615653\" y=\"86.708188\"/>\n  <use xlink:href=\"#glyph-1646190839050995-1-2\" x=\"51.309801\" y=\"86.708188\"/>\n</g>\n<path style=\" stroke:none;fill-rule:nonzero;fill:rgb(0%,0%,0%);fill-opacity:1;\" d=\"M 97.226562 83.734375 C 97.226562 82.089844 95.894531 80.757812 94.25 80.757812 C 92.609375 80.757812 91.277344 82.089844 91.277344 83.734375 C 91.277344 85.375 92.609375 86.707031 94.25 86.707031 C 95.894531 86.707031 97.226562 85.375 97.226562 83.734375 Z M 97.226562 83.734375 \"/>\n<path style=\"fill:none;stroke-width:1.0959;stroke-linecap:butt;stroke-linejoin:miter;stroke:rgb(0%,0%,0%);stroke-opacity:1;stroke-miterlimit:10;\" d=\"M 8.455925 -0.0015773 C 8.455925 4.672057 4.669143 8.45884 -0.000567586 8.45884 C -4.670278 8.45884 -8.45706 4.672057 -8.45706 -0.0015773 C -8.45706 -4.671288 -4.670278 -8.45807 -0.000567586 -8.45807 C 4.669143 -8.45807 8.455925 -4.671288 8.455925 -0.0015773 Z M 8.455925 -0.0015773 \" transform=\"matrix(0.995444,0,0,-0.995444,139.250565,83.732805)\"/>\n<g style=\"fill:rgb(0%,0%,0%);fill-opacity:1;\">\n  <use xlink:href=\"#glyph-1646190839050995-2-1\" x=\"133.927924\" y=\"86.708188\"/>\n</g>\n<path style=\"fill:none;stroke-width:1.0959;stroke-linecap:butt;stroke-linejoin:miter;stroke:rgb(0%,0%,0%);stroke-opacity:1;stroke-miterlimit:10;\" d=\"M 8.302276 -0.0015773 C 8.302276 4.585727 4.586128 8.301875 -0.00117572 8.301875 C -4.584556 8.301875 -8.300703 4.585727 -8.300703 -0.0015773 C -8.300703 -4.584957 -4.584556 -8.301105 -0.00117572 -8.301105 C 4.586128 -8.301105 8.302276 -4.584957 8.302276 -0.0015773 Z M 8.302276 -0.0015773 \" transform=\"matrix(0.995444,0,0,-0.995444,177.637889,83.732805)\"/>\n<g style=\"fill:rgb(0%,0%,0%);fill-opacity:1;\">\n  <use xlink:href=\"#glyph-1646190839050995-1-3\" x=\"172.430719\" y=\"86.708188\"/>\n</g>\n<path style=\"fill:none;stroke-width:1.0959;stroke-linecap:butt;stroke-linejoin:miter;stroke:rgb(0%,0%,0%);stroke-opacity:1;stroke-miterlimit:10;\" d=\"M 8.301802 -0.0015773 C 8.301802 4.585727 4.585654 8.301875 -0.0016501 8.301875 C -4.58503 8.301875 -8.301178 4.585727 -8.301178 -0.0015773 C -8.301178 -4.584957 -4.58503 -8.301105 -0.0016501 -8.301105 C 4.585654 -8.301105 8.301802 -4.584957 8.301802 -0.0015773 Z M 8.301802 -0.0015773 \" transform=\"matrix(0.995444,0,0,-0.995444,215.091486,83.732805)\"/>\n<g style=\"fill:rgb(0%,0%,0%);fill-opacity:1;\">\n  <use xlink:href=\"#glyph-1646190839050995-1-3\" x=\"209.885312\" y=\"86.708188\"/>\n</g>\n<path style=\"fill:none;stroke-width:1.0959;stroke-linecap:butt;stroke-linejoin:miter;stroke:rgb(0%,0%,0%);stroke-opacity:1;stroke-miterlimit:10;\" d=\"M 8.45526 -0.0015773 C 8.45526 4.672057 4.672402 8.45884 -0.00123259 8.45884 C -4.670943 8.45884 -8.457725 4.672057 -8.457725 -0.0015773 C -8.457725 -4.671288 -4.670943 -8.45807 -0.00123259 -8.45807 C 4.672402 -8.45807 8.45526 -4.671288 8.45526 -0.0015773 Z M 8.45526 -0.0015773 \" transform=\"matrix(0.995444,0,0,-0.995444,254.145758,83.732805)\"/>\n<g style=\"fill:rgb(0%,0%,0%);fill-opacity:1;\">\n  <use xlink:href=\"#glyph-1646190839050995-2-1\" x=\"248.824112\" y=\"86.708188\"/>\n</g>\n<path style=\" stroke:none;fill-rule:nonzero;fill:rgb(0%,0%,0%);fill-opacity:1;\" d=\"M 302.785156 83.734375 C 302.785156 82.089844 301.453125 80.757812 299.8125 80.757812 C 298.167969 80.757812 296.835938 82.089844 296.835938 83.734375 C 296.835938 85.375 298.167969 86.707031 299.8125 86.707031 C 301.453125 86.707031 302.785156 85.375 302.785156 83.734375 Z M 302.785156 83.734375 \"/>\n<g style=\"fill:rgb(0%,0%,0%);fill-opacity:1;\">\n  <use xlink:href=\"#glyph-1646190839050995-0-3\" x=\"339.034274\" y=\"86.708188\"/>\n</g>\n<g style=\"fill:rgb(0%,0%,0%);fill-opacity:1;\">\n  <use xlink:href=\"#glyph-1646190839050995-1-1\" x=\"346.499112\" y=\"86.708188\"/>\n</g>\n<g style=\"fill:rgb(0%,0%,0%);fill-opacity:1;\">\n  <use xlink:href=\"#glyph-1646190839050995-0-2\" x=\"350.218092\" y=\"86.708188\"/>\n</g>\n<g style=\"fill:rgb(0%,0%,0%);fill-opacity:1;\">\n  <use xlink:href=\"#glyph-1646190839050995-2-2\" x=\"361.744344\" y=\"86.708188\"/>\n</g>\n<g style=\"fill:rgb(0%,0%,0%);fill-opacity:1;\">\n  <use xlink:href=\"#glyph-1646190839050995-1-4\" x=\"375.430709\" y=\"86.708188\"/>\n  <use xlink:href=\"#glyph-1646190839050995-1-2\" x=\"382.124857\" y=\"86.708188\"/>\n</g>\n<g style=\"fill:rgb(0%,0%,0%);fill-opacity:1;\">\n  <use xlink:href=\"#glyph-1646190839050995-0-5\" x=\"133.473005\" y=\"115.798061\"/>\n</g>\n<g style=\"fill:rgb(0%,0%,0%);fill-opacity:1;\">\n  <use xlink:href=\"#glyph-1646190839050995-4-1\" x=\"139.671638\" y=\"117.582893\"/>\n</g>\n<g style=\"fill:rgb(0%,0%,0%);fill-opacity:1;\">\n  <use xlink:href=\"#glyph-1646190839050995-0-6\" x=\"247.702246\" y=\"114.309872\"/>\n</g>\n<g style=\"fill:rgb(0%,0%,0%);fill-opacity:1;\">\n  <use xlink:href=\"#glyph-1646190839050995-4-1\" x=\"255.233779\" y=\"116.094704\"/>\n</g>\n<path style=\"fill:none;stroke-width:1.0959;stroke-linecap:butt;stroke-linejoin:miter;stroke:rgb(0%,0%,0%);stroke-opacity:1;stroke-miterlimit:10;\" d=\"M -149.696826 49.429832 L -72.332671 49.429832 \" transform=\"matrix(0.995444,0,0,-0.995444,196.842999,62.427307)\"/>\n<path style=\" stroke:none;fill-rule:nonzero;fill:rgb(0%,0%,0%);fill-opacity:1;\" d=\"M 130.285156 13.222656 C 128.671875 12.917969 126.050781 12.011719 124.234375 10.953125 L 124.234375 15.488281 C 126.050781 14.429688 128.671875 13.523438 130.285156 13.222656 \"/>\n<path style=\"fill:none;stroke-width:1.0959;stroke-linecap:butt;stroke-linejoin:miter;stroke:rgb(0%,0%,0%);stroke-opacity:1;stroke-miterlimit:10;\" d=\"M -48.850697 49.429832 L -33.613314 49.429832 \" transform=\"matrix(0.995444,0,0,-0.995444,196.842999,62.427307)\"/>\n<path style=\" stroke:none;fill-rule:nonzero;fill:rgb(0%,0%,0%);fill-opacity:1;\" d=\"M 168.828125 13.222656 C 167.214844 12.917969 164.59375 12.011719 162.777344 10.953125 L 162.777344 15.488281 C 164.59375 14.429688 167.214844 13.523438 168.828125 13.222656 \"/>\n<path style=\"fill:none;stroke-width:1.0959;stroke-linecap:butt;stroke-linejoin:miter;stroke:rgb(0%,0%,0%);stroke-opacity:1;stroke-miterlimit:10;\" d=\"M -10.441346 49.429832 L 4.011212 49.429832 \" transform=\"matrix(0.995444,0,0,-0.995444,196.842999,62.427307)\"/>\n<path style=\" stroke:none;fill-rule:nonzero;fill:rgb(0%,0%,0%);fill-opacity:1;\" d=\"M 206.28125 13.222656 C 204.667969 12.917969 202.046875 12.011719 200.234375 10.953125 L 200.234375 15.488281 C 202.046875 14.429688 204.667969 13.523438 206.28125 13.222656 \"/>\n<path style=\"fill:none;stroke-width:1.0959;stroke-linecap:butt;stroke-linejoin:miter;stroke:rgb(0%,0%,0%);stroke-opacity:1;stroke-miterlimit:10;\" d=\"M 27.183179 49.429832 L 144.604819 49.429832 \" transform=\"matrix(0.995444,0,0,-0.995444,196.842999,62.427307)\"/>\n<path style=\" stroke:none;fill-rule:nonzero;fill:rgb(0%,0%,0%);fill-opacity:1;\" d=\"M 346.234375 13.222656 C 344.621094 12.917969 342 12.011719 340.183594 10.953125 L 340.183594 15.488281 C 342 14.429688 344.621094 13.523438 346.234375 13.222656 \"/>\n<path style=\"fill:none;stroke-width:1.0959;stroke-linecap:butt;stroke-linejoin:miter;stroke:rgb(0%,0%,0%);stroke-opacity:1;stroke-miterlimit:10;\" d=\"M -103.062506 46.443571 L -103.062506 34.977273 \" transform=\"matrix(0.995444,0,0,-0.995444,196.842999,62.427307)\"/>\n<path style=\" stroke:none;fill-rule:nonzero;fill:rgb(0%,0%,0%);fill-opacity:1;\" d=\"M 94.25 33.054688 C 94.550781 31.441406 95.460938 28.820312 96.519531 27.007812 L 91.980469 27.007812 C 93.039062 28.820312 93.949219 31.441406 94.25 33.054688 \"/>\n<path style=\"fill:none;stroke-width:1.0959;stroke-linecap:butt;stroke-linejoin:miter;stroke:rgb(0%,0%,0%);stroke-opacity:1;stroke-miterlimit:10;\" d=\"M -103.062506 -1.477863 L -103.062506 -18.414393 \" transform=\"matrix(0.995444,0,0,-0.995444,196.842999,62.427307)\"/>\n<path style=\"fill:none;stroke-width:1.0959;stroke-linecap:butt;stroke-linejoin:miter;stroke:rgb(0%,0%,0%);stroke-opacity:1;stroke-miterlimit:10;\" d=\"M -100.072321 -21.404577 L -72.332671 -21.404577 \" transform=\"matrix(0.995444,0,0,-0.995444,196.842999,62.427307)\"/>\n<path style=\" stroke:none;fill-rule:nonzero;fill:rgb(0%,0%,0%);fill-opacity:1;\" d=\"M 130.285156 83.734375 C 128.671875 83.429688 126.050781 82.523438 124.234375 81.464844 L 124.234375 86 C 126.050781 84.941406 128.671875 84.035156 130.285156 83.734375 \"/>\n<path style=\"fill:none;stroke-width:1.0959;stroke-linecap:butt;stroke-linejoin:miter;stroke:rgb(0%,0%,0%);stroke-opacity:1;stroke-miterlimit:10;\" d=\"M -48.850697 -21.404577 L -33.613314 -21.404577 \" transform=\"matrix(0.995444,0,0,-0.995444,196.842999,62.427307)\"/>\n<path style=\" stroke:none;fill-rule:nonzero;fill:rgb(0%,0%,0%);fill-opacity:1;\" d=\"M 168.828125 83.734375 C 167.214844 83.429688 164.59375 82.523438 162.777344 81.464844 L 162.777344 86 C 164.59375 84.941406 167.214844 84.035156 168.828125 83.734375 \"/>\n<path style=\"fill:none;stroke-width:1.0959;stroke-linecap:butt;stroke-linejoin:miter;stroke:rgb(0%,0%,0%);stroke-opacity:1;stroke-miterlimit:10;\" d=\"M -19.294176 -12.551748 L -19.294176 35.110694 \" transform=\"matrix(0.995444,0,0,-0.995444,196.842999,62.427307)\"/>\n<path style=\" stroke:none;fill-rule:nonzero;fill:rgb(0%,0%,0%);fill-opacity:1;\" d=\"M 177.636719 22.03125 C 177.335938 23.644531 176.429688 26.265625 175.371094 28.082031 L 179.90625 28.082031 C 178.847656 26.265625 177.941406 23.644531 177.636719 22.03125 \"/>\n<path style=\"fill:none;stroke-width:1.0959;stroke-linecap:butt;stroke-linejoin:miter;stroke:rgb(0%,0%,0%);stroke-opacity:1;stroke-miterlimit:10;\" d=\"M 103.440731 46.443571 L 103.440731 34.977273 \" transform=\"matrix(0.995444,0,0,-0.995444,196.842999,62.427307)\"/>\n<path style=\" stroke:none;fill-rule:nonzero;fill:rgb(0%,0%,0%);fill-opacity:1;\" d=\"M 299.8125 33.054688 C 300.117188 31.441406 301.023438 28.820312 302.082031 27.007812 L 297.542969 27.007812 C 298.601562 28.820312 299.511719 31.441406 299.8125 33.054688 \"/>\n<path style=\"fill:none;stroke-width:1.0959;stroke-linecap:butt;stroke-linejoin:miter;stroke:rgb(0%,0%,0%);stroke-opacity:1;stroke-miterlimit:10;\" d=\"M 103.440731 -1.477863 L 103.440731 -18.414393 \" transform=\"matrix(0.995444,0,0,-0.995444,196.842999,62.427307)\"/>\n<path style=\"fill:none;stroke-width:1.0959;stroke-linecap:butt;stroke-linejoin:miter;stroke:rgb(0%,0%,0%);stroke-opacity:1;stroke-miterlimit:10;\" d=\"M 100.454471 -21.404577 L 72.03987 -21.404577 \" transform=\"matrix(0.995444,0,0,-0.995444,196.842999,62.427307)\"/>\n<path style=\" stroke:none;fill-rule:nonzero;fill:rgb(0%,0%,0%);fill-opacity:1;\" d=\"M 263.109375 83.734375 C 264.722656 84.035156 267.347656 84.941406 269.160156 86 L 269.160156 81.464844 C 267.347656 82.523438 264.722656 83.429688 263.109375 83.734375 \"/>\n<path style=\"fill:none;stroke-width:1.0959;stroke-linecap:butt;stroke-linejoin:miter;stroke:rgb(0%,0%,0%);stroke-opacity:1;stroke-miterlimit:10;\" d=\"M 48.561821 -21.404577 L 32.653412 -21.404577 \" transform=\"matrix(0.995444,0,0,-0.995444,196.842999,62.427307)\"/>\n<path style=\" stroke:none;fill-rule:nonzero;fill:rgb(0%,0%,0%);fill-opacity:1;\" d=\"M 223.902344 83.734375 C 225.515625 84.035156 228.136719 84.941406 229.953125 86 L 229.953125 81.464844 C 228.136719 82.523438 225.515625 83.429688 223.902344 83.734375 \"/>\n<path style=\"fill:none;stroke-width:1.0959;stroke-linecap:butt;stroke-linejoin:miter;stroke:rgb(0%,0%,0%);stroke-opacity:1;stroke-miterlimit:10;\" d=\"M 18.334274 -12.551748 L 18.334274 35.110694 \" transform=\"matrix(0.995444,0,0,-0.995444,196.842999,62.427307)\"/>\n<path style=\" stroke:none;fill-rule:nonzero;fill:rgb(0%,0%,0%);fill-opacity:1;\" d=\"M 215.09375 22.03125 C 214.789062 23.644531 213.882812 26.265625 212.824219 28.082031 L 217.359375 28.082031 C 216.300781 26.265625 215.394531 23.644531 215.09375 22.03125 \"/>\n<path style=\"fill:none;stroke-width:1.0959;stroke-linecap:butt;stroke-linejoin:miter;stroke:rgb(0%,0%,0%);stroke-opacity:1;stroke-miterlimit:10;\" d=\"M -57.856568 23.593382 L -57.856568 34.957653 \" transform=\"matrix(0.995444,0,0,-0.995444,196.842999,62.427307)\"/>\n<path style=\" stroke:none;fill-rule:nonzero;fill:rgb(0%,0%,0%);fill-opacity:1;\" d=\"M 139.25 22.183594 C 138.949219 23.796875 138.039062 26.421875 136.980469 28.234375 L 141.519531 28.234375 C 140.460938 26.421875 139.550781 23.796875 139.25 22.183594 \"/>\n<path style=\"fill:none;stroke-width:1.0959;stroke-linecap:butt;stroke-linejoin:miter;stroke:rgb(0%,0%,0%);stroke-opacity:1;stroke-miterlimit:10;\" d=\"M -57.856568 -40.781914 L -57.856568 -35.876756 \" transform=\"matrix(0.995444,0,0,-0.995444,196.842999,62.427307)\"/>\n<path style=\" stroke:none;fill-rule:nonzero;fill:rgb(0%,0%,0%);fill-opacity:1;\" d=\"M 139.25 92.699219 C 138.949219 94.308594 138.039062 96.933594 136.980469 98.746094 L 141.519531 98.746094 C 140.460938 96.933594 139.550781 94.308594 139.25 92.699219 \"/>\n<path style=\"fill:none;stroke-width:1.0959;stroke-linecap:butt;stroke-linejoin:miter;stroke:rgb(0%,0%,0%);stroke-opacity:1;stroke-miterlimit:10;\" d=\"M 57.567692 -42.273082 L 57.567692 -35.876756 \" transform=\"matrix(0.995444,0,0,-0.995444,196.842999,62.427307)\"/>\n<path style=\" stroke:none;fill-rule:nonzero;fill:rgb(0%,0%,0%);fill-opacity:1;\" d=\"M 254.148438 92.699219 C 253.84375 94.308594 252.9375 96.933594 251.878906 98.746094 L 256.414062 98.746094 C 255.355469 96.933594 254.449219 94.308594 254.148438 92.699219 \"/>\n</g>\n</svg>\n\n",
      "text/plain": [
       "TikzPicture(L\"    % The default rendering is too small and thin in a jupyter notebook.\n",
       "    % We also need the option (in options=, below) \\\"font=\\\\boldmath\\\" to get more legible fonts.\n",
       "    \\def\\nodefontsize{\\large}\n",
       "    \\pgfsetlinewidth{1.1pt}\n",
       "    \n",
       "\n",
       "    % define element styles\n",
       "    \\tikzstyle{var}    = [node font=\\nodefontsize]\n",
       "    \\tikzstyle{block}  = [draw, shape=rectangle, minimum height=2.5em, minimum width=2.5em, node font=\\nodefontsize]\n",
       "    \\tikzstyle{branch} = [fill, shape=circle, minimum size=6pt, inner sep=0pt, outer sep=0pt]\n",
       "    \\tikzstyle{sum}    = [draw, circle, node font=\\nodefontsize, inner sep=1pt]\n",
       "    \\tikzstyle{prod}   = [draw, circle, node font=\\nodefontsize, inner sep=1pt]\n",
       "\n",
       "    % define macros for different nodes types\n",
       "    \\def\\vn#1#2{\\node [var]    (#1) {#2};} % variable node\n",
       "    \\def\\bn#1  {\\node [branch] (#1) {};}\n",
       "    \\def\\sn#1  {\\node [sum]    (#1) {$+$};}\n",
       "    \\def\\pn#1  {\\node [prod]   (#1) {$\\times$};}\n",
       "    \\def\\dn#1  {\\node [block]  (#1) {$z^{-1}$};} % delay node\n",
       "\n",
       "    % create nodes\n",
       "    \\matrix[row sep=10pt, column sep=20pt] {\n",
       "        \\vn{i11}{$x[n]$}   & \\bn{b12} & \\pn{p13}        & \\sn{s14} & \\sn{s15} &                 & \\bn{b17} & \\vn{o18}{$y[n]$} \\\\\n",
       "                           & \\dn{d22} & \\vn{v23}{$b_0$} &          &          &                 & \\dn{d27} & \\\\\n",
       "        \\vn{i31}{$x[n-1]$} & \\bn{b32} & \\pn{p33}        & \\sn{s34} & \\sn{s35} & \\pn{p36}        & \\bn{b37} & \\vn{o38}{$y[n-1]$} \\\\\n",
       "                           &          & \\vn{v43}{$b_1$} &          &          & \\vn{v46}{$a_1$} &          & \\\\\n",
       "    };\n",
       "\n",
       "    % connect nodes by paths\n",
       "    \\foreach \\x [remember=\\x as \\lastx (initially i11)] in {p13, s14, s15, o18}{\n",
       "        \\draw[->] (\\lastx) -- (\\x);\n",
       "    }\n",
       "    \\foreach \\x/\\tip [remember=\\x as \\lastx (initially b12)] in {d22/->, b32/-, p33/->, s34/->, s14/->}{\n",
       "        \\draw[\\tip] (\\lastx) -- (\\x);\n",
       "    }\n",
       "    \\foreach \\x/\\tip [remember=\\x as \\lastx (initially b17)] in {d27/->, b37/-, p36/->, s35/->, s15/->}{\n",
       "        \\draw[\\tip] (\\lastx) -- (\\x);\n",
       "    }\n",
       "\n",
       "    % connect variables\n",
       "    \\foreach \\x/\\y in {v23/p13, v43/p33, v46/p36}{\n",
       "        \\draw[->] (\\x) -- (\\y);\n",
       "    }\n",
       "\n",
       "    % Normally, these options make the whole plot larger, thicker, and more legible,\n",
       "    % but they don't seem to work with matrix.\n",
       "    % options=\\\"scale=1.25, thick, transform shape, auto, thick\\\"\n",
       "    % Instead, we just use font=\\\\boldmath (note the escaped \\) to make it look more like katex.\n",
       "\", \"font=\\\\boldmath, >=latex\", \"\", \"tikzpicture\", \"\", \"\", true, true)"
      ]
     },
     "metadata": {},
     "output_type": "display_data"
    }
   ],
   "source": [
    "fig = TikzPicture(L\"\"\"\n",
    "    % The default rendering is too small and thin in a jupyter notebook.\n",
    "    % We also need the option (in options=, below) \"font=\\\\boldmath\" to get more legible fonts.\n",
    "    \\def\\nodefontsize{\\large}\n",
    "    \\pgfsetlinewidth{1.1pt}\n",
    "    \n",
    "\n",
    "    % define element styles\n",
    "    \\tikzstyle{var}    = [node font=\\nodefontsize]\n",
    "    \\tikzstyle{block}  = [draw, shape=rectangle, minimum height=2.5em, minimum width=2.5em, node font=\\nodefontsize]\n",
    "    \\tikzstyle{branch} = [fill, shape=circle, minimum size=6pt, inner sep=0pt, outer sep=0pt]\n",
    "    \\tikzstyle{sum}    = [draw, circle, node font=\\nodefontsize, inner sep=1pt]\n",
    "    \\tikzstyle{prod}   = [draw, circle, node font=\\nodefontsize, inner sep=1pt]\n",
    "\n",
    "    % define macros for different nodes types\n",
    "    \\def\\vn#1#2{\\node [var]    (#1) {#2};} % variable node\n",
    "    \\def\\bn#1  {\\node [branch] (#1) {};}\n",
    "    \\def\\sn#1  {\\node [sum]    (#1) {$+$};}\n",
    "    \\def\\pn#1  {\\node [prod]   (#1) {$\\times$};}\n",
    "    \\def\\dn#1  {\\node [block]  (#1) {$z^{-1}$};} % delay node\n",
    "\n",
    "    % create nodes\n",
    "    \\matrix[row sep=10pt, column sep=20pt] {\n",
    "        \\vn{i11}{$x[n]$}   & \\bn{b12} & \\pn{p13}        & \\sn{s14} & \\sn{s15} &                 & \\bn{b17} & \\vn{o18}{$y[n]$} \\\\\n",
    "                           & \\dn{d22} & \\vn{v23}{$b_0$} &          &          &                 & \\dn{d27} & \\\\\n",
    "        \\vn{i31}{$x[n-1]$} & \\bn{b32} & \\pn{p33}        & \\sn{s34} & \\sn{s35} & \\pn{p36}        & \\bn{b37} & \\vn{o38}{$y[n-1]$} \\\\\n",
    "                           &          & \\vn{v43}{$b_1$} &          &          & \\vn{v46}{$a_1$} &          & \\\\\n",
    "    };\n",
    "\n",
    "    % connect nodes by paths\n",
    "    \\foreach \\x [remember=\\x as \\lastx (initially i11)] in {p13, s14, s15, o18}{\n",
    "        \\draw[->] (\\lastx) -- (\\x);\n",
    "    }\n",
    "    \\foreach \\x/\\tip [remember=\\x as \\lastx (initially b12)] in {d22/->, b32/-, p33/->, s34/->, s14/->}{\n",
    "        \\draw[\\tip] (\\lastx) -- (\\x);\n",
    "    }\n",
    "    \\foreach \\x/\\tip [remember=\\x as \\lastx (initially b17)] in {d27/->, b37/-, p36/->, s35/->, s15/->}{\n",
    "        \\draw[\\tip] (\\lastx) -- (\\x);\n",
    "    }\n",
    "\n",
    "    % connect variables\n",
    "    \\foreach \\x/\\y in {v23/p13, v43/p33, v46/p36}{\n",
    "        \\draw[->] (\\x) -- (\\y);\n",
    "    }\n",
    "\n",
    "    % Normally, these options make the whole plot larger, thicker, and more legible,\n",
    "    % but they don't seem to work with matrix.\n",
    "    % options=\"scale=1.25, thick, transform shape, auto, thick\"\n",
    "    % Instead, we just use font=\\\\boldmath (note the escaped \\) to make it look more like katex.\n",
    "\"\"\", options=\"font=\\\\boldmath, >=latex\")"
   ]
  },
  {
   "cell_type": "markdown",
   "metadata": {},
   "source": [
    "This is a simple case of a general class of filters called \"IIR filters\" for infinite impulse response, which these filters have due to the feedback.  Different settings of the parameters will result in different response properties.  This particular example is called a first order IIR filter, because it's response can be characterized as a ratio of first order polynomials.  That analysis is beyond the scope of this course (and is actually a whole course in itself), so here we will just focus on a few examples and their basic response properties."
   ]
  },
  {
   "cell_type": "markdown",
   "metadata": {},
   "source": [
    "#### Second order IIR filter\n",
    "\n",
    "A second-order IIR filter is defined by the equation\n",
    "$$\n",
    "y[n] = a_1 y[n-1] + a_2 y[n-2] + b_0 x[n] + b_1 x[n-1] + b_2 x[n-2]\n",
    "$$\n",
    "It adds a second set of delays and coefficients and can be characterized by a ratio of second order polynomials.  The block diagram is"
   ]
  },
  {
   "cell_type": "code",
   "execution_count": 7,
   "metadata": {
    "jupyter": {
     "source_hidden": true
    }
   },
   "outputs": [
    {
     "data": {
      "image/svg+xml": "<?xml version=\"1.0\" encoding=\"UTF-8\"?>\n<svg xmlns=\"http://www.w3.org/2000/svg\" xmlns:xlink=\"http://www.w3.org/1999/xlink\" width=\"394.341pt\" height=\"196.26pt\" viewBox=\"0 0 394.341 196.26\" version=\"1.2\">\n<defs>\n<g>\n<symbol overflow=\"visible\" id=\"glyph-1646190839050996-0-0\">\n<path style=\"stroke:none;\" d=\"\"/>\n</symbol>\n<symbol overflow=\"visible\" id=\"glyph-1646190839050996-0-1\">\n<path style=\"stroke:none;\" d=\"M 6.375 -4.78125 C 5.953125 -4.65625 5.734375 -4.25 5.734375 -3.953125 C 5.734375 -3.6875 5.9375 -3.40625 6.328125 -3.40625 C 6.75 -3.40625 7.1875 -3.75 7.1875 -4.328125 C 7.1875 -4.96875 6.5625 -5.375 5.828125 -5.375 C 5.15625 -5.375 4.71875 -4.875 4.5625 -4.65625 C 4.265625 -5.15625 3.59375 -5.375 2.921875 -5.375 C 1.421875 -5.375 0.609375 -3.921875 0.609375 -3.53125 C 0.609375 -3.359375 0.78125 -3.359375 0.890625 -3.359375 C 1.03125 -3.359375 1.125 -3.359375 1.171875 -3.515625 C 1.515625 -4.59375 2.375 -4.953125 2.859375 -4.953125 C 3.3125 -4.953125 3.53125 -4.734375 3.53125 -4.359375 C 3.53125 -4.125 3.359375 -3.484375 3.25 -3.046875 L 2.84375 -1.421875 C 2.671875 -0.6875 2.234375 -0.328125 1.828125 -0.328125 C 1.78125 -0.328125 1.5 -0.328125 1.265625 -0.515625 C 1.6875 -0.625 1.90625 -1.03125 1.90625 -1.328125 C 1.90625 -1.59375 1.703125 -1.875 1.3125 -1.875 C 0.890625 -1.875 0.453125 -1.53125 0.453125 -0.953125 C 0.453125 -0.328125 1.078125 0.09375 1.8125 0.09375 C 2.484375 0.09375 2.921875 -0.421875 3.078125 -0.625 C 3.375 -0.125 4.046875 0.09375 4.734375 0.09375 C 6.234375 0.09375 7.03125 -1.375 7.03125 -1.765625 C 7.03125 -1.921875 6.859375 -1.921875 6.75 -1.921875 C 6.609375 -1.921875 6.53125 -1.921875 6.484375 -1.78125 C 6.125 -0.6875 5.28125 -0.328125 4.78125 -0.328125 C 4.328125 -0.328125 4.125 -0.546875 4.125 -0.921875 C 4.125 -1.171875 4.28125 -1.8125 4.375 -2.25 C 4.46875 -2.5625 4.734375 -3.671875 4.796875 -3.875 C 4.984375 -4.578125 5.390625 -4.953125 5.8125 -4.953125 C 5.875 -4.953125 6.140625 -4.953125 6.375 -4.78125 Z M 6.375 -4.78125 \"/>\n</symbol>\n<symbol overflow=\"visible\" id=\"glyph-1646190839050996-0-2\">\n<path style=\"stroke:none;\" d=\"M 3.328125 -4.484375 C 3.171875 -5.078125 2.515625 -5.375 1.875 -5.375 C 1.421875 -5.375 1.09375 -5.125 0.828125 -4.703125 C 0.53125 -4.234375 0.375 -3.578125 0.375 -3.53125 C 0.375 -3.359375 0.5625 -3.359375 0.671875 -3.359375 C 0.796875 -3.359375 0.84375 -3.359375 0.90625 -3.421875 C 0.921875 -3.4375 0.921875 -3.46875 1 -3.765625 C 1.234375 -4.6875 1.5 -4.953125 1.8125 -4.953125 C 1.984375 -4.953125 2.078125 -4.828125 2.078125 -4.515625 C 2.078125 -4.3125 2.03125 -4.125 1.921875 -3.640625 C 1.828125 -3.3125 1.71875 -2.828125 1.65625 -2.578125 L 1.21875 -0.90625 C 1.1875 -0.734375 1.125 -0.515625 1.125 -0.421875 C 1.125 -0.171875 1.328125 0.09375 1.6875 0.09375 C 2.3125 0.09375 2.453125 -0.453125 2.53125 -0.8125 C 2.65625 -1.25 2.75 -1.625 2.875 -2.140625 C 2.921875 -2.296875 3.21875 -3.53125 3.234375 -3.5625 C 3.25 -3.625 3.578125 -4.171875 3.984375 -4.484375 C 4.3125 -4.75 4.703125 -4.953125 5.203125 -4.953125 C 5.515625 -4.953125 5.796875 -4.828125 5.796875 -4.25 C 5.796875 -3.578125 5.28125 -2.171875 5.046875 -1.578125 C 4.921875 -1.265625 4.875 -1.171875 4.875 -0.96875 C 4.875 -0.28125 5.578125 0.09375 6.234375 0.09375 C 7.484375 0.09375 8.078125 -1.53125 8.078125 -1.765625 C 8.078125 -1.921875 7.90625 -1.921875 7.796875 -1.921875 C 7.65625 -1.921875 7.578125 -1.921875 7.53125 -1.78125 C 7.125 -0.453125 6.484375 -0.328125 6.296875 -0.328125 C 6.21875 -0.328125 6.09375 -0.328125 6.09375 -0.578125 C 6.09375 -0.859375 6.21875 -1.15625 6.328125 -1.453125 C 6.53125 -1.9375 7.078125 -3.328125 7.078125 -4 C 7.078125 -5.09375 6.15625 -5.375 5.296875 -5.375 C 5.046875 -5.375 4.171875 -5.375 3.328125 -4.484375 Z M 3.328125 -4.484375 \"/>\n</symbol>\n<symbol overflow=\"visible\" id=\"glyph-1646190839050996-0-3\">\n<path style=\"stroke:none;\" d=\"M 6.875 -4.484375 C 6.921875 -4.703125 6.921875 -4.734375 6.921875 -4.765625 C 6.921875 -5.03125 6.734375 -5.28125 6.375 -5.28125 C 5.75 -5.28125 5.609375 -4.734375 5.53125 -4.40625 L 5.21875 -3.171875 C 5.078125 -2.59375 4.84375 -1.671875 4.71875 -1.1875 C 4.65625 -0.921875 4.28125 -0.640625 4.25 -0.625 C 4.125 -0.53125 3.828125 -0.328125 3.4375 -0.328125 C 2.734375 -0.328125 2.71875 -0.921875 2.71875 -1.203125 C 2.71875 -1.921875 3.09375 -2.859375 3.421875 -3.71875 C 3.546875 -4.03125 3.578125 -4.109375 3.578125 -4.3125 C 3.578125 -5 2.890625 -5.375 2.234375 -5.375 C 0.96875 -5.375 0.375 -3.765625 0.375 -3.53125 C 0.375 -3.359375 0.5625 -3.359375 0.671875 -3.359375 C 0.8125 -3.359375 0.890625 -3.359375 0.9375 -3.515625 C 1.328125 -4.828125 1.984375 -4.953125 2.171875 -4.953125 C 2.25 -4.953125 2.375 -4.953125 2.375 -4.703125 C 2.375 -4.421875 2.234375 -4.125 2.171875 -3.921875 C 1.703125 -2.734375 1.453125 -2.0625 1.453125 -1.453125 C 1.453125 -0.09375 2.640625 0.09375 3.34375 0.09375 C 3.640625 0.09375 4.046875 0.046875 4.484375 -0.265625 C 4.15625 1.203125 3.265625 1.96875 2.4375 1.96875 C 2.28125 1.96875 1.953125 1.953125 1.71875 1.8125 C 2.09375 1.65625 2.28125 1.328125 2.28125 1.015625 C 2.28125 0.578125 1.9375 0.46875 1.703125 0.46875 C 1.265625 0.46875 0.84375 0.84375 0.84375 1.375 C 0.84375 1.96875 1.46875 2.40625 2.4375 2.40625 C 3.8125 2.40625 5.375 1.484375 5.75 0.015625 Z M 6.875 -4.484375 \"/>\n</symbol>\n<symbol overflow=\"visible\" id=\"glyph-1646190839050996-0-4\">\n<path style=\"stroke:none;\" d=\"M 2.875 -4.0625 C 3.03125 -4.078125 3.1875 -4.0625 3.359375 -4.078125 C 3.828125 -4.09375 4.421875 -4.125 4.890625 -4.140625 C 4.5625 -3.828125 4.375 -3.625 3.171875 -2.71875 C 0.765625 -0.890625 0.5 -0.125 0.5 -0.078125 C 0.5 0.09375 0.671875 0.09375 0.78125 0.09375 C 0.96875 0.09375 0.96875 0.078125 1.0625 -0.03125 C 1.484375 -0.625 1.921875 -0.71875 2.125 -0.71875 C 2.4375 -0.71875 2.71875 -0.515625 2.890625 -0.375 C 3.265625 -0.125 3.5625 0.09375 4.015625 0.09375 C 5.34375 0.09375 6.21875 -1.359375 6.21875 -1.8125 C 6.21875 -1.96875 6.015625 -1.96875 5.921875 -1.96875 C 5.84375 -1.96875 5.71875 -1.96875 5.671875 -1.875 C 5.578125 -1.640625 5.453125 -1.34375 4.65625 -1.25 C 4.578125 -1.234375 2.265625 -1.140625 2 -1.125 C 2.328125 -1.453125 2.53125 -1.640625 3.734375 -2.5625 C 6.140625 -4.390625 6.40625 -5.171875 6.40625 -5.21875 C 6.40625 -5.375 6.234375 -5.375 6.125 -5.375 C 5.953125 -5.375 5.921875 -5.375 5.859375 -5.265625 C 5.578125 -4.84375 5.34375 -4.578125 5.0625 -4.578125 C 4.75 -4.578125 4.484375 -4.765625 4.21875 -4.953125 C 3.921875 -5.171875 3.625 -5.375 3.1875 -5.375 C 2.140625 -5.375 1.46875 -4.328125 1.46875 -3.953125 C 1.46875 -3.78125 1.65625 -3.78125 1.75 -3.78125 C 1.859375 -3.78125 1.984375 -3.78125 2.03125 -3.9375 C 2.1875 -4.03125 2.28125 -4.03125 2.625 -4.0625 Z M 2.875 -4.0625 \"/>\n</symbol>\n<symbol overflow=\"visible\" id=\"glyph-1646190839050996-0-5\">\n<path style=\"stroke:none;\" d=\"M 3.34375 -7.84375 C 3.390625 -8.015625 3.390625 -8.03125 3.390625 -8.046875 C 3.390625 -8.203125 3.265625 -8.265625 3.125 -8.265625 C 3.078125 -8.265625 3.078125 -8.265625 3.046875 -8.25 L 1.515625 -8.171875 C 1.34375 -8.171875 1.125 -8.15625 1.125 -7.828125 C 1.125 -7.609375 1.359375 -7.609375 1.4375 -7.609375 C 1.578125 -7.609375 1.78125 -7.609375 1.9375 -7.578125 C 1.84375 -7.171875 1.71875 -6.671875 1.609375 -6.21875 L 0.78125 -2.921875 C 0.625 -2.265625 0.625 -2.125 0.625 -1.84375 C 0.625 -0.328125 1.75 0.09375 2.640625 0.09375 C 4.796875 0.09375 6.03125 -1.84375 6.03125 -3.421875 C 6.03125 -4.875 4.921875 -5.375 3.9375 -5.375 C 3.375 -5.375 2.890625 -5.15625 2.640625 -5 Z M 2.671875 -0.328125 C 2.203125 -0.328125 1.8125 -0.578125 1.8125 -1.328125 C 1.8125 -1.703125 1.921875 -2.140625 2.015625 -2.515625 C 2.125 -2.96875 2.328125 -3.78125 2.421875 -4.140625 C 2.46875 -4.34375 3.15625 -4.953125 3.875 -4.953125 C 4.625 -4.953125 4.671875 -4.3125 4.671875 -4.046875 C 4.671875 -3.421875 4.28125 -1.96875 4.078125 -1.5 C 3.671875 -0.53125 3.015625 -0.328125 2.671875 -0.328125 Z M 2.671875 -0.328125 \"/>\n</symbol>\n<symbol overflow=\"visible\" id=\"glyph-1646190839050996-0-6\">\n<path style=\"stroke:none;\" d=\"M 6.125 -3.78125 C 6.203125 -4.078125 6.328125 -4.546875 6.328125 -4.65625 C 6.328125 -5.03125 6.015625 -5.171875 5.765625 -5.171875 C 5.53125 -5.171875 5.296875 -5.0625 5.15625 -4.875 C 4.984375 -5.078125 4.578125 -5.375 3.890625 -5.375 C 1.828125 -5.375 0.53125 -3.5 0.53125 -1.875 C 0.53125 -0.40625 1.625 0.09375 2.625 0.09375 C 3.46875 0.09375 4.078125 -0.375 4.28125 -0.546875 C 4.734375 0.09375 5.515625 0.09375 5.640625 0.09375 C 6.078125 0.09375 6.421875 -0.15625 6.671875 -0.578125 C 6.984375 -1.0625 7.125 -1.703125 7.125 -1.765625 C 7.125 -1.921875 6.953125 -1.921875 6.84375 -1.921875 C 6.71875 -1.921875 6.671875 -1.921875 6.609375 -1.875 C 6.578125 -1.84375 6.578125 -1.828125 6.515625 -1.53125 C 6.28125 -0.578125 6 -0.328125 5.703125 -0.328125 C 5.578125 -0.328125 5.421875 -0.375 5.421875 -0.78125 C 5.421875 -0.96875 5.484375 -1.171875 5.59375 -1.640625 C 5.671875 -1.96875 5.796875 -2.453125 5.859375 -2.71875 Z M 4.15625 -1.109375 C 3.8125 -0.703125 3.25 -0.328125 2.671875 -0.328125 C 1.9375 -0.328125 1.875 -0.96875 1.875 -1.234375 C 1.875 -1.859375 2.28125 -3.328125 2.46875 -3.78125 C 2.84375 -4.65625 3.421875 -4.953125 3.921875 -4.953125 C 4.625 -4.953125 4.90625 -4.390625 4.90625 -4.265625 L 4.875 -4.09375 Z M 4.15625 -1.109375 \"/>\n</symbol>\n<symbol overflow=\"visible\" id=\"glyph-1646190839050996-1-0\">\n<path style=\"stroke:none;\" d=\"\"/>\n</symbol>\n<symbol overflow=\"visible\" id=\"glyph-1646190839050996-1-1\">\n<path style=\"stroke:none;\" d=\"M 3.421875 2.96875 L 3.421875 2.328125 L 2.171875 2.328125 L 2.171875 -8.28125 L 3.421875 -8.28125 L 3.421875 -8.921875 L 1.53125 -8.921875 L 1.53125 2.96875 Z M 3.421875 2.96875 \"/>\n</symbol>\n<symbol overflow=\"visible\" id=\"glyph-1646190839050996-1-2\">\n<path style=\"stroke:none;\" d=\"M 2.171875 -8.921875 L 0.28125 -8.921875 L 0.28125 -8.28125 L 1.53125 -8.28125 L 1.53125 2.328125 L 0.28125 2.328125 L 0.28125 2.96875 L 2.171875 2.96875 Z M 2.171875 -8.921875 \"/>\n</symbol>\n<symbol overflow=\"visible\" id=\"glyph-1646190839050996-1-3\">\n<path style=\"stroke:none;\" d=\"M 5.53125 -2.640625 L 9.1875 -2.640625 C 9.34375 -2.640625 9.671875 -2.640625 9.671875 -2.96875 C 9.671875 -3.296875 9.359375 -3.296875 9.1875 -3.296875 L 5.53125 -3.296875 L 5.53125 -6.96875 C 5.53125 -7.125 5.53125 -7.4375 5.21875 -7.4375 C 4.875 -7.4375 4.875 -7.125 4.875 -6.96875 L 4.875 -3.296875 L 1.21875 -3.296875 C 1.046875 -3.296875 0.734375 -3.296875 0.734375 -2.96875 C 0.734375 -2.640625 1.0625 -2.640625 1.21875 -2.640625 L 4.875 -2.640625 L 4.875 1.03125 C 4.875 1.171875 4.875 1.5 5.203125 1.5 C 5.53125 1.5 5.53125 1.1875 5.53125 1.03125 Z M 5.53125 -2.640625 \"/>\n</symbol>\n<symbol overflow=\"visible\" id=\"glyph-1646190839050996-1-4\">\n<path style=\"stroke:none;\" d=\"M 4.125 -7.46875 C 4.125 -7.8125 4.09375 -7.8125 3.71875 -7.8125 C 2.828125 -7.046875 1.515625 -7.046875 1.25 -7.046875 L 1.03125 -7.046875 L 1.03125 -6.53125 L 1.25 -6.53125 C 1.671875 -6.53125 2.296875 -6.609375 2.78125 -6.765625 L 2.78125 -0.515625 L 1.125 -0.515625 L 1.125 0 C 1.625 -0.03125 2.875 -0.03125 3.421875 -0.03125 C 3.984375 -0.03125 5.25 -0.03125 5.75 0 L 5.75 -0.515625 L 4.125 -0.515625 Z M 4.125 -7.46875 \"/>\n</symbol>\n<symbol overflow=\"visible\" id=\"glyph-1646190839050996-1-5\">\n<path style=\"stroke:none;\" d=\"M 6.015625 -2.5625 L 5.515625 -2.5625 C 5.484375 -2.3125 5.390625 -1.609375 5.21875 -1.484375 C 5.125 -1.40625 4.1875 -1.40625 4.015625 -1.40625 L 2.171875 -1.40625 C 2.625 -1.78125 3.703125 -2.6875 3.875 -2.828125 C 5.203125 -3.8125 6.015625 -4.421875 6.015625 -5.5625 C 6.015625 -6.96875 4.734375 -7.8125 3.171875 -7.8125 C 1.828125 -7.8125 0.671875 -7.046875 0.671875 -5.921875 C 0.671875 -5.28125 1.171875 -5.109375 1.453125 -5.109375 C 1.828125 -5.109375 2.25 -5.359375 2.25 -5.90625 C 2.25 -6.40625 1.875 -6.65625 1.515625 -6.703125 C 1.984375 -7.25 2.625 -7.296875 2.875 -7.296875 C 3.96875 -7.296875 4.484375 -6.40625 4.484375 -5.546875 C 4.484375 -4.625 3.859375 -3.765625 3.375 -3.25 L 0.78125 -0.546875 C 0.671875 -0.4375 0.671875 -0.421875 0.671875 -0.203125 L 0.671875 0 L 5.671875 0 Z M 6.015625 -2.5625 \"/>\n</symbol>\n<symbol overflow=\"visible\" id=\"glyph-1646190839050996-2-0\">\n<path style=\"stroke:none;\" d=\"\"/>\n</symbol>\n<symbol overflow=\"visible\" id=\"glyph-1646190839050996-2-1\">\n<path style=\"stroke:none;\" d=\"M 4.8125 -2.984375 L 2.171875 -0.34375 C 2.078125 -0.25 1.984375 -0.15625 1.984375 -0.03125 C 1.984375 0.171875 2.15625 0.34375 2.359375 0.34375 C 2.5 0.34375 2.578125 0.28125 2.703125 0.140625 L 5.328125 -2.46875 L 8.0625 0.28125 C 8.09375 0.296875 8.140625 0.34375 8.28125 0.34375 C 8.453125 0.34375 8.640625 0.203125 8.640625 -0.03125 C 8.640625 -0.078125 8.625 -0.15625 8.59375 -0.203125 C 8.53125 -0.28125 8.171875 -0.625 7.96875 -0.84375 L 5.828125 -2.96875 C 6.4375 -3.59375 8.484375 -5.625 8.546875 -5.6875 C 8.609375 -5.78125 8.640625 -5.84375 8.640625 -5.9375 C 8.640625 -6.171875 8.453125 -6.3125 8.28125 -6.3125 C 8.140625 -6.3125 8.078125 -6.25 7.96875 -6.125 L 5.328125 -3.5 C 4.703125 -4.109375 2.671875 -6.15625 2.609375 -6.21875 C 2.53125 -6.28125 2.453125 -6.3125 2.359375 -6.3125 C 2.15625 -6.3125 1.984375 -6.140625 1.984375 -5.9375 C 1.984375 -5.8125 2.046875 -5.75 2.171875 -5.625 Z M 4.8125 -2.984375 \"/>\n</symbol>\n<symbol overflow=\"visible\" id=\"glyph-1646190839050996-2-2\">\n<path style=\"stroke:none;\" d=\"M 8.953125 -2.625 C 9.125 -2.625 9.484375 -2.625 9.484375 -2.96875 C 9.484375 -3.34375 9.140625 -3.34375 8.953125 -3.34375 L 1.671875 -3.34375 C 1.5 -3.34375 1.140625 -3.34375 1.140625 -2.984375 C 1.140625 -2.625 1.484375 -2.625 1.671875 -2.625 Z M 8.953125 -2.625 \"/>\n</symbol>\n<symbol overflow=\"visible\" id=\"glyph-1646190839050996-3-0\">\n<path style=\"stroke:none;\" d=\"\"/>\n</symbol>\n<symbol overflow=\"visible\" id=\"glyph-1646190839050996-3-1\">\n<path style=\"stroke:none;\" d=\"M 6.359375 -1.71875 C 6.484375 -1.71875 6.75 -1.71875 6.75 -1.984375 C 6.75 -2.25 6.484375 -2.25 6.359375 -2.25 L 1.1875 -2.25 C 1.078125 -2.25 0.8125 -2.25 0.8125 -1.984375 C 0.8125 -1.71875 1.078125 -1.71875 1.1875 -1.71875 Z M 6.359375 -1.71875 \"/>\n</symbol>\n<symbol overflow=\"visible\" id=\"glyph-1646190839050996-4-0\">\n<path style=\"stroke:none;\" d=\"\"/>\n</symbol>\n<symbol overflow=\"visible\" id=\"glyph-1646190839050996-4-1\">\n<path style=\"stroke:none;\" d=\"M 3.015625 -4.953125 C 3.015625 -5.21875 2.953125 -5.21875 2.640625 -5.21875 C 2.15625 -4.84375 1.53125 -4.71875 0.90625 -4.71875 L 0.734375 -4.71875 L 0.734375 -4.296875 L 0.90625 -4.296875 C 1.109375 -4.296875 1.546875 -4.328125 2 -4.453125 L 2 -0.40625 L 0.8125 -0.40625 L 0.8125 0 C 1.09375 -0.03125 2.140625 -0.03125 2.5 -0.03125 C 2.859375 -0.03125 3.890625 -0.03125 4.1875 0 L 4.1875 -0.40625 L 3.015625 -0.40625 Z M 3.015625 -4.953125 \"/>\n</symbol>\n<symbol overflow=\"visible\" id=\"glyph-1646190839050996-4-2\">\n<path style=\"stroke:none;\" d=\"M 4.484375 -2.53125 C 4.484375 -3.453125 4.40625 -5.21875 2.421875 -5.21875 C 0.4375 -5.21875 0.375 -3.4375 0.375 -2.53125 C 0.375 -1.640625 0.4375 0.109375 2.421875 0.109375 C 4.421875 0.109375 4.484375 -1.65625 4.484375 -2.53125 Z M 2.421875 -0.21875 C 2.21875 -0.21875 2 -0.296875 1.828125 -0.4375 C 1.578125 -0.65625 1.453125 -0.765625 1.453125 -2.625 C 1.453125 -3.203125 1.453125 -3.78125 1.53125 -4.171875 C 1.640625 -4.734375 2.125 -4.890625 2.421875 -4.890625 C 2.625 -4.890625 3.21875 -4.84375 3.34375 -4.09375 C 3.40625 -3.703125 3.40625 -3.09375 3.40625 -2.625 C 3.40625 -0.8125 3.296875 -0.703125 3.046875 -0.453125 C 2.984375 -0.390625 2.765625 -0.21875 2.421875 -0.21875 Z M 2.421875 -0.21875 \"/>\n</symbol>\n<symbol overflow=\"visible\" id=\"glyph-1646190839050996-4-3\">\n<path style=\"stroke:none;\" d=\"M 4.375 -1.8125 L 3.921875 -1.8125 C 3.859375 -1.28125 3.765625 -1.125 3.71875 -1.109375 C 3.625 -1.0625 3.015625 -1.0625 2.875 -1.0625 L 1.78125 -1.0625 C 2.84375 -1.890625 3.28125 -2.125 3.625 -2.390625 C 4.171875 -2.828125 4.375 -3.21875 4.375 -3.671875 C 4.375 -4.609375 3.515625 -5.21875 2.296875 -5.21875 C 1.28125 -5.21875 0.484375 -4.765625 0.484375 -4.03125 C 0.484375 -3.5625 0.859375 -3.40625 1.09375 -3.40625 C 1.359375 -3.40625 1.703125 -3.609375 1.703125 -4.015625 C 1.703125 -4.390625 1.421875 -4.546875 1.328125 -4.578125 C 1.546875 -4.75 1.859375 -4.8125 2.109375 -4.8125 C 2.828125 -4.8125 3.21875 -4.28125 3.21875 -3.671875 C 3.21875 -3.03125 2.796875 -2.5 2.328125 -2.0625 L 0.578125 -0.421875 C 0.484375 -0.328125 0.484375 -0.328125 0.484375 -0.171875 L 0.484375 0 L 4.109375 0 Z M 4.375 -1.8125 \"/>\n</symbol>\n</g>\n</defs>\n<g id=\"surface1\">\n<g style=\"fill:rgb(0%,0%,0%);fill-opacity:1;\">\n  <use xlink:href=\"#glyph-1646190839050996-0-1\" x=\"19.409748\" y=\"16.210877\"/>\n</g>\n<g style=\"fill:rgb(0%,0%,0%);fill-opacity:1;\">\n  <use xlink:href=\"#glyph-1646190839050996-1-1\" x=\"27.259152\" y=\"16.210877\"/>\n</g>\n<g style=\"fill:rgb(0%,0%,0%);fill-opacity:1;\">\n  <use xlink:href=\"#glyph-1646190839050996-0-2\" x=\"30.981118\" y=\"16.210877\"/>\n</g>\n<g style=\"fill:rgb(0%,0%,0%);fill-opacity:1;\">\n  <use xlink:href=\"#glyph-1646190839050996-1-2\" x=\"39.473099\" y=\"16.210877\"/>\n</g>\n<path style=\" stroke:none;fill-rule:nonzero;fill:rgb(0%,0%,0%);fill-opacity:1;\" d=\"M 97.144531 13.234375 C 97.144531 11.589844 95.8125 10.253906 94.167969 10.253906 C 92.523438 10.253906 91.191406 11.589844 91.191406 13.234375 C 91.191406 14.878906 92.523438 16.210938 94.167969 16.210938 C 95.8125 16.210938 97.144531 14.878906 97.144531 13.234375 Z M 97.144531 13.234375 \"/>\n<path style=\"fill:none;stroke-width:1.0959;stroke-linecap:butt;stroke-linejoin:miter;stroke:rgb(0%,0%,0%);stroke-opacity:1;stroke-miterlimit:10;\" d=\"M 8.456609 -0.00127532 C 8.456609 4.672531 4.668944 8.456275 -0.000941481 8.456275 C -4.670827 8.456275 -8.458492 4.672531 -8.458492 -0.00127532 C -8.458492 -4.671161 -4.670827 -8.458826 -0.000941481 -8.458826 C 4.668944 -8.458826 8.456609 -4.671161 8.456609 -0.00127532 Z M 8.456609 -0.00127532 \" transform=\"matrix(0.996244,0,0,-0.996244,139.204063,13.233104)\"/>\n<g style=\"fill:rgb(0%,0%,0%);fill-opacity:1;\">\n  <use xlink:href=\"#glyph-1646190839050996-2-1\" x=\"133.877148\" y=\"16.210877\"/>\n</g>\n<path style=\"fill:none;stroke-width:1.0959;stroke-linecap:butt;stroke-linejoin:miter;stroke:rgb(0%,0%,0%);stroke-opacity:1;stroke-miterlimit:10;\" d=\"M 8.303515 -0.00127532 C 8.303515 4.58627 4.586427 8.303357 -0.00111745 8.303357 C -4.584741 8.303357 -8.301829 4.58627 -8.301829 -0.00127532 C -8.301829 -4.584899 -4.584741 -8.301987 -0.00111745 -8.301987 C 4.586427 -8.301987 8.303515 -4.584899 8.303515 -0.00127532 Z M 8.303515 -0.00127532 \" transform=\"matrix(0.996244,0,0,-0.996244,177.622207,13.233104)\"/>\n<g style=\"fill:rgb(0%,0%,0%);fill-opacity:1;\">\n  <use xlink:href=\"#glyph-1646190839050996-1-3\" x=\"172.410856\" y=\"16.210877\"/>\n</g>\n<path style=\"fill:none;stroke-width:1.0959;stroke-linecap:butt;stroke-linejoin:miter;stroke:rgb(0%,0%,0%);stroke-opacity:1;stroke-miterlimit:10;\" d=\"M 8.300304 -0.00127532 C 8.300304 4.58627 4.587138 8.303357 -0.000407298 8.303357 C -4.584031 8.303357 -8.301119 4.58627 -8.301119 -0.00127532 C -8.301119 -4.584899 -4.584031 -8.301987 -0.000407298 -8.301987 C 4.587138 -8.301987 8.300304 -4.584899 8.300304 -0.00127532 Z M 8.300304 -0.00127532 \" transform=\"matrix(0.996244,0,0,-0.996244,215.105875,13.233104)\"/>\n<g style=\"fill:rgb(0%,0%,0%);fill-opacity:1;\">\n  <use xlink:href=\"#glyph-1646190839050996-1-3\" x=\"209.89552\" y=\"16.210877\"/>\n</g>\n<path style=\" stroke:none;fill-rule:nonzero;fill:rgb(0%,0%,0%);fill-opacity:1;\" d=\"M 302.871094 13.234375 C 302.871094 11.589844 301.539062 10.253906 299.894531 10.253906 C 298.25 10.253906 296.917969 11.589844 296.917969 13.234375 C 296.917969 14.878906 298.25 16.210938 299.894531 16.210938 C 301.539062 16.210938 302.871094 14.878906 302.871094 13.234375 Z M 302.871094 13.234375 \"/>\n<g style=\"fill:rgb(0%,0%,0%);fill-opacity:1;\">\n  <use xlink:href=\"#glyph-1646190839050996-0-3\" x=\"350.867982\" y=\"16.210877\"/>\n</g>\n<g style=\"fill:rgb(0%,0%,0%);fill-opacity:1;\">\n  <use xlink:href=\"#glyph-1646190839050996-1-1\" x=\"358.33981\" y=\"16.210877\"/>\n</g>\n<g style=\"fill:rgb(0%,0%,0%);fill-opacity:1;\">\n  <use xlink:href=\"#glyph-1646190839050996-0-2\" x=\"362.061776\" y=\"16.210877\"/>\n</g>\n<g style=\"fill:rgb(0%,0%,0%);fill-opacity:1;\">\n  <use xlink:href=\"#glyph-1646190839050996-1-2\" x=\"370.552761\" y=\"16.210877\"/>\n</g>\n<path style=\"fill:none;stroke-width:1.0959;stroke-linecap:butt;stroke-linejoin:miter;stroke:rgb(0%,0%,0%);stroke-opacity:1;stroke-miterlimit:10;\" d=\"M -14.943752 -14.945324 L 14.945867 -14.945324 L 14.945867 14.944296 L -14.943752 14.944296 Z M -14.943752 -14.945324 \" transform=\"matrix(0.996244,0,0,-0.996244,94.168869,48.517066)\"/>\n<g style=\"fill:rgb(0%,0%,0%);fill-opacity:1;\">\n  <use xlink:href=\"#glyph-1646190839050996-0-4\" x=\"84.149646\" y=\"53.291066\"/>\n</g>\n<g style=\"fill:rgb(0%,0%,0%);fill-opacity:1;\">\n  <use xlink:href=\"#glyph-1646190839050996-3-1\" x=\"91.262826\" y=\"48.969361\"/>\n</g>\n<g style=\"fill:rgb(0%,0%,0%);fill-opacity:1;\">\n  <use xlink:href=\"#glyph-1646190839050996-4-1\" x=\"98.8283\" y=\"48.969361\"/>\n</g>\n<g style=\"fill:rgb(0%,0%,0%);fill-opacity:1;\">\n  <use xlink:href=\"#glyph-1646190839050996-0-5\" x=\"133.421865\" y=\"51.758843\"/>\n</g>\n<g style=\"fill:rgb(0%,0%,0%);fill-opacity:1;\">\n  <use xlink:href=\"#glyph-1646190839050996-4-2\" x=\"139.625474\" y=\"53.545108\"/>\n</g>\n<path style=\"fill:none;stroke-width:1.0959;stroke-linecap:butt;stroke-linejoin:miter;stroke:rgb(0%,0%,0%);stroke-opacity:1;stroke-miterlimit:10;\" d=\"M -14.942496 -14.945324 L 14.943202 -14.945324 L 14.943202 14.944296 L -14.942496 14.944296 Z M -14.942496 -14.945324 \" transform=\"matrix(0.996244,0,0,-0.996244,299.894179,48.517066)\"/>\n<g style=\"fill:rgb(0%,0%,0%);fill-opacity:1;\">\n  <use xlink:href=\"#glyph-1646190839050996-0-4\" x=\"289.874957\" y=\"53.291066\"/>\n</g>\n<g style=\"fill:rgb(0%,0%,0%);fill-opacity:1;\">\n  <use xlink:href=\"#glyph-1646190839050996-3-1\" x=\"296.988137\" y=\"48.969361\"/>\n</g>\n<g style=\"fill:rgb(0%,0%,0%);fill-opacity:1;\">\n  <use xlink:href=\"#glyph-1646190839050996-4-1\" x=\"304.553611\" y=\"48.969361\"/>\n</g>\n<g style=\"fill:rgb(0%,0%,0%);fill-opacity:1;\">\n  <use xlink:href=\"#glyph-1646190839050996-0-1\" x=\"7.689938\" y=\"86.777804\"/>\n</g>\n<g style=\"fill:rgb(0%,0%,0%);fill-opacity:1;\">\n  <use xlink:href=\"#glyph-1646190839050996-1-1\" x=\"15.539342\" y=\"86.777804\"/>\n</g>\n<g style=\"fill:rgb(0%,0%,0%);fill-opacity:1;\">\n  <use xlink:href=\"#glyph-1646190839050996-0-2\" x=\"19.261308\" y=\"86.777804\"/>\n</g>\n<g style=\"fill:rgb(0%,0%,0%);fill-opacity:1;\">\n  <use xlink:href=\"#glyph-1646190839050996-2-2\" x=\"30.796813\" y=\"86.777804\"/>\n</g>\n<g style=\"fill:rgb(0%,0%,0%);fill-opacity:1;\">\n  <use xlink:href=\"#glyph-1646190839050996-1-4\" x=\"44.493171\" y=\"86.777804\"/>\n  <use xlink:href=\"#glyph-1646190839050996-1-2\" x=\"51.192694\" y=\"86.777804\"/>\n</g>\n<path style=\" stroke:none;fill-rule:nonzero;fill:rgb(0%,0%,0%);fill-opacity:1;\" d=\"M 97.144531 83.800781 C 97.144531 82.15625 95.8125 80.824219 94.167969 80.824219 C 92.523438 80.824219 91.191406 82.15625 91.191406 83.800781 C 91.191406 85.445312 92.523438 86.777344 94.167969 86.777344 C 95.8125 86.777344 97.144531 85.445312 97.144531 83.800781 Z M 97.144531 83.800781 \"/>\n<path style=\"fill:none;stroke-width:1.0959;stroke-linecap:butt;stroke-linejoin:miter;stroke:rgb(0%,0%,0%);stroke-opacity:1;stroke-miterlimit:10;\" d=\"M 8.456609 -0.000752809 C 8.456609 4.669133 4.668944 8.456798 -0.000941481 8.456798 C -4.670827 8.456798 -8.458492 4.669133 -8.458492 -0.000752809 C -8.458492 -4.670638 -4.670827 -8.458304 -0.000941481 -8.458304 C 4.668944 -8.458304 8.456609 -4.670638 8.456609 -0.000752809 Z M 8.456609 -0.000752809 \" transform=\"matrix(0.996244,0,0,-0.996244,139.204063,83.800031)\"/>\n<g style=\"fill:rgb(0%,0%,0%);fill-opacity:1;\">\n  <use xlink:href=\"#glyph-1646190839050996-2-1\" x=\"133.877148\" y=\"86.777804\"/>\n</g>\n<path style=\"fill:none;stroke-width:1.0959;stroke-linecap:butt;stroke-linejoin:miter;stroke:rgb(0%,0%,0%);stroke-opacity:1;stroke-miterlimit:10;\" d=\"M 8.303515 -0.000752809 C 8.303515 4.586792 4.586427 8.30388 -0.00111745 8.30388 C -4.584741 8.30388 -8.301829 4.586792 -8.301829 -0.000752809 C -8.301829 -4.584377 -4.584741 -8.301464 -0.00111745 -8.301464 C 4.586427 -8.301464 8.303515 -4.584377 8.303515 -0.000752809 Z M 8.303515 -0.000752809 \" transform=\"matrix(0.996244,0,0,-0.996244,177.622207,83.800031)\"/>\n<g style=\"fill:rgb(0%,0%,0%);fill-opacity:1;\">\n  <use xlink:href=\"#glyph-1646190839050996-1-3\" x=\"172.410856\" y=\"86.777804\"/>\n</g>\n<path style=\"fill:none;stroke-width:1.0959;stroke-linecap:butt;stroke-linejoin:miter;stroke:rgb(0%,0%,0%);stroke-opacity:1;stroke-miterlimit:10;\" d=\"M 8.300304 -0.000752809 C 8.300304 4.586792 4.587138 8.30388 -0.000407298 8.30388 C -4.584031 8.30388 -8.301119 4.586792 -8.301119 -0.000752809 C -8.301119 -4.584377 -4.584031 -8.301464 -0.000407298 -8.301464 C 4.587138 -8.301464 8.300304 -4.584377 8.300304 -0.000752809 Z M 8.300304 -0.000752809 \" transform=\"matrix(0.996244,0,0,-0.996244,215.105875,83.800031)\"/>\n<g style=\"fill:rgb(0%,0%,0%);fill-opacity:1;\">\n  <use xlink:href=\"#glyph-1646190839050996-1-3\" x=\"209.89552\" y=\"86.777804\"/>\n</g>\n<path style=\"fill:none;stroke-width:1.0959;stroke-linecap:butt;stroke-linejoin:miter;stroke:rgb(0%,0%,0%);stroke-opacity:1;stroke-miterlimit:10;\" d=\"M 8.457455 -0.000752809 C 8.457455 4.669133 4.66979 8.456798 -0.0000959378 8.456798 C -4.669981 8.456798 -8.457647 4.669133 -8.457647 -0.000752809 C -8.457647 -4.670638 -4.669981 -8.458304 -0.0000959378 -8.458304 C 4.66979 -8.458304 8.457455 -4.670638 8.457455 -0.000752809 Z M 8.457455 -0.000752809 \" transform=\"matrix(0.996244,0,0,-0.996244,254.191502,83.800031)\"/>\n<g style=\"fill:rgb(0%,0%,0%);fill-opacity:1;\">\n  <use xlink:href=\"#glyph-1646190839050996-2-1\" x=\"248.865583\" y=\"86.777804\"/>\n</g>\n<path style=\" stroke:none;fill-rule:nonzero;fill:rgb(0%,0%,0%);fill-opacity:1;\" d=\"M 302.871094 83.800781 C 302.871094 82.15625 301.539062 80.824219 299.894531 80.824219 C 298.25 80.824219 296.917969 82.15625 296.917969 83.800781 C 296.917969 85.445312 298.25 86.777344 299.894531 86.777344 C 301.539062 86.777344 302.871094 85.445312 302.871094 83.800781 Z M 302.871094 83.800781 \"/>\n<g style=\"fill:rgb(0%,0%,0%);fill-opacity:1;\">\n  <use xlink:href=\"#glyph-1646190839050996-0-3\" x=\"339.148172\" y=\"86.777804\"/>\n</g>\n<g style=\"fill:rgb(0%,0%,0%);fill-opacity:1;\">\n  <use xlink:href=\"#glyph-1646190839050996-1-1\" x=\"346.619003\" y=\"86.777804\"/>\n</g>\n<g style=\"fill:rgb(0%,0%,0%);fill-opacity:1;\">\n  <use xlink:href=\"#glyph-1646190839050996-0-2\" x=\"350.340969\" y=\"86.777804\"/>\n</g>\n<g style=\"fill:rgb(0%,0%,0%);fill-opacity:1;\">\n  <use xlink:href=\"#glyph-1646190839050996-2-2\" x=\"361.876475\" y=\"86.777804\"/>\n</g>\n<g style=\"fill:rgb(0%,0%,0%);fill-opacity:1;\">\n  <use xlink:href=\"#glyph-1646190839050996-1-4\" x=\"375.573829\" y=\"86.777804\"/>\n  <use xlink:href=\"#glyph-1646190839050996-1-2\" x=\"382.273351\" y=\"86.777804\"/>\n</g>\n<path style=\"fill:none;stroke-width:1.0959;stroke-linecap:butt;stroke-linejoin:miter;stroke:rgb(0%,0%,0%);stroke-opacity:1;stroke-miterlimit:10;\" d=\"M -14.943752 -14.944801 L 14.945867 -14.944801 L 14.945867 14.944818 L -14.943752 14.944818 Z M -14.943752 -14.944801 \" transform=\"matrix(0.996244,0,0,-0.996244,94.168869,119.083993)\"/>\n<g style=\"fill:rgb(0%,0%,0%);fill-opacity:1;\">\n  <use xlink:href=\"#glyph-1646190839050996-0-4\" x=\"84.149646\" y=\"123.858989\"/>\n</g>\n<g style=\"fill:rgb(0%,0%,0%);fill-opacity:1;\">\n  <use xlink:href=\"#glyph-1646190839050996-3-1\" x=\"91.262826\" y=\"119.536287\"/>\n</g>\n<g style=\"fill:rgb(0%,0%,0%);fill-opacity:1;\">\n  <use xlink:href=\"#glyph-1646190839050996-4-1\" x=\"98.8283\" y=\"119.536287\"/>\n</g>\n<g style=\"fill:rgb(0%,0%,0%);fill-opacity:1;\">\n  <use xlink:href=\"#glyph-1646190839050996-0-5\" x=\"133.421865\" y=\"122.326766\"/>\n</g>\n<g style=\"fill:rgb(0%,0%,0%);fill-opacity:1;\">\n  <use xlink:href=\"#glyph-1646190839050996-4-1\" x=\"139.625474\" y=\"124.113031\"/>\n</g>\n<g style=\"fill:rgb(0%,0%,0%);fill-opacity:1;\">\n  <use xlink:href=\"#glyph-1646190839050996-0-6\" x=\"247.742817\" y=\"120.837382\"/>\n</g>\n<g style=\"fill:rgb(0%,0%,0%);fill-opacity:1;\">\n  <use xlink:href=\"#glyph-1646190839050996-4-1\" x=\"255.280396\" y=\"122.623646\"/>\n</g>\n<path style=\"fill:none;stroke-width:1.0959;stroke-linecap:butt;stroke-linejoin:miter;stroke:rgb(0%,0%,0%);stroke-opacity:1;stroke-miterlimit:10;\" d=\"M -14.942496 -14.944801 L 14.943202 -14.944801 L 14.943202 14.944818 L -14.942496 14.944818 Z M -14.942496 -14.944801 \" transform=\"matrix(0.996244,0,0,-0.996244,299.894179,119.083993)\"/>\n<g style=\"fill:rgb(0%,0%,0%);fill-opacity:1;\">\n  <use xlink:href=\"#glyph-1646190839050996-0-4\" x=\"289.874957\" y=\"123.858989\"/>\n</g>\n<g style=\"fill:rgb(0%,0%,0%);fill-opacity:1;\">\n  <use xlink:href=\"#glyph-1646190839050996-3-1\" x=\"296.988137\" y=\"119.536287\"/>\n</g>\n<g style=\"fill:rgb(0%,0%,0%);fill-opacity:1;\">\n  <use xlink:href=\"#glyph-1646190839050996-4-1\" x=\"304.553611\" y=\"119.536287\"/>\n</g>\n<g style=\"fill:rgb(0%,0%,0%);fill-opacity:1;\">\n  <use xlink:href=\"#glyph-1646190839050996-0-1\" x=\"7.689938\" y=\"157.345727\"/>\n</g>\n<g style=\"fill:rgb(0%,0%,0%);fill-opacity:1;\">\n  <use xlink:href=\"#glyph-1646190839050996-1-1\" x=\"15.539342\" y=\"157.345727\"/>\n</g>\n<g style=\"fill:rgb(0%,0%,0%);fill-opacity:1;\">\n  <use xlink:href=\"#glyph-1646190839050996-0-2\" x=\"19.261308\" y=\"157.345727\"/>\n</g>\n<g style=\"fill:rgb(0%,0%,0%);fill-opacity:1;\">\n  <use xlink:href=\"#glyph-1646190839050996-2-2\" x=\"30.796813\" y=\"157.345727\"/>\n</g>\n<g style=\"fill:rgb(0%,0%,0%);fill-opacity:1;\">\n  <use xlink:href=\"#glyph-1646190839050996-1-5\" x=\"44.493171\" y=\"157.345727\"/>\n  <use xlink:href=\"#glyph-1646190839050996-1-2\" x=\"51.192694\" y=\"157.345727\"/>\n</g>\n<path style=\" stroke:none;fill-rule:nonzero;fill:rgb(0%,0%,0%);fill-opacity:1;\" d=\"M 97.144531 154.367188 C 97.144531 152.722656 95.8125 151.390625 94.167969 151.390625 C 92.523438 151.390625 91.191406 152.722656 91.191406 154.367188 C 91.191406 156.011719 92.523438 157.34375 94.167969 157.34375 C 95.8125 157.34375 97.144531 156.011719 97.144531 154.367188 Z M 97.144531 154.367188 \"/>\n<path style=\"fill:none;stroke-width:1.0959;stroke-linecap:butt;stroke-linejoin:miter;stroke:rgb(0%,0%,0%);stroke-opacity:1;stroke-miterlimit:10;\" d=\"M 8.456609 0.000769706 C 8.456609 4.670655 4.668944 8.45832 -0.000941481 8.45832 C -4.670827 8.45832 -8.458492 4.670655 -8.458492 0.000769706 C -8.458492 -4.669116 -4.670827 -8.456781 -0.000941481 -8.456781 C 4.668944 -8.456781 8.456609 -4.669116 8.456609 0.000769706 Z M 8.456609 0.000769706 \" transform=\"matrix(0.996244,0,0,-0.996244,139.204063,154.367954)\"/>\n<g style=\"fill:rgb(0%,0%,0%);fill-opacity:1;\">\n  <use xlink:href=\"#glyph-1646190839050996-2-1\" x=\"133.877148\" y=\"157.345727\"/>\n</g>\n<path style=\"fill:none;stroke-width:1.0959;stroke-linecap:butt;stroke-linejoin:miter;stroke:rgb(0%,0%,0%);stroke-opacity:1;stroke-miterlimit:10;\" d=\"M 8.303515 0.000769706 C 8.303515 4.584394 4.586427 8.301481 -0.00111745 8.301481 C -4.584741 8.301481 -8.301829 4.584394 -8.301829 0.000769706 C -8.301829 -4.586775 -4.584741 -8.303863 -0.00111745 -8.303863 C 4.586427 -8.303863 8.303515 -4.586775 8.303515 0.000769706 Z M 8.303515 0.000769706 \" transform=\"matrix(0.996244,0,0,-0.996244,177.622207,154.367954)\"/>\n<g style=\"fill:rgb(0%,0%,0%);fill-opacity:1;\">\n  <use xlink:href=\"#glyph-1646190839050996-1-3\" x=\"172.410856\" y=\"157.345727\"/>\n</g>\n<path style=\"fill:none;stroke-width:1.0959;stroke-linecap:butt;stroke-linejoin:miter;stroke:rgb(0%,0%,0%);stroke-opacity:1;stroke-miterlimit:10;\" d=\"M 8.300304 0.000769706 C 8.300304 4.584394 4.587138 8.301481 -0.000407298 8.301481 C -4.584031 8.301481 -8.301119 4.584394 -8.301119 0.000769706 C -8.301119 -4.586775 -4.584031 -8.303863 -0.000407298 -8.303863 C 4.587138 -8.303863 8.300304 -4.586775 8.300304 0.000769706 Z M 8.300304 0.000769706 \" transform=\"matrix(0.996244,0,0,-0.996244,215.105875,154.367954)\"/>\n<g style=\"fill:rgb(0%,0%,0%);fill-opacity:1;\">\n  <use xlink:href=\"#glyph-1646190839050996-1-3\" x=\"209.89552\" y=\"157.345727\"/>\n</g>\n<path style=\"fill:none;stroke-width:1.0959;stroke-linecap:butt;stroke-linejoin:miter;stroke:rgb(0%,0%,0%);stroke-opacity:1;stroke-miterlimit:10;\" d=\"M 8.457455 0.000769706 C 8.457455 4.670655 4.66979 8.45832 -0.0000959378 8.45832 C -4.669981 8.45832 -8.457647 4.670655 -8.457647 0.000769706 C -8.457647 -4.669116 -4.669981 -8.456781 -0.0000959378 -8.456781 C 4.66979 -8.456781 8.457455 -4.669116 8.457455 0.000769706 Z M 8.457455 0.000769706 \" transform=\"matrix(0.996244,0,0,-0.996244,254.191502,154.367954)\"/>\n<g style=\"fill:rgb(0%,0%,0%);fill-opacity:1;\">\n  <use xlink:href=\"#glyph-1646190839050996-2-1\" x=\"248.865583\" y=\"157.345727\"/>\n</g>\n<path style=\" stroke:none;fill-rule:nonzero;fill:rgb(0%,0%,0%);fill-opacity:1;\" d=\"M 302.871094 154.367188 C 302.871094 152.722656 301.539062 151.390625 299.894531 151.390625 C 298.25 151.390625 296.917969 152.722656 296.917969 154.367188 C 296.917969 156.011719 298.25 157.34375 299.894531 157.34375 C 301.539062 157.34375 302.871094 156.011719 302.871094 154.367188 Z M 302.871094 154.367188 \"/>\n<g style=\"fill:rgb(0%,0%,0%);fill-opacity:1;\">\n  <use xlink:href=\"#glyph-1646190839050996-0-3\" x=\"339.148172\" y=\"157.345727\"/>\n</g>\n<g style=\"fill:rgb(0%,0%,0%);fill-opacity:1;\">\n  <use xlink:href=\"#glyph-1646190839050996-1-1\" x=\"346.619003\" y=\"157.345727\"/>\n</g>\n<g style=\"fill:rgb(0%,0%,0%);fill-opacity:1;\">\n  <use xlink:href=\"#glyph-1646190839050996-0-2\" x=\"350.340969\" y=\"157.345727\"/>\n</g>\n<g style=\"fill:rgb(0%,0%,0%);fill-opacity:1;\">\n  <use xlink:href=\"#glyph-1646190839050996-2-2\" x=\"361.876475\" y=\"157.345727\"/>\n</g>\n<g style=\"fill:rgb(0%,0%,0%);fill-opacity:1;\">\n  <use xlink:href=\"#glyph-1646190839050996-1-5\" x=\"375.573829\" y=\"157.345727\"/>\n  <use xlink:href=\"#glyph-1646190839050996-1-2\" x=\"382.273351\" y=\"157.345727\"/>\n</g>\n<g style=\"fill:rgb(0%,0%,0%);fill-opacity:1;\">\n  <use xlink:href=\"#glyph-1646190839050996-0-5\" x=\"133.421865\" y=\"186.458955\"/>\n</g>\n<g style=\"fill:rgb(0%,0%,0%);fill-opacity:1;\">\n  <use xlink:href=\"#glyph-1646190839050996-4-3\" x=\"139.625474\" y=\"188.24522\"/>\n</g>\n<g style=\"fill:rgb(0%,0%,0%);fill-opacity:1;\">\n  <use xlink:href=\"#glyph-1646190839050996-0-6\" x=\"247.742817\" y=\"184.969571\"/>\n</g>\n<g style=\"fill:rgb(0%,0%,0%);fill-opacity:1;\">\n  <use xlink:href=\"#glyph-1646190839050996-4-3\" x=\"255.280396\" y=\"186.755836\"/>\n</g>\n<path style=\"fill:none;stroke-width:1.0959;stroke-linecap:butt;stroke-linejoin:miter;stroke:rgb(0%,0%,0%);stroke-opacity:1;stroke-miterlimit:10;\" d=\"M -149.698022 84.849646 L -72.333194 84.849646 \" transform=\"matrix(0.996244,0,0,-0.996244,196.842736,97.76139)\"/>\n<path style=\" stroke:none;fill-rule:nonzero;fill:rgb(0%,0%,0%);fill-opacity:1;\" d=\"M 130.230469 13.230469 C 128.617188 12.929688 125.992188 12.019531 124.175781 10.960938 L 124.175781 15.503906 C 125.992188 14.441406 128.617188 13.535156 130.230469 13.230469 \"/>\n<path style=\"fill:none;stroke-width:1.0959;stroke-linecap:butt;stroke-linejoin:miter;stroke:rgb(0%,0%,0%);stroke-opacity:1;stroke-miterlimit:10;\" d=\"M -48.850454 84.849646 L -33.613531 84.849646 \" transform=\"matrix(0.996244,0,0,-0.996244,196.842736,97.76139)\"/>\n<path style=\" stroke:none;fill-rule:nonzero;fill:rgb(0%,0%,0%);fill-opacity:1;\" d=\"M 168.804688 13.230469 C 167.191406 12.929688 164.566406 12.019531 162.75 10.960938 L 162.75 15.503906 C 164.566406 14.441406 167.191406 13.535156 168.804688 13.230469 \"/>\n<path style=\"fill:none;stroke-width:1.0959;stroke-linecap:butt;stroke-linejoin:miter;stroke:rgb(0%,0%,0%);stroke-opacity:1;stroke-miterlimit:10;\" d=\"M -10.444469 84.849646 L 4.012179 84.849646 \" transform=\"matrix(0.996244,0,0,-0.996244,196.842736,97.76139)\"/>\n<path style=\" stroke:none;fill-rule:nonzero;fill:rgb(0%,0%,0%);fill-opacity:1;\" d=\"M 206.289062 13.230469 C 204.675781 12.929688 202.050781 12.019531 200.234375 10.960938 L 200.234375 15.503906 C 202.050781 14.441406 204.675781 13.535156 206.289062 13.230469 \"/>\n<path style=\"fill:none;stroke-width:1.0959;stroke-linecap:butt;stroke-linejoin:miter;stroke:rgb(0%,0%,0%);stroke-opacity:1;stroke-miterlimit:10;\" d=\"M 27.181241 84.849646 L 144.606707 84.849646 \" transform=\"matrix(0.996244,0,0,-0.996244,196.842736,97.76139)\"/>\n<path style=\" stroke:none;fill-rule:nonzero;fill:rgb(0%,0%,0%);fill-opacity:1;\" d=\"M 346.355469 13.230469 C 344.738281 12.929688 342.117188 12.019531 340.300781 10.960938 L 340.300781 15.503906 C 342.117188 14.441406 344.738281 13.535156 346.355469 13.230469 \"/>\n<path style=\"fill:none;stroke-width:1.0959;stroke-linecap:butt;stroke-linejoin:miter;stroke:rgb(0%,0%,0%);stroke-opacity:1;stroke-miterlimit:10;\" d=\"M -103.061903 81.857939 L -103.061903 70.392998 \" transform=\"matrix(0.996244,0,0,-0.996244,196.842736,97.76139)\"/>\n<path style=\" stroke:none;fill-rule:nonzero;fill:rgb(0%,0%,0%);fill-opacity:1;\" d=\"M 94.167969 33.082031 C 94.46875 31.46875 95.378906 28.84375 96.4375 27.027344 L 91.898438 27.027344 C 92.957031 28.84375 93.863281 31.46875 94.167969 33.082031 \"/>\n<path style=\"fill:none;stroke-width:1.0959;stroke-linecap:butt;stroke-linejoin:miter;stroke:rgb(0%,0%,0%);stroke-opacity:1;stroke-miterlimit:10;\" d=\"M -103.061903 33.93966 L -103.061903 17.001033 \" transform=\"matrix(0.996244,0,0,-0.996244,196.842736,97.76139)\"/>\n<path style=\"fill:none;stroke-width:1.0959;stroke-linecap:butt;stroke-linejoin:miter;stroke:rgb(0%,0%,0%);stroke-opacity:1;stroke-miterlimit:10;\" d=\"M -100.074118 14.013247 L -72.333194 14.013247 \" transform=\"matrix(0.996244,0,0,-0.996244,196.842736,97.76139)\"/>\n<path style=\" stroke:none;fill-rule:nonzero;fill:rgb(0%,0%,0%);fill-opacity:1;\" d=\"M 130.230469 83.800781 C 128.617188 83.496094 125.992188 82.589844 124.175781 81.53125 L 124.175781 86.070312 C 125.992188 85.011719 128.617188 84.101562 130.230469 83.800781 \"/>\n<path style=\"fill:none;stroke-width:1.0959;stroke-linecap:butt;stroke-linejoin:miter;stroke:rgb(0%,0%,0%);stroke-opacity:1;stroke-miterlimit:10;\" d=\"M -48.850454 14.013247 L -33.613531 14.013247 \" transform=\"matrix(0.996244,0,0,-0.996244,196.842736,97.76139)\"/>\n<path style=\" stroke:none;fill-rule:nonzero;fill:rgb(0%,0%,0%);fill-opacity:1;\" d=\"M 168.804688 83.800781 C 167.191406 83.496094 164.566406 82.589844 162.75 81.53125 L 162.75 86.070312 C 164.566406 85.011719 167.191406 84.101562 168.804688 83.800781 \"/>\n<path style=\"fill:none;stroke-width:1.0959;stroke-linecap:butt;stroke-linejoin:miter;stroke:rgb(0%,0%,0%);stroke-opacity:1;stroke-miterlimit:10;\" d=\"M -19.294117 22.862896 L -19.294117 70.530232 \" transform=\"matrix(0.996244,0,0,-0.996244,196.842736,97.76139)\"/>\n<path style=\" stroke:none;fill-rule:nonzero;fill:rgb(0%,0%,0%);fill-opacity:1;\" d=\"M 177.621094 22.046875 C 177.320312 23.664062 176.410156 26.285156 175.351562 28.101562 L 179.890625 28.101562 C 178.832031 26.285156 177.925781 23.664062 177.621094 22.046875 \"/>\n<path style=\"fill:none;stroke-width:1.0959;stroke-linecap:butt;stroke-linejoin:miter;stroke:rgb(0%,0%,0%);stroke-opacity:1;stroke-miterlimit:10;\" d=\"M 103.440353 81.857939 L 103.440353 70.392998 \" transform=\"matrix(0.996244,0,0,-0.996244,196.842736,97.76139)\"/>\n<path style=\" stroke:none;fill-rule:nonzero;fill:rgb(0%,0%,0%);fill-opacity:1;\" d=\"M 299.894531 33.082031 C 300.199219 31.46875 301.105469 28.84375 302.167969 27.027344 L 297.625 27.027344 C 298.683594 28.84375 299.59375 31.46875 299.894531 33.082031 \"/>\n<path style=\"fill:none;stroke-width:1.0959;stroke-linecap:butt;stroke-linejoin:miter;stroke:rgb(0%,0%,0%);stroke-opacity:1;stroke-miterlimit:10;\" d=\"M 103.440353 33.93966 L 103.440353 17.001033 \" transform=\"matrix(0.996244,0,0,-0.996244,196.842736,97.76139)\"/>\n<path style=\"fill:none;stroke-width:1.0959;stroke-linecap:butt;stroke-linejoin:miter;stroke:rgb(0%,0%,0%);stroke-opacity:1;stroke-miterlimit:10;\" d=\"M 100.452567 14.013247 L 72.041157 14.013247 \" transform=\"matrix(0.996244,0,0,-0.996244,196.842736,97.76139)\"/>\n<path style=\" stroke:none;fill-rule:nonzero;fill:rgb(0%,0%,0%);fill-opacity:1;\" d=\"M 263.164062 83.800781 C 264.777344 84.101562 267.402344 85.011719 269.21875 86.070312 L 269.21875 81.53125 C 267.402344 82.589844 264.777344 83.496094 263.164062 83.800781 \"/>\n<path style=\"fill:none;stroke-width:1.0959;stroke-linecap:butt;stroke-linejoin:miter;stroke:rgb(0%,0%,0%);stroke-opacity:1;stroke-miterlimit:10;\" d=\"M 48.562337 14.013247 L 32.651006 14.013247 \" transform=\"matrix(0.996244,0,0,-0.996244,196.842736,97.76139)\"/>\n<path style=\" stroke:none;fill-rule:nonzero;fill:rgb(0%,0%,0%);fill-opacity:1;\" d=\"M 223.921875 83.800781 C 225.539062 84.101562 228.160156 85.011719 229.976562 86.070312 L 229.976562 81.53125 C 228.160156 82.589844 225.539062 83.496094 223.921875 83.800781 \"/>\n<path style=\"fill:none;stroke-width:1.0959;stroke-linecap:butt;stroke-linejoin:miter;stroke:rgb(0%,0%,0%);stroke-opacity:1;stroke-miterlimit:10;\" d=\"M 18.331593 22.862896 L 18.331593 70.530232 \" transform=\"matrix(0.996244,0,0,-0.996244,196.842736,97.76139)\"/>\n<path style=\" stroke:none;fill-rule:nonzero;fill:rgb(0%,0%,0%);fill-opacity:1;\" d=\"M 215.105469 22.046875 C 214.804688 23.664062 213.894531 26.285156 212.835938 28.101562 L 217.378906 28.101562 C 216.316406 26.285156 215.410156 23.664062 215.105469 22.046875 \"/>\n<path style=\"fill:none;stroke-width:1.0959;stroke-linecap:butt;stroke-linejoin:miter;stroke:rgb(0%,0%,0%);stroke-opacity:1;stroke-miterlimit:10;\" d=\"M -103.061903 11.025462 L -103.061903 -0.443401 \" transform=\"matrix(0.996244,0,0,-0.996244,196.842736,97.76139)\"/>\n<path style=\" stroke:none;fill-rule:nonzero;fill:rgb(0%,0%,0%);fill-opacity:1;\" d=\"M 94.167969 103.652344 C 94.46875 102.035156 95.378906 99.414062 96.4375 97.597656 L 91.898438 97.597656 C 92.957031 99.414062 93.863281 102.035156 94.167969 103.652344 \"/>\n<path style=\"fill:none;stroke-width:1.0959;stroke-linecap:butt;stroke-linejoin:miter;stroke:rgb(0%,0%,0%);stroke-opacity:1;stroke-miterlimit:10;\" d=\"M -103.061903 -36.896738 L -103.061903 -53.831445 \" transform=\"matrix(0.996244,0,0,-0.996244,196.842736,97.76139)\"/>\n<path style=\"fill:none;stroke-width:1.0959;stroke-linecap:butt;stroke-linejoin:miter;stroke:rgb(0%,0%,0%);stroke-opacity:1;stroke-miterlimit:10;\" d=\"M -100.074118 -56.81923 L -72.333194 -56.81923 \" transform=\"matrix(0.996244,0,0,-0.996244,196.842736,97.76139)\"/>\n<path style=\" stroke:none;fill-rule:nonzero;fill:rgb(0%,0%,0%);fill-opacity:1;\" d=\"M 130.230469 154.367188 C 128.617188 154.066406 125.992188 153.15625 124.175781 152.097656 L 124.175781 156.640625 C 125.992188 155.578125 128.617188 154.671875 130.230469 154.367188 \"/>\n<path style=\"fill:none;stroke-width:1.0959;stroke-linecap:butt;stroke-linejoin:miter;stroke:rgb(0%,0%,0%);stroke-opacity:1;stroke-miterlimit:10;\" d=\"M -48.850454 -56.81923 L -33.613531 -56.81923 \" transform=\"matrix(0.996244,0,0,-0.996244,196.842736,97.76139)\"/>\n<path style=\" stroke:none;fill-rule:nonzero;fill:rgb(0%,0%,0%);fill-opacity:1;\" d=\"M 168.804688 154.367188 C 167.191406 154.066406 164.566406 153.15625 162.75 152.097656 L 162.75 156.640625 C 164.566406 155.578125 167.191406 154.671875 168.804688 154.367188 \"/>\n<path style=\"fill:none;stroke-width:1.0959;stroke-linecap:butt;stroke-linejoin:miter;stroke:rgb(0%,0%,0%);stroke-opacity:1;stroke-miterlimit:10;\" d=\"M -19.294117 -47.969582 L -19.294117 -0.306166 \" transform=\"matrix(0.996244,0,0,-0.996244,196.842736,97.76139)\"/>\n<path style=\" stroke:none;fill-rule:nonzero;fill:rgb(0%,0%,0%);fill-opacity:1;\" d=\"M 177.621094 92.617188 C 177.320312 94.230469 176.410156 96.855469 175.351562 98.671875 L 179.890625 98.671875 C 178.832031 96.855469 177.925781 94.230469 177.621094 92.617188 \"/>\n<path style=\"fill:none;stroke-width:1.0959;stroke-linecap:butt;stroke-linejoin:miter;stroke:rgb(0%,0%,0%);stroke-opacity:1;stroke-miterlimit:10;\" d=\"M 103.440353 11.025462 L 103.440353 -0.443401 \" transform=\"matrix(0.996244,0,0,-0.996244,196.842736,97.76139)\"/>\n<path style=\" stroke:none;fill-rule:nonzero;fill:rgb(0%,0%,0%);fill-opacity:1;\" d=\"M 299.894531 103.652344 C 300.199219 102.035156 301.105469 99.414062 302.167969 97.597656 L 297.625 97.597656 C 298.683594 99.414062 299.59375 102.035156 299.894531 103.652344 \"/>\n<path style=\"fill:none;stroke-width:1.0959;stroke-linecap:butt;stroke-linejoin:miter;stroke:rgb(0%,0%,0%);stroke-opacity:1;stroke-miterlimit:10;\" d=\"M 103.440353 -36.896738 L 103.440353 -53.831445 \" transform=\"matrix(0.996244,0,0,-0.996244,196.842736,97.76139)\"/>\n<path style=\"fill:none;stroke-width:1.0959;stroke-linecap:butt;stroke-linejoin:miter;stroke:rgb(0%,0%,0%);stroke-opacity:1;stroke-miterlimit:10;\" d=\"M 100.452567 -56.81923 L 72.041157 -56.81923 \" transform=\"matrix(0.996244,0,0,-0.996244,196.842736,97.76139)\"/>\n<path style=\" stroke:none;fill-rule:nonzero;fill:rgb(0%,0%,0%);fill-opacity:1;\" d=\"M 263.164062 154.367188 C 264.777344 154.671875 267.402344 155.578125 269.21875 156.640625 L 269.21875 152.097656 C 267.402344 153.15625 264.777344 154.066406 263.164062 154.367188 \"/>\n<path style=\"fill:none;stroke-width:1.0959;stroke-linecap:butt;stroke-linejoin:miter;stroke:rgb(0%,0%,0%);stroke-opacity:1;stroke-miterlimit:10;\" d=\"M 48.562337 -56.81923 L 32.651006 -56.81923 \" transform=\"matrix(0.996244,0,0,-0.996244,196.842736,97.76139)\"/>\n<path style=\" stroke:none;fill-rule:nonzero;fill:rgb(0%,0%,0%);fill-opacity:1;\" d=\"M 223.921875 154.367188 C 225.539062 154.671875 228.160156 155.578125 229.976562 156.640625 L 229.976562 152.097656 C 228.160156 153.15625 225.539062 154.066406 223.921875 154.367188 \"/>\n<path style=\"fill:none;stroke-width:1.0959;stroke-linecap:butt;stroke-linejoin:miter;stroke:rgb(0%,0%,0%);stroke-opacity:1;stroke-miterlimit:10;\" d=\"M 18.331593 -47.969582 L 18.331593 -0.306166 \" transform=\"matrix(0.996244,0,0,-0.996244,196.842736,97.76139)\"/>\n<path style=\" stroke:none;fill-rule:nonzero;fill:rgb(0%,0%,0%);fill-opacity:1;\" d=\"M 215.105469 92.617188 C 214.804688 94.230469 213.894531 96.855469 212.835938 98.671875 L 217.378906 98.671875 C 216.316406 96.855469 215.410156 94.230469 215.105469 92.617188 \"/>\n<path style=\"fill:none;stroke-width:1.0959;stroke-linecap:butt;stroke-linejoin:miter;stroke:rgb(0%,0%,0%);stroke-opacity:1;stroke-miterlimit:10;\" d=\"M -57.856941 59.010397 L -57.856941 70.373393 \" transform=\"matrix(0.996244,0,0,-0.996244,196.842736,97.76139)\"/>\n<path style=\" stroke:none;fill-rule:nonzero;fill:rgb(0%,0%,0%);fill-opacity:1;\" d=\"M 139.203125 22.203125 C 138.902344 23.816406 137.992188 26.441406 136.933594 28.257812 L 141.472656 28.257812 C 140.414062 26.441406 139.507812 23.816406 139.203125 22.203125 \"/>\n<path style=\"fill:none;stroke-width:1.0959;stroke-linecap:butt;stroke-linejoin:miter;stroke:rgb(0%,0%,0%);stroke-opacity:1;stroke-miterlimit:10;\" d=\"M -57.856941 -11.82208 L -57.856941 -0.459085 \" transform=\"matrix(0.996244,0,0,-0.996244,196.842736,97.76139)\"/>\n<path style=\" stroke:none;fill-rule:nonzero;fill:rgb(0%,0%,0%);fill-opacity:1;\" d=\"M 139.203125 92.769531 C 138.902344 94.386719 137.992188 97.007812 136.933594 98.824219 L 141.472656 98.824219 C 140.414062 97.007812 139.507812 94.386719 139.203125 92.769531 \"/>\n<path style=\"fill:none;stroke-width:1.0959;stroke-linecap:butt;stroke-linejoin:miter;stroke:rgb(0%,0%,0%);stroke-opacity:1;stroke-miterlimit:10;\" d=\"M -57.856941 -76.196706 L -57.856941 -71.295483 \" transform=\"matrix(0.996244,0,0,-0.996244,196.842736,97.76139)\"/>\n<path style=\" stroke:none;fill-rule:nonzero;fill:rgb(0%,0%,0%);fill-opacity:1;\" d=\"M 139.203125 163.339844 C 138.902344 164.953125 137.992188 167.578125 136.933594 169.394531 L 141.472656 169.394531 C 140.414062 167.578125 139.507812 164.953125 139.203125 163.339844 \"/>\n<path style=\"fill:none;stroke-width:1.0959;stroke-linecap:butt;stroke-linejoin:miter;stroke:rgb(0%,0%,0%);stroke-opacity:1;stroke-miterlimit:10;\" d=\"M 57.564904 -13.315973 L 57.564904 -0.459085 \" transform=\"matrix(0.996244,0,0,-0.996244,196.842736,97.76139)\"/>\n<path style=\" stroke:none;fill-rule:nonzero;fill:rgb(0%,0%,0%);fill-opacity:1;\" d=\"M 254.191406 92.769531 C 253.890625 94.386719 252.980469 97.007812 251.921875 98.824219 L 256.464844 98.824219 C 255.402344 97.007812 254.496094 94.386719 254.191406 92.769531 \"/>\n<path style=\"fill:none;stroke-width:1.0959;stroke-linecap:butt;stroke-linejoin:miter;stroke:rgb(0%,0%,0%);stroke-opacity:1;stroke-miterlimit:10;\" d=\"M 57.564904 -77.690599 L 57.564904 -71.295483 \" transform=\"matrix(0.996244,0,0,-0.996244,196.842736,97.76139)\"/>\n<path style=\" stroke:none;fill-rule:nonzero;fill:rgb(0%,0%,0%);fill-opacity:1;\" d=\"M 254.191406 163.339844 C 253.890625 164.953125 252.980469 167.578125 251.921875 169.394531 L 256.464844 169.394531 C 255.402344 167.578125 254.496094 164.953125 254.191406 163.339844 \"/>\n</g>\n</svg>\n\n",
      "text/plain": [
       "TikzPicture(L\"    % The default rendering is too small and thin in a jupyter notebook.\n",
       "    % We also need the option (in options=, below) \\\"font=\\\\boldmath\\\" to get more legible fonts.\n",
       "    \\def\\nodefontsize{\\large}\n",
       "    \\pgfsetlinewidth{1.1pt}\n",
       "    \n",
       "\n",
       "    % define element styles\n",
       "    \\tikzstyle{var}    = [node font=\\nodefontsize]\n",
       "    \\tikzstyle{block}  = [draw, shape=rectangle, minimum height=2.5em, minimum width=2.5em, node font=\\nodefontsize]\n",
       "    \\tikzstyle{branch} = [fill, shape=circle, minimum size=6pt, inner sep=0pt, outer sep=0pt]\n",
       "    \\tikzstyle{sum}    = [draw, circle, node font=\\nodefontsize, inner sep=1pt]\n",
       "    \\tikzstyle{prod}   = [draw, circle, node font=\\nodefontsize, inner sep=1pt]\n",
       "\n",
       "    % define macros for different nodes types\n",
       "    \\def\\vn#1#2{\\node [var]    (#1) {#2};} % variable node\n",
       "    \\def\\bn#1  {\\node [branch] (#1) {};}\n",
       "    \\def\\sn#1  {\\node [sum]    (#1) {$+$};}\n",
       "    \\def\\pn#1  {\\node [prod]   (#1) {$\\times$};}\n",
       "    \\def\\dn#1  {\\node [block]  (#1) {$z^{-1}$};} % delay node\n",
       "\n",
       "    % create nodes\n",
       "    \\matrix[row sep=10pt, column sep=20pt] {\n",
       "        \\vn{i11}{$x[n]$}   & \\bn{b12} & \\pn{p13}        & \\sn{s14} & \\sn{s15} &                 & \\bn{b17} & \\vn{o18}{$y[n]$} \\\\\n",
       "                           & \\dn{d22} & \\vn{v23}{$b_0$} &          &          &                 & \\dn{d27} & \\\\\n",
       "        \\vn{i31}{$x[n-1]$} & \\bn{b32} & \\pn{p33}        & \\sn{s34} & \\sn{s35} & \\pn{p36}        & \\bn{b37} & \\vn{o38}{$y[n-1]$} \\\\\n",
       "                           & \\dn{d42} & \\vn{v43}{$b_1$} &          &          & \\vn{v46}{$a_1$} & \\dn{d47} & \\\\\n",
       "        \\vn{i51}{$x[n-2]$} & \\bn{b52} & \\pn{p53}        & \\sn{s54} & \\sn{s55} & \\pn{p56}        & \\bn{b57} & \\vn{o58}{$y[n-2]$} \\\\\n",
       "                           &          & \\vn{v63}{$b_2$} &          &          & \\vn{v66}{$a_2$} &          & \\\\\n",
       "    };\n",
       "\n",
       "    % connect nodes by paths\n",
       "    \\foreach \\x [remember=\\x as \\lastx (initially i11)] in {p13, s14, s15, o18}{\n",
       "        \\draw[->] (\\lastx) -- (\\x);\n",
       "    }\n",
       "    \\foreach \\x/\\tip [remember=\\x as \\lastx (initially b12)] in {d22/->, b32/-, p33/->, s34/->, s14/->}{\n",
       "        \\draw[\\tip] (\\lastx) -- (\\x);\n",
       "    }\n",
       "    \\foreach \\x/\\tip [remember=\\x as \\lastx (initially b17)] in {d27/->, b37/-, p36/->, s35/->, s15/->}{\n",
       "        \\draw[\\tip] (\\lastx) -- (\\x);\n",
       "    }\n",
       "    \\foreach \\x/\\tip [remember=\\x as \\lastx (initially b32)] in {d42/->, b52/-, p53/->, s54/->, s34/->}{\n",
       "        \\draw[\\tip] (\\lastx) -- (\\x);\n",
       "    }\n",
       "    \\foreach \\x/\\tip [remember=\\x as \\lastx (initially b37)] in {d47/->, b57/-, p56/->, s55/->, s35/->}{\n",
       "        \\draw[\\tip] (\\lastx) -- (\\x);\n",
       "    }\n",
       "\n",
       "\n",
       "    % connect variables\n",
       "    \\foreach \\x/\\y in {v23/p13, v43/p33, v63/p53, v46/p36, v66/p56}{\n",
       "        \\draw[->] (\\x) -- (\\y);\n",
       "    }\n",
       "\n",
       "    % Normally, these options make the whole plot larger, thicker, and more legible,\n",
       "    % but they don't seem to work with matrix.\n",
       "    % options=\\\"scale=1.25, thick, transform shape, auto, thick\\\"\n",
       "    % Instead, we just use font=\\\\boldmath (note the escaped \\) to make it look more like katex.\n",
       "\", \"font=\\\\boldmath, >=latex\", \"\", \"tikzpicture\", \"\", \"\", true, true)"
      ]
     },
     "metadata": {},
     "output_type": "display_data"
    }
   ],
   "source": [
    "fig = TikzPicture(L\"\"\"\n",
    "    % The default rendering is too small and thin in a jupyter notebook.\n",
    "    % We also need the option (in options=, below) \"font=\\\\boldmath\" to get more legible fonts.\n",
    "    \\def\\nodefontsize{\\large}\n",
    "    \\pgfsetlinewidth{1.1pt}\n",
    "    \n",
    "\n",
    "    % define element styles\n",
    "    \\tikzstyle{var}    = [node font=\\nodefontsize]\n",
    "    \\tikzstyle{block}  = [draw, shape=rectangle, minimum height=2.5em, minimum width=2.5em, node font=\\nodefontsize]\n",
    "    \\tikzstyle{branch} = [fill, shape=circle, minimum size=6pt, inner sep=0pt, outer sep=0pt]\n",
    "    \\tikzstyle{sum}    = [draw, circle, node font=\\nodefontsize, inner sep=1pt]\n",
    "    \\tikzstyle{prod}   = [draw, circle, node font=\\nodefontsize, inner sep=1pt]\n",
    "\n",
    "    % define macros for different nodes types\n",
    "    \\def\\vn#1#2{\\node [var]    (#1) {#2};} % variable node\n",
    "    \\def\\bn#1  {\\node [branch] (#1) {};}\n",
    "    \\def\\sn#1  {\\node [sum]    (#1) {$+$};}\n",
    "    \\def\\pn#1  {\\node [prod]   (#1) {$\\times$};}\n",
    "    \\def\\dn#1  {\\node [block]  (#1) {$z^{-1}$};} % delay node\n",
    "\n",
    "    % create nodes\n",
    "    \\matrix[row sep=10pt, column sep=20pt] {\n",
    "        \\vn{i11}{$x[n]$}   & \\bn{b12} & \\pn{p13}        & \\sn{s14} & \\sn{s15} &                 & \\bn{b17} & \\vn{o18}{$y[n]$} \\\\\n",
    "                           & \\dn{d22} & \\vn{v23}{$b_0$} &          &          &                 & \\dn{d27} & \\\\\n",
    "        \\vn{i31}{$x[n-1]$} & \\bn{b32} & \\pn{p33}        & \\sn{s34} & \\sn{s35} & \\pn{p36}        & \\bn{b37} & \\vn{o38}{$y[n-1]$} \\\\\n",
    "                           & \\dn{d42} & \\vn{v43}{$b_1$} &          &          & \\vn{v46}{$a_1$} & \\dn{d47} & \\\\\n",
    "        \\vn{i51}{$x[n-2]$} & \\bn{b52} & \\pn{p53}        & \\sn{s54} & \\sn{s55} & \\pn{p56}        & \\bn{b57} & \\vn{o58}{$y[n-2]$} \\\\\n",
    "                           &          & \\vn{v63}{$b_2$} &          &          & \\vn{v66}{$a_2$} &          & \\\\\n",
    "    };\n",
    "\n",
    "    % connect nodes by paths\n",
    "    \\foreach \\x [remember=\\x as \\lastx (initially i11)] in {p13, s14, s15, o18}{\n",
    "        \\draw[->] (\\lastx) -- (\\x);\n",
    "    }\n",
    "    \\foreach \\x/\\tip [remember=\\x as \\lastx (initially b12)] in {d22/->, b32/-, p33/->, s34/->, s14/->}{\n",
    "        \\draw[\\tip] (\\lastx) -- (\\x);\n",
    "    }\n",
    "    \\foreach \\x/\\tip [remember=\\x as \\lastx (initially b17)] in {d27/->, b37/-, p36/->, s35/->, s15/->}{\n",
    "        \\draw[\\tip] (\\lastx) -- (\\x);\n",
    "    }\n",
    "    \\foreach \\x/\\tip [remember=\\x as \\lastx (initially b32)] in {d42/->, b52/-, p53/->, s54/->, s34/->}{\n",
    "        \\draw[\\tip] (\\lastx) -- (\\x);\n",
    "    }\n",
    "    \\foreach \\x/\\tip [remember=\\x as \\lastx (initially b37)] in {d47/->, b57/-, p56/->, s55/->, s35/->}{\n",
    "        \\draw[\\tip] (\\lastx) -- (\\x);\n",
    "    }\n",
    "\n",
    "\n",
    "    % connect variables\n",
    "    \\foreach \\x/\\y in {v23/p13, v43/p33, v63/p53, v46/p36, v66/p56}{\n",
    "        \\draw[->] (\\x) -- (\\y);\n",
    "    }\n",
    "\n",
    "    % Normally, these options make the whole plot larger, thicker, and more legible,\n",
    "    % but they don't seem to work with matrix.\n",
    "    % options=\"scale=1.25, thick, transform shape, auto, thick\"\n",
    "    % Instead, we just use font=\\\\boldmath (note the escaped \\) to make it look more like katex.\n",
    "\"\"\", options=\"font=\\\\boldmath, >=latex\")"
   ]
  },
  {
   "cell_type": "markdown",
   "metadata": {},
   "source": [
    "#### General IIR difference equation\n",
    "\n",
    "The standard form of the general $nth$ order constant coefficient difference equation is\n",
    "$$\n",
    "\\sum_{k=0}^{N-1} a_k y[n-k] = \\sum_{k=0}^{M-1} b_k x[n-k]\n",
    "$$\n",
    "\n",
    "Usually it is assumed that $a_0 = 1$, and re-written in the form\n",
    "$$\n",
    "y[n] = \\sum_{k=0}^{M-1} b_k x[n-k] - \\sum_{k=1}^{N-1} a_k y[n-k]\n",
    "$$\n",
    "Note that in the second sum now starts at $k=1$.  This might seem backwards, but it's the standard, and when there's a standard it behooves you to follow it. So, note that the signs of the $a_k$ coefficients have changed sign from the 1st and 2nd order equations above.  A saving grace is that this form avoids minus signs in the spectral analysis equations, but we won't cover that here."
   ]
  },
  {
   "cell_type": "markdown",
   "metadata": {},
   "source": [
    "### 2a. Implementation\n",
    "\n",
    "Write a function `filterIIR(x; a, b)` which accepts coefficient vectors `a` and `b` of arbitrary length, with the vector `a` starting at $a_1$ and the vector `b` starting at $b_0$.  It should return an output that is the same length as the input.  Assume that the input waveform prior to the first value was zero.  Show that your function reproduces the output from the moving average filter."
   ]
  },
  {
   "cell_type": "markdown",
   "metadata": {},
   "source": [
    "### 2b. First order low- and high-pass IIR filters\n",
    "\n",
    "Use your function above to implement two filters with the coefficients $a = [-0.9]$ and $b = [0.1]$.  Illustrate the filter by applying it to a random process waveform and overlaying the filter output on the input.  \n",
    "\n",
    "We can think of waveforms as being composed of a spectrum of frequencies, i.e. the sum of oscillations of different frequencies.  A speech waveform, for example, might be composed of a small number of frequencies, and so it is a more compact way to describe the structure in the signal than the time-varying waveform.  We will see later how to compute the spectral representation for arbitrary signals.  In this example, we can think of the random process as being composed of a large set of frequencies, with rapid variations characterized by higher frequencies and slower variations by lower frequencies.\n",
    "\n",
    "This filter setting is an example of a **low-pass filter**, because it passes the lower frequency components while filtering out the higher frequencies.\n",
    "\n",
    "Now use the coefficients $a = [0.9]$ and $b = [0.1]$ and contrast the effect by applying it to the same waveform.  This is an example of a **high-pass filter** because it passes the higher frequency components and filters out the lower frequencies.\n",
    "\n",
    "Contrast the first order difference equations of these two filters.  How is each achieving the result?"
   ]
  },
  {
   "cell_type": "markdown",
   "metadata": {},
   "source": [
    "### 2c. Second order bandpass filters\n",
    "\n",
    "Illustrate the filtering a signal composed of uniform random noise on $[-1, 1]$ using the following coefficients\n",
    "$$\n",
    "\\begin{aligned}\n",
    "a &= [-1.265, 0.81] \\\\\n",
    "b &= [0.135]\n",
    "\\end{aligned}\n",
    "$$\n",
    "\n",
    "Now do the same for the following coefficients\n",
    "$$\n",
    "\\begin{aligned}\n",
    "a &= [-1.702, 0.81] \\\\\n",
    "b &= [0.063]\n",
    "\\end{aligned}\n",
    "$$\n",
    "\n",
    "What you should see is that these 2nd order filters filter out both the low and the high frequency components.  These are called **bandpass** filters.  Contrast the two IIR difference equations and provide an interpretation of how they are computing the result."
   ]
  },
  {
   "cell_type": "markdown",
   "metadata": {},
   "source": [
    "### 2d. Characterizing the filter response\n",
    "\n",
    "We have seen how filtering can process the signal to smooth it or remove low-frequency variation.  Here we want to focus on this question: If we are given an unknown system, how would we characterize its response?  Is there a way to measure the input-output relationship in a systematic way?\n",
    "\n",
    "We will discuss the analytic methods for this at a future point in the course.  Here, we simply want to develop some intuition.  Generate a noisy sine wave like above using a sampling frequency of 2 kHz and a signal duration of 100 msecs.  Using the filter coefficients in 2c, make a figure consisting of a 4x4 matrix of plots in which you vary the frequency (from low to high) over the rows and the noise level (from high to low) over the columns. Make sure that the y-axes have the same limits, an try to choose frequencies that contrast the responses.  Make one plot each for the two sets of filter coefficients in 2c.\n",
    "\n",
    "What can you observe about the relation between the output an input?\n",
    "\n",
    "Now make a plot where you systematically vary an input frequency (without noise) from 0 to the Nyquist frequency.  Plot of the output signal power as a function of frequency.  How would you characterize the system response?"
   ]
  },
  {
   "cell_type": "markdown",
   "metadata": {},
   "source": [
    "### 3. The impulse response function"
   ]
  },
  {
   "cell_type": "code",
   "execution_count": 8,
   "metadata": {
    "jupyter": {
     "source_hidden": true
    }
   },
   "outputs": [
    {
     "data": {
      "image/svg+xml": "<?xml version=\"1.0\" encoding=\"UTF-8\"?>\n<svg xmlns=\"http://www.w3.org/2000/svg\" xmlns:xlink=\"http://www.w3.org/1999/xlink\" width=\"171.262pt\" height=\"38.356pt\" viewBox=\"0 0 171.262 38.356\" version=\"1.1\">\n<defs>\n<g>\n<symbol overflow=\"visible\" id=\"glyph-1615131403272385-0-0\">\n<path style=\"stroke:none;\" d=\"\"/>\n</symbol>\n<symbol overflow=\"visible\" id=\"glyph-1615131403272385-0-1\">\n<path style=\"stroke:none;\" d=\"M 4.15625 -3.765625 C 4.234375 -4.078125 4.515625 -5.234375 5.390625 -5.234375 C 5.453125 -5.234375 5.75 -5.234375 6.015625 -5.0625 C 5.671875 -5 5.421875 -4.6875 5.421875 -4.390625 C 5.421875 -4.203125 5.546875 -3.953125 5.890625 -3.953125 C 6.171875 -3.953125 6.5625 -4.1875 6.5625 -4.6875 C 6.5625 -5.328125 5.828125 -5.5 5.40625 -5.5 C 4.6875 -5.5 4.25 -4.84375 4.09375 -4.5625 C 3.78125 -5.375 3.109375 -5.5 2.75 -5.5 C 1.453125 -5.5 0.75 -3.890625 0.75 -3.59375 C 0.75 -3.46875 0.875 -3.46875 0.890625 -3.46875 C 1 -3.46875 1.03125 -3.484375 1.0625 -3.59375 C 1.484375 -4.921875 2.296875 -5.234375 2.734375 -5.234375 C 2.96875 -5.234375 3.40625 -5.125 3.40625 -4.390625 C 3.40625 -4.015625 3.1875 -3.171875 2.734375 -1.4375 C 2.53125 -0.65625 2.09375 -0.140625 1.546875 -0.140625 C 1.46875 -0.140625 1.1875 -0.140625 0.921875 -0.296875 C 1.234375 -0.359375 1.5 -0.625 1.5 -0.96875 C 1.5 -1.3125 1.234375 -1.40625 1.046875 -1.40625 C 0.671875 -1.40625 0.359375 -1.078125 0.359375 -0.6875 C 0.359375 -0.109375 0.984375 0.140625 1.53125 0.140625 C 2.359375 0.140625 2.796875 -0.734375 2.84375 -0.8125 C 2.984375 -0.34375 3.4375 0.140625 4.1875 0.140625 C 5.46875 0.140625 6.171875 -1.46875 6.171875 -1.78125 C 6.171875 -1.90625 6.0625 -1.90625 6.03125 -1.90625 C 5.921875 -1.90625 5.890625 -1.859375 5.859375 -1.765625 C 5.453125 -0.4375 4.609375 -0.140625 4.203125 -0.140625 C 3.71875 -0.140625 3.53125 -0.53125 3.53125 -0.953125 C 3.53125 -1.234375 3.59375 -1.5 3.734375 -2.0625 Z M 4.15625 -3.765625 \"/>\n</symbol>\n<symbol overflow=\"visible\" id=\"glyph-1615131403272385-0-2\">\n<path style=\"stroke:none;\" d=\"M 1.09375 -0.734375 C 1.0625 -0.546875 0.984375 -0.265625 0.984375 -0.203125 C 0.984375 0.03125 1.15625 0.140625 1.34375 0.140625 C 1.5 0.140625 1.71875 0.03125 1.8125 -0.21875 C 1.8125 -0.234375 1.96875 -0.828125 2.046875 -1.140625 L 2.3125 -2.25 C 2.390625 -2.53125 2.46875 -2.796875 2.53125 -3.09375 C 2.578125 -3.296875 2.671875 -3.65625 2.6875 -3.71875 C 2.875 -4.09375 3.53125 -5.234375 4.71875 -5.234375 C 5.28125 -5.234375 5.390625 -4.765625 5.390625 -4.359375 C 5.390625 -3.59375 4.78125 -2 4.578125 -1.453125 C 4.46875 -1.171875 4.453125 -1.015625 4.453125 -0.890625 C 4.453125 -0.296875 4.890625 0.140625 5.484375 0.140625 C 6.65625 0.140625 7.109375 -1.6875 7.109375 -1.78125 C 7.109375 -1.90625 7 -1.90625 6.96875 -1.90625 C 6.84375 -1.90625 6.84375 -1.875 6.78125 -1.6875 C 6.53125 -0.828125 6.109375 -0.140625 5.5 -0.140625 C 5.296875 -0.140625 5.203125 -0.265625 5.203125 -0.546875 C 5.203125 -0.859375 5.3125 -1.15625 5.421875 -1.4375 C 5.671875 -2.09375 6.1875 -3.46875 6.1875 -4.171875 C 6.1875 -5 5.65625 -5.5 4.75 -5.5 C 3.640625 -5.5 3.03125 -4.703125 2.8125 -4.421875 C 2.75 -5.125 2.234375 -5.5 1.671875 -5.5 C 1.09375 -5.5 0.859375 -5.015625 0.734375 -4.796875 C 0.53125 -4.375 0.359375 -3.640625 0.359375 -3.59375 C 0.359375 -3.46875 0.484375 -3.46875 0.515625 -3.46875 C 0.640625 -3.46875 0.640625 -3.46875 0.71875 -3.75 C 0.9375 -4.625 1.1875 -5.234375 1.625 -5.234375 C 1.875 -5.234375 2.015625 -5.0625 2.015625 -4.65625 C 2.015625 -4.390625 1.984375 -4.265625 1.8125 -3.609375 Z M 1.09375 -0.734375 \"/>\n</symbol>\n<symbol overflow=\"visible\" id=\"glyph-1615131403272385-0-3\">\n<path style=\"stroke:none;\" d=\"M 6.046875 -4.75 C 6.109375 -4.921875 6.109375 -4.9375 6.109375 -5.03125 C 6.109375 -5.25 5.921875 -5.375 5.734375 -5.375 C 5.609375 -5.375 5.421875 -5.296875 5.3125 -5.109375 C 5.28125 -5.046875 5.1875 -4.65625 5.125 -4.4375 C 5.046875 -4.109375 4.953125 -3.765625 4.875 -3.4375 L 4.328125 -1.203125 C 4.265625 -1.015625 3.734375 -0.140625 2.90625 -0.140625 C 2.28125 -0.140625 2.140625 -0.6875 2.140625 -1.140625 C 2.140625 -1.71875 2.359375 -2.484375 2.78125 -3.59375 C 2.96875 -4.09375 3.03125 -4.234375 3.03125 -4.484375 C 3.03125 -5.046875 2.625 -5.5 2 -5.5 C 0.828125 -5.5 0.359375 -3.703125 0.359375 -3.59375 C 0.359375 -3.46875 0.484375 -3.46875 0.515625 -3.46875 C 0.640625 -3.46875 0.640625 -3.484375 0.703125 -3.6875 C 1.046875 -4.859375 1.546875 -5.234375 1.96875 -5.234375 C 2.0625 -5.234375 2.28125 -5.234375 2.28125 -4.828125 C 2.28125 -4.515625 2.15625 -4.203125 2.0625 -3.953125 C 1.5625 -2.640625 1.34375 -1.9375 1.34375 -1.34375 C 1.34375 -0.234375 2.125 0.140625 2.859375 0.140625 C 3.34375 0.140625 3.765625 -0.078125 4.125 -0.421875 C 3.953125 0.21875 3.8125 0.828125 3.3125 1.5 C 2.984375 1.921875 2.515625 2.28125 1.9375 2.28125 C 1.765625 2.28125 1.203125 2.234375 1 1.75 C 1.203125 1.75 1.359375 1.75 1.53125 1.609375 C 1.65625 1.5 1.78125 1.328125 1.78125 1.09375 C 1.78125 0.703125 1.4375 0.65625 1.3125 0.65625 C 1.03125 0.65625 0.625 0.859375 0.625 1.46875 C 0.625 2.09375 1.171875 2.546875 1.9375 2.546875 C 3.21875 2.546875 4.515625 1.421875 4.859375 0.015625 Z M 6.046875 -4.75 \"/>\n</symbol>\n<symbol overflow=\"visible\" id=\"glyph-1615131403272385-1-0\">\n<path style=\"stroke:none;\" d=\"\"/>\n</symbol>\n<symbol overflow=\"visible\" id=\"glyph-1615131403272385-1-1\">\n<path style=\"stroke:none;\" d=\"M 3.171875 3.109375 L 3.171875 2.609375 L 1.96875 2.609375 L 1.96875 -8.84375 L 3.171875 -8.84375 L 3.171875 -9.34375 L 1.46875 -9.34375 L 1.46875 3.109375 Z M 3.171875 3.109375 \"/>\n</symbol>\n<symbol overflow=\"visible\" id=\"glyph-1615131403272385-1-2\">\n<path style=\"stroke:none;\" d=\"M 1.984375 -9.34375 L 0.28125 -9.34375 L 0.28125 -8.84375 L 1.484375 -8.84375 L 1.484375 2.609375 L 0.28125 2.609375 L 0.28125 3.109375 L 1.984375 3.109375 Z M 1.984375 -9.34375 \"/>\n</symbol>\n<symbol overflow=\"visible\" id=\"glyph-1615131403272385-2-0\">\n<path style=\"stroke:none;\" d=\"\"/>\n</symbol>\n<symbol overflow=\"visible\" id=\"glyph-1615131403272385-2-1\">\n<path style=\"stroke:none;\" d=\"M 4.125 -4.171875 C 4.28125 -4.75 4.453125 -5.390625 4.5625 -5.984375 C 4.71875 -6.828125 4.8125 -7.65625 4.8125 -7.8125 C 4.8125 -8.5 4.125 -8.5 3.96875 -8.5 C 3.03125 -8.5 2.171875 -8.15625 1.59375 -7.765625 C 0.578125 -7.078125 0.265625 -6.234375 0.265625 -6.171875 C 0.265625 -6.09375 0.34375 -6.09375 0.390625 -6.09375 C 0.484375 -6.09375 1.078125 -6.234375 1.328125 -6.71875 C 1.671875 -7.34375 2.03125 -7.828125 3.15625 -7.828125 C 3.65625 -7.828125 3.75 -7.46875 3.75 -7.265625 C 3.75 -7.265625 3.71875 -6.671875 3.5625 -5.8125 C 3.5 -5.46875 3.46875 -5.25 3.203125 -4.171875 L 2.75 -4.171875 C 2.40625 -4.15625 1.828125 -3.765625 1.828125 -3.578125 C 1.828125 -3.5 1.84375 -3.484375 2.109375 -3.484375 L 3.015625 -3.484375 C 2.75 -2.609375 2.40625 -1.421875 1.828125 0.09375 C 1.71875 0.390625 1.71875 0.40625 1.71875 0.421875 C 1.71875 0.515625 1.8125 0.515625 1.84375 0.515625 C 2.015625 0.515625 2.40625 0.34375 2.65625 0.09375 C 2.71875 0.03125 2.734375 0 2.796875 -0.125 C 3.21875 -1.21875 3.59375 -2.34375 3.921875 -3.484375 L 6.71875 -3.484375 C 6.859375 -3.484375 7.09375 -3.484375 7.296875 -3.609375 C 7.15625 -3.09375 6.65625 -1.0625 6.65625 -0.078125 C 6.65625 0.28125 6.859375 0.609375 7.390625 0.609375 C 9.046875 0.609375 9.96875 -0.421875 9.96875 -0.828125 C 9.96875 -0.890625 9.90625 -0.921875 9.84375 -0.921875 C 9.75 -0.921875 9.09375 -0.75 8.90625 -0.265625 C 8.859375 -0.15625 8.84375 -0.15625 8.609375 -0.109375 C 8.46875 -0.09375 8.234375 -0.078125 8.21875 -0.078125 C 8 -0.078125 7.703125 -0.21875 7.703125 -0.609375 C 7.703125 -0.765625 7.796875 -1.4375 7.828125 -1.71875 C 8.046875 -3.09375 8.65625 -5.4375 9.71875 -8.28125 C 9.765625 -8.375 9.765625 -8.390625 9.765625 -8.421875 C 9.765625 -8.5 9.6875 -8.5 9.640625 -8.5 C 9.453125 -8.5 9.09375 -8.328125 8.859375 -8.125 C 8.84375 -8.09375 8.765625 -8.03125 8.71875 -7.921875 C 8.21875 -6.703125 7.828125 -5.4375 7.453125 -4.171875 Z M 4.125 -4.171875 \"/>\n</symbol>\n</g>\n<clipPath id=\"clip-1615131403272385-1\">\n  <path d=\"M 66 0 L 105 0 L 105 38.355469 L 66 38.355469 Z M 66 0 \"/>\n</clipPath>\n</defs>\n<g id=\"surface1\">\n<g style=\"fill:rgb(0%,0%,0%);fill-opacity:1;\">\n  <use xlink:href=\"#glyph-1615131403272385-0-1\" x=\"4.151\" y=\"22.291\"/>\n</g>\n<g style=\"fill:rgb(0%,0%,0%);fill-opacity:1;\">\n  <use xlink:href=\"#glyph-1615131403272385-1-1\" x=\"11.2685\" y=\"22.291\"/>\n</g>\n<g style=\"fill:rgb(0%,0%,0%);fill-opacity:1;\">\n  <use xlink:href=\"#glyph-1615131403272385-0-2\" x=\"14.72725\" y=\"22.291\"/>\n</g>\n<g style=\"fill:rgb(0%,0%,0%);fill-opacity:1;\">\n  <use xlink:href=\"#glyph-1615131403272385-1-2\" x=\"22.20225\" y=\"22.291\"/>\n</g>\n<g clip-path=\"url(#clip-1615131403272385-1)\" clip-rule=\"nonzero\">\n<path style=\"fill:none;stroke-width:0.99628;stroke-linecap:butt;stroke-linejoin:miter;stroke:rgb(0%,0%,0%);stroke-opacity:1;stroke-miterlimit:10;\" d=\"M 18.681125 18.681906 L -18.67825 18.681906 L -18.67825 -18.681375 L 18.681125 -18.681375 Z M 18.681125 18.681906 \" transform=\"matrix(1,0,0,-1,85.772,19.178)\"/>\n</g>\n<g style=\"fill:rgb(0%,0%,0%);fill-opacity:1;\">\n  <use xlink:href=\"#glyph-1615131403272385-2-1\" x=\"80.454\" y=\"23.433\"/>\n</g>\n<g style=\"fill:rgb(0%,0%,0%);fill-opacity:1;\">\n  <use xlink:href=\"#glyph-1615131403272385-0-3\" x=\"146.165\" y=\"22.291\"/>\n</g>\n<g style=\"fill:rgb(0%,0%,0%);fill-opacity:1;\">\n  <use xlink:href=\"#glyph-1615131403272385-1-1\" x=\"152.7175\" y=\"22.291\"/>\n</g>\n<g style=\"fill:rgb(0%,0%,0%);fill-opacity:1;\">\n  <use xlink:href=\"#glyph-1615131403272385-0-2\" x=\"156.1775\" y=\"22.291\"/>\n</g>\n<g style=\"fill:rgb(0%,0%,0%);fill-opacity:1;\">\n  <use xlink:href=\"#glyph-1615131403272385-1-2\" x=\"163.6525\" y=\"22.291\"/>\n</g>\n<path style=\"fill:none;stroke-width:0.79701;stroke-linecap:butt;stroke-linejoin:miter;stroke:rgb(0%,0%,0%);stroke-opacity:1;stroke-miterlimit:10;\" d=\"M -55.475125 -0.0016875 L -23.971219 -0.0016875 \" transform=\"matrix(1,0,0,-1,85.772,19.178)\"/>\n<path style=\" stroke:none;fill-rule:nonzero;fill:rgb(0%,0%,0%);fill-opacity:1;\" d=\"M 66.464844 19.179688 C 65.082031 18.917969 62.839844 18.140625 61.285156 17.234375 L 61.285156 21.121094 C 62.839844 20.214844 65.082031 19.4375 66.464844 19.179688 \"/>\n<path style=\"fill:none;stroke-width:0.79701;stroke-linecap:butt;stroke-linejoin:miter;stroke:rgb(0%,0%,0%);stroke-opacity:1;stroke-miterlimit:10;\" d=\"M 19.306125 -0.0016875 L 51.095188 -0.0016875 \" transform=\"matrix(1,0,0,-1,85.772,19.178)\"/>\n<path style=\" stroke:none;fill-rule:nonzero;fill:rgb(0%,0%,0%);fill-opacity:1;\" d=\"M 141.53125 19.179688 C 140.148438 18.917969 137.902344 18.140625 136.347656 17.234375 L 136.347656 21.121094 C 137.902344 20.214844 140.148438 19.4375 141.53125 19.179688 \"/>\n</g>\n</svg>\n\n",
      "text/plain": [
       "TikzPicture(L\"% define elements\n",
       "\\tikzstyle{block} = [draw, shape=rectangle, minimum height=3em, minimum width=3em, node distance=2cm, line width=1pt]\n",
       "    \n",
       "% create nodes\n",
       "\\node at (-2.0,0) (input)  {$x[n]$};\n",
       "\\node     [block] (H)      {$\\mathcal{H}$};\n",
       "\\node at (2.0,0)  (output) {$y[n]$};\n",
       "\n",
       "% connect\n",
       "\\draw[->] (input) -- (H);\n",
       "\\draw[->] (H) -- (output);\n",
       "\", \"scale=1.25, thick, transform shape, auto, >=latex\", \"\", \"tikzpicture\", \"\", \"\", true, true)"
      ]
     },
     "execution_count": 8,
     "metadata": {},
     "output_type": "execute_result"
    }
   ],
   "source": [
    "using TikzPictures\n",
    "\n",
    "fig = TikzPicture(L\"\"\"\n",
    "% define elements\n",
    "\\tikzstyle{block} = [draw, shape=rectangle, minimum height=3em, minimum width=3em, node distance=2cm, line width=1pt]\n",
    "    \n",
    "% create nodes\n",
    "\\node at (-2.0,0) (input)  {$x[n]$};\n",
    "\\node     [block] (H)      {$\\mathcal{H}$};\n",
    "\\node at (2.0,0)  (output) {$y[n]$};\n",
    "\n",
    "% connect\n",
    "\\draw[->] (input) -- (H);\n",
    "\\draw[->] (H) -- (output);\n",
    "\"\"\", options=\"scale=1.25, thick, transform shape, auto, >=latex\")"
   ]
  },
  {
   "cell_type": "markdown",
   "metadata": {},
   "source": [
    "The essential property of linear time-invariant (LTI)systems is that it is possible to predict the system response $y[n]$ to *any* input $x[n]$ using just a single function, called the *impulse response function*.  Naturally, this is derived assuming properties of linearity and time-invariance.  Here we assume the response of the system is determined by $\\mathcal{H}$\n",
    "\n",
    "$$\n",
    "y[n] = \\mathcal{H}(x[n])\n",
    "$$\n",
    "\n",
    "Note that this does not imply the $nth$ sample of the output is a function of only the $nth$ sample of the input.  As we have seen above, the output of an $nth$ order system is a function of the previous $n$ samples.  \n",
    "\n",
    "Here, we have use a common but notationally imprecise shorthand, i.e. using $x[n]$ to refer to the whole waveform and also the value of that waveform at the $nth$ sample.  This is analogous to what we mean when we use $f(t)$ to refer to both the function $f$ or its value at time $t$, depending on the context.  Analogous to when we say the function $f(t)$ we say the sequence $x[n]$."
   ]
  },
  {
   "cell_type": "markdown",
   "metadata": {},
   "source": [
    "#### Linearity\n",
    "\n",
    "The assumption that the system is linear means\n",
    "$$\n",
    "\\mathcal{H}(\\alpha x_1[n] + \\beta x_2[n]) \n",
    "= \\alpha\\mathcal{H}(x_1[n]) + \\beta\\mathcal{H}(x_2[n])\n",
    "$$\n",
    "\n",
    "This is also called the principle of superposition.  This can be generalized to the superposition of many inputs.  If\n",
    "$$\n",
    "x[n] = \\sum_k \\alpha_k x_k[n]\n",
    "$$\n",
    "and the individual system responses are\n",
    "$$\n",
    "y_k[n] = \\mathcal{H}(x_k[n])\n",
    "$$\n",
    "then the output will be the superposition of the individual responses\n",
    "$$\n",
    "y[n] = \\sum_k \\alpha_k y_k[n]\n",
    "$$\n",
    "\n",
    "The assumptions of linearity is natural for sounds since sound pressure is additive.  It also works for electrical circuits since both voltage and current are also additive.  For images, however, the assumption of linearity can be questioned.  The property of occlusion means that the representation of two objects is not the same as the addition of their individual representations.  Images might be invariant in the time axis, but they are not in the z-axis due to perspective distortion.  We want to keep a clear distinction between additive features, which we might be able to detect using the methods describe here, and the causal structures of sounds and images, which require non-linear approaches using algorithms and inference."
   ]
  },
  {
   "cell_type": "markdown",
   "metadata": {},
   "source": [
    "#### Time invariance\n",
    "The assumption that the system is time invariant (also called shift-invariant) means\n",
    "$$\n",
    "y[n] = \\mathcal{H}(x[n]) \\iff \\mathcal{H}(x[n - n_0]) = y[n - n_0]\n",
    "$$\n",
    "\n",
    "This says that a shift in the input implies a corresponding shift in the output.  This assumption could be violated if the system *itself* changes over time, e.g. due to energy depletion or other non-stationary properties."
   ]
  },
  {
   "cell_type": "markdown",
   "metadata": {},
   "source": [
    "### 3a. Deriving the impulse response function\n",
    "\n",
    "The reproducing formula\n",
    "$$\n",
    "x[n] = \\sum_{k=-\\infty}^{\\infty} x[k] \\delta[n-k]\n",
    "$$\n",
    "represents an arbitrary signal $x[n]$ as a sum of impulses occuring at sample $n-k$.  Explain how the assumptions of linearity and time-invariance are necessary to derive the following formula\n",
    "$$\n",
    "y[n] = \\mathcal{H}(x[n]) = \\sum_{k=-\\infty}^{\\infty} x[k] h[n-k]\n",
    "$$\n",
    "What is the definition of $h[n]$?  Explain how this shows that we can predict the system response to an arbitrary input."
   ]
  },
  {
   "cell_type": "markdown",
   "metadata": {},
   "source": [
    "### 3b. Impulse responses\n",
    "\n",
    "Plot the impulse responses for the systems used thus far. How can you interpret the impulse response functions in terms of a weighted average to explain the system response?"
   ]
  },
  {
   "cell_type": "markdown",
   "metadata": {},
   "source": [
    "### 4. Filtering with convolution\n",
    "\n",
    "The formula for the impulse response function describes the mathematical operation of **convolution**\n",
    "$$\n",
    "y[n] = \\sum_{k=-\\infty}^{\\infty} x[k] h[n-k]\n",
    "$$\n",
    "\n",
    "Convolution is commonly written with the $*$ operator\n",
    "$$\n",
    "y[n] = x[n] * h[n]\n",
    "$$\n",
    "Aside: Perhaps because keyboards lacked a $\\times$ symbol (and a $\\div$), the asterisk was appropriated for multiplication in computer programs.  The convolution operation does involve multiplication, but even though it looks like element-wise multiplication, it is very much not\n",
    "$$\n",
    "x[n] * h[n] \\neq x[n] \\times h[n]\n",
    "$$\n",
    "This is the same shorthand notation discussed above.  A more precise notation for convolution is\n",
    "$$\n",
    "y[n] = (x*h)[n]\n",
    "$$\n",
    "which at least suggests that we're convolving the waveforms $x$ and $h$ and *then* taking the $nth$ sample of the result.  \n",
    "\n",
    "#### Non-causal filters\n",
    "\n",
    "Note that in the convolution sum $k$ goes from $-\\infty$ to $\\infty$.  For a time-varying signal, values of $x[k>n]$ are in the *future*, and so can't be implemented in a real time system, but for signals that are stored in memory this obviously isn't an issue. This is commonly used to define filters centered on the input sample."
   ]
  },
  {
   "cell_type": "markdown",
   "metadata": {},
   "source": [
    "### 4a. Implementing convolution \n",
    "\n",
    "Write a function `convolve(x; h=[1], h0=1` that convolves the signal `x` with the impulse response function `h` (also called a convolution kernel).\n",
    "\n",
    "Note that in the convolution equation above $k$ is an offset index, not a sample index of the array $h[n]$, because $k$ ranges from $-\\infty$ to $\\infty$.  When you implement this equation, you will need convert the offset $n-k$ to an index of the array $h$ using the argument $h0$.  \n",
    "\n",
    "Some convolution kernels like the Gabor are defined around zero, while others like a gammatone start at zero.  You can use $h0$ to control whether the convolution is centered around $x[n]$, which is inherently non-causal because it's using values $x[k > n]$, or to make the convolution causal so it only uses values $x[k \\leq n]$.  The default value $h0=1$ above assumes a causal filter and 1-based indexing.\n",
    "\n",
    "Show that convolving a signal with the impulse response function you obtained in 3b produces the same result as the IIR filter."
   ]
  },
  {
   "cell_type": "markdown",
   "metadata": {},
   "source": [
    "### 4b. FIR filtering\n",
    "\n",
    "A filter that uses convolution and a kernel to compute the result is called an **FIR filter** which stands for finite impulse response.  Show that your previous result can be approximated using only the first $k$ values of $h[k]$ that are significantly different from zero.\n",
    "\n",
    "Use your function to compute the convolution of the same noise signal you used in 2d for the bandpass filters, but this time with using a Gabor function with frequency 250 Hz and $\\sigma=3/250$.  Center the filter using the $h_0$ argument."
   ]
  },
  {
   "cell_type": "markdown",
   "metadata": {},
   "source": [
    "### 4c. Using matched filters to detect signals in noise\n",
    "\n",
    "Use your code from A3a to generate a gammatone function in different levels of noise.  Show how you can detect this signal using a \"matched\" gammatone filter, i.e. a convolution kernel with the same parameters as the signal you are trying to detect.  Comment on the effectiveness of this approach vs threshold detection."
   ]
  },
  {
   "cell_type": "markdown",
   "metadata": {},
   "source": [
    "### Tests and self checks\n",
    "\n",
    "You should write tests for your code and make plots to verify that your implementations are correct.  After you submit your draft version, take the self check quiz.  This will give you feedback so you can make corrections and revisions before you submit your final version.  For this assignment the quiz will consist primarily of the submitting the assignment figures."
   ]
  },
  {
   "cell_type": "markdown",
   "metadata": {},
   "source": [
    "***\n",
    "### Submission Instructions\n",
    "\n",
    "Please refer to the Assignment Submission Instructions on canvas under the Pages tab."
   ]
  }
 ],
 "metadata": {
  "interpreter": {
   "hash": "40d3a090f54c6569ab1632332b64b2c03c39dcf918b08424e98f38b5ae0af88f"
  },
  "kernelspec": {
   "display_name": "Julia 1.7.2",
   "language": "python",
   "name": "python3"
  },
  "language_info": {
   "file_extension": ".jl",
   "mimetype": "application/julia",
   "name": "python",
   "version": "3.8.8"
  }
 },
 "nbformat": 4,
 "nbformat_minor": 4
}
