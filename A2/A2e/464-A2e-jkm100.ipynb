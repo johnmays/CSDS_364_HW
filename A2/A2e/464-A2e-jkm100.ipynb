{
 "cells": [
  {
   "cell_type": "markdown",
   "metadata": {},
   "source": [
    "##### Some notes for myself:\n",
    "- I can type all my functions in this notebook\n",
    "- The .zip file should INCLUDE the .ipynb as well as the data and code\n",
    "- the paper I am reading is in *S6_2022/CSDS_364/readings/A2e*"
   ]
  },
  {
   "cell_type": "markdown",
   "metadata": {},
   "source": [
    "## Assignment A2e: Hidden Markov Models for Speech Recognition\n",
    "\n",
    "### John Mays (jkm100)"
   ]
  },
  {
   "cell_type": "markdown",
   "metadata": {},
   "source": [
    "##### Motivation:\n",
    "lorem ipsum"
   ]
  },
  {
   "cell_type": "markdown",
   "metadata": {},
   "source": [
    "##### Consulted Work:\n",
    "- Mark Gales and Steve Young. *The Application of Hidden Markov Models in Speech Recognition.* Online PDF: https://mi.eng.cam.ac.uk/~mjfg/mjfg_NOW.pdf\n",
    "- 3Blue1Brown. *But What is the Fourier Transform? A Visual Introduction.* YouTube Video: https://www.youtube.com/watch?v=spUNpyF58BY&ab_channel=3Blue1Brown"
   ]
  },
  {
   "cell_type": "markdown",
   "metadata": {},
   "source": [
    "### 1. Let's See a Spectrogram\n",
    "There are two primary ways to do it:\n",
    "- bandpass filters\n",
    "- Fourier transforms"
   ]
  },
  {
   "cell_type": "code",
   "execution_count": 1,
   "metadata": {},
   "outputs": [],
   "source": []
  },
  {
   "cell_type": "code",
   "execution_count": null,
   "metadata": {},
   "outputs": [],
   "source": []
  }
 ],
 "metadata": {
  "interpreter": {
   "hash": "40d3a090f54c6569ab1632332b64b2c03c39dcf918b08424e98f38b5ae0af88f"
  },
  "kernelspec": {
   "display_name": "Python 3.8.8 ('base')",
   "language": "python",
   "name": "python3"
  },
  "language_info": {
   "codemirror_mode": {
    "name": "ipython",
    "version": 3
   },
   "file_extension": ".py",
   "mimetype": "text/x-python",
   "name": "python",
   "nbconvert_exporter": "python",
   "pygments_lexer": "ipython3",
   "version": "3.8.8"
  },
  "orig_nbformat": 4
 },
 "nbformat": 4,
 "nbformat_minor": 2
}
