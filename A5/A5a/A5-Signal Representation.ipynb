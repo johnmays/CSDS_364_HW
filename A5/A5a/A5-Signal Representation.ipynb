{
 "cells": [
  {
   "cell_type": "markdown",
   "metadata": {},
   "source": [
    "## Assignment A5: Signal Representation\n",
    "\n",
    "Please follow the General Assignment Guidelines document on canvas under the Pages for completing this assignment.  When you have completed the assignment, please follow the Submission Instructions."
   ]
  },
  {
   "cell_type": "markdown",
   "metadata": {},
   "source": [
    "### Overview\n",
    "\n",
    "This assignment focuses on concepts in signal representation and source separation."
   ]
  },
  {
   "cell_type": "markdown",
   "metadata": {},
   "source": [
    "### Readings\n",
    "\n",
    "The following material provides both background and additional context.  It linked in the Canvas page for this assignment.  Refer to these for a more detailed explanation and formal presentation of the concepts in the exercises.\n",
    "\n",
    "- Müller (2015) *Fundamentals of Music Processing*. Ch. 2 Fourier Analysis of Signals.\n",
    "- Prandoni and Vetterli (2008) *Signal Processing for Communications*.  Ch. 4 Fourier Analysis."
   ]
  },
  {
   "cell_type": "markdown",
   "metadata": {},
   "source": [
    "### Learning objectives\n",
    "\n",
    "- Construct basis functions of a discrete Fourier transform (DFT) \n",
    "- Demonstrate how basis functions are defined using the complex exponential.\n",
    "- Plot examples of the real and imaginary pairs of the DFT.\n",
    "- Demonstrate how the Fourier transform can be implemented as a matrix-vector operation.\n",
    "- Compare and benchmark this implementation to the standard `fft` function.\n",
    "- Use the inverse Fourier transform to synthesize bandpass noise.\n",
    "- Illustrate 2D transforms by recovering and plotting their 2D basis functions."
   ]
  },
  {
   "cell_type": "markdown",
   "metadata": {},
   "source": [
    "***\n",
    "## Exercises"
   ]
  },
  {
   "cell_type": "markdown",
   "metadata": {},
   "source": [
    "\n",
    "### 1. Basis functions of the discrete Fourier transform\n",
    "\n",
    "In the last assignment you used the Fourier transform to form a represenatation of signals in terms of frequencies.  Here we will construct the discrete Fourier transform from the mathematics as an exercise in basis representation and to see how it relates to a matrix-vector operation.\n",
    "\n",
    "The discrete Fourier transform (DFT) decomposes a signal of length $N$ into a set of $N$ frequencies.  We will now see how these form a **basis** and provide an equivalent (i.e. invertible) representation of arbitrary signals of length $N$.\n",
    "\n",
    "A basis is a set of linearly independent vectors than **span** the space, i.e. it is possible to represent all signals of length $N$.  If the vectors are also mutually orthogonal with unit norm, this is called an **orthonormal basis**, which is the case for most common transforms.  In linear algebra terms, this is equivalent to defining different axes for the same data.  Here, we are going from the axes of sample values to axes of frequency components.\n",
    "\n",
    "The individual basis functions in the discrete Fourier transform are defined by\n",
    "\n",
    "$$\n",
    "w_k[n] = \\exp(j\\, \\omega_k n), \\quad n = 0, \\ldots, N-1\n",
    "$$\n",
    "\n",
    "Note here we are using the complex exponential representation discussed in A4.The basis functions must satisfy certain conditions in order to form a proper basis.  Each frequency contains a whole number of periods over $N$ samples, so it is a periodic function, i.e. $w_k[0] = w_k[N]$ = 1.  \n"
   ]
  },
  {
   "cell_type": "markdown",
   "metadata": {},
   "source": [
    "\n",
    "The frequency components of the DFT are defined by\n",
    "\n",
    "$$\n",
    "w_k[n] = \\exp \\left(j \\frac{2\\pi k}{N} n \\right), \\quad k = 0, \\ldots, N-1\n",
    "$$\n",
    "\n",
    "For each basis functions to be normalized, we would need to scale by $1/\\sqrt{N}$, but we will postpone this until we write the transformation in matrix form.\n",
    "\n",
    "Note that the frequencies are defined by $(2\\pi/N)k$, i.e. a fraction of $2\\pi$, so each frequency is a multiple of $2\\pi/N$.  For $k=N$, this \"wraps around\" on the unit circle.  It is also true that $k=N-1$ is equivalent to $k=-1$, since we are either adding or subtracting $2\\pi/N$.\n",
    "\n",
    "This fraction is then further multiplied by $n$, so the functions $\\exp(j 2\\pi k n / N)$ are repeatedly wrapping around the unit circle giving the cosine (real) and sine (imaginary) values until they complete a full period of the function represented by the basis at $n=N$.  At that point all frequencies are a multiple of $2\\pi$.  \n"
   ]
  },
  {
   "cell_type": "markdown",
   "metadata": {},
   "source": [
    "#### 1a. Visualizing the Complex Representation of a Fourier Basis\n",
    "\n",
    "The complex representation can be visualized by plotting values of $\\exp(j2\\pi k/N)$ on the unit circle (for reference, see figure 4.1 in Prandoni and Vetterli or figure 2.4 in Müller).  For the lowest frequency $k=1/N$, the values for $n=0, \\ldots, N-1$ simply trace out the discrete cosine and sine functions, each completing a full period in $N$ samples. For $k=2/N$, it is the same process except in steps of $2\\pi \\cdot 2/N$, so two full periods are completed for $N$ samples. "
   ]
  },
  {
   "cell_type": "markdown",
   "metadata": {},
   "source": [
    "Write a function to plot this visualization of $w_k[n]$ showing both the unit circle and the discrete set of points that wrap around the axis.  Remember that the x-axis is the real values of $\\exp(j\\theta)$  (i.e. $\\cos\\theta$) and the y-axis is the imaginary values ($\\sin\\theta$).  Plot this for two different values of $k$, and explain the plots in your own words and using the mathematics."
   ]
  },
  {
   "cell_type": "markdown",
   "metadata": {},
   "source": [
    "#### 1b. Visualizing the basis functions\n",
    "\n",
    "Write a function `w(n, k, N)` to implement the definition above of the DFT basis function.  This should be defined as a complex function.  Write another function `plotw(k ,N)` to plot the real and imaginary pairs of the basis function (as discrete stem plots) and illustrate a few different basis functions using different values of $k$.  Your examples should resemble figures 4.2 to 4.5 in the Prandoni and Vetterli reference.  If you use higher frequencies that approach the Nyquist frequency (where the periodicity of the discrete function is less apparent), overlay the stem plots on plots the sine and cosine functions as continuous lines."
   ]
  },
  {
   "cell_type": "markdown",
   "metadata": {},
   "source": [
    "#### 1c. Orthogonality\n",
    "\n",
    "Show empiricaly (i.e. using your function from 1b) that these basis vectors are orthogonal, but not orthonormal.  This property will be important for simple definitions of the forward and inverse transforms."
   ]
  },
  {
   "cell_type": "markdown",
   "metadata": {},
   "source": [
    "### 2. Fourier analysis in matrix-vector form\n",
    "\n",
    "We have seen that the basis functions are defined by\n",
    "\n",
    "$$\n",
    "w_k[n] = \\exp \\left(j \\frac{2\\pi k}{N} n \\right), \\quad n, k = 0, \\ldots, N-1\n",
    "$$\n",
    "\n",
    "but since they are discrete, they are also basis *vectors*.  We can use this fact to more easily observe different properties and how we transform to and from the frequency domain.\n",
    "\n",
    "As noted above, these vectors are orthogonal but not orthonormal, because\n",
    "$$\n",
    "\\def\\bw{\\textbf{w}}\n",
    "\\left< \\bw^{(m)}, \\bw^{(n)} \\right> =\n",
    "\\begin{cases}\n",
    "N &\\text{for } m = n \\\\\n",
    "0 &\\text{for } m \\neq n\\\\\n",
    "\\end{cases}\n",
    "$$\n",
    "So, the Fourier coefficients are scaled by a factor of $N$ compared to the sinusoidal components of the waveform.  "
   ]
  },
  {
   "cell_type": "markdown",
   "metadata": {},
   "source": [
    "#### Fourier representation as a matrix equation\n",
    "\n",
    "$$\n",
    "% These katex macros are is no longer persistent in vscode..\n",
    "% I haven't figured out a workaround other than to copy them...\n",
    "% \\gdef\\bw{\\textbf{w}}\n",
    "% \\gdef\\by{\\textbf{y}}\n",
    "% \\gdef\\bY{\\textbf{Y}}\n",
    "% \\gdef\\bA{\\textbf{A}}\n",
    "$$\n",
    "\n",
    "If we define an $N\\times N$ matrix $\\textbf{A}$ as follows\n",
    "\n",
    "$$\n",
    "A_{nk} = w_k[n]\n",
    "$$\n",
    "\n",
    "then the columns of $\\textbf{A}$ correspond to the basis vectors.  The waveform (now as a column vector) as function of the Fourier matrix is\n",
    "\n",
    "$$\n",
    "y[n] = \\frac{1}{N} \\sum_k A_{n,k} s_k, \\quad k = 0, \\ldots, N-1\n",
    "$$\n"
   ]
  },
  {
   "cell_type": "markdown",
   "metadata": {},
   "source": [
    "\n",
    "The waveform model in matrix-vector form is\n",
    "\n",
    "$$\n",
    "\\def\\by{\\textbf{y}}\n",
    "\\def\\bs{\\textbf{s}}\n",
    "\\def\\bA{\\textbf{A}}\n",
    "\\by = \\frac{1}{N}\\mathbf{A}\\bs\n",
    "$$\n",
    "\n",
    "where $\\textbf{s} = [s_1, \\ldots, s_N] $ is the Fourier transform of $\\textbf{y}$.  [Notational aside: It is common in engineering to use a capital $\\textbf{Y}$ to indicate the Fourier transform of $\\textbf{y}$, but here that would create a notational conflict with using uppercase bold for matrices and lowercase bold for vectors.  So, we just use $\\textbf{s}$ for the Fourier coefficients (the sinusoids).]\n",
    "\n",
    "In this form, we can easily derive $\\textbf{s}$ with matrix inversion.  Multiplying the left hand side by $\\textbf{A}^{-1}$ we have\n",
    "\n",
    "$$\n",
    "\\def\\by{\\textbf{y}}\n",
    "\\def\\bs{\\textbf{s}}\n",
    "\\def\\bA{\\textbf{A}}\n",
    "\\bA^{-1} \\by = \\frac{1}{N} \\bA^{-1} \\bA\\bs\n",
    "$$\n",
    "\n",
    "Because of the orthogonality property above we have\n",
    "$$\n",
    "\\def\\bA{\\textbf{A}}\n",
    "\\bA^H\\bA = N\\textbf{I} \\Rightarrow\n",
    "$$\n",
    "\n",
    "$$\n",
    "\\def\\by{\\textbf{y}}\n",
    "\\def\\bs{\\textbf{s}}\n",
    "\\def\\bA{\\textbf{A}}\n",
    "\\begin{aligned}\n",
    "\\bA^{-1} \\by &= \\frac{1}{N} \\bA^{-1} \\bA\\bs \\\\\n",
    "\\bA^H \\by &= \\frac{1}{N} \\bA^{H} \\bA\\bs \\\\\n",
    "\\Rightarrow \\bs &= \\bA^H\\by \\\\\n",
    "\\end{aligned}\n",
    "$$\n",
    "\n",
    "So, now we see why we have to scale the spectra from the FFT by $1/N$ to get the correct magnitudes."
   ]
  },
  {
   "cell_type": "markdown",
   "metadata": {},
   "source": [
    "Here we have derived the transform from the viewpoint of the signal model.  Since the inverse is just the conjugate transpose of the forward matrix, we can also express the equation from the viewpoint of the transform.  In particular, since the conjugate of $e^{i\\theta} = e^{-i\\theta}$ then\n",
    "\n",
    "$$\n",
    "w^*_k[n] = \\exp \\left(-j \\frac{2\\pi k}{N} n \\right), \\quad n, k = 0, \\ldots, N-1\n",
    "$$\n",
    "\n",
    "Now you see why the complex exponential form for Fourier transforms is so convenient.\n",
    "\n",
    "We can then define a corresponding matrix $\\textbf{W}$ to transform to Fourier space\n",
    "\n",
    "$$\n",
    "\\def\\bW{\\textbf{W}}\n",
    "\\bW_{nk} = w^*_k[n]\\\\\n",
    "$$\n",
    "\n",
    "Then in matrix vector form we have\n",
    "\n",
    "$$\n",
    "\\def\\by{\\textbf{y}}\n",
    "\\def\\bs{\\textbf{s}}\n",
    "\\def\\bW{\\textbf{W}}\n",
    "\\bs = \\bW\\by\n",
    "$$\n",
    "\n",
    "so the equation for to compute Fourier coefficient is just an inner product\n",
    "\n",
    "$$\n",
    "s_k = \\sum_n W_{n, k}\\, y[n]\n",
    "$$"
   ]
  },
  {
   "cell_type": "markdown",
   "metadata": {},
   "source": [
    "#### 2a.  Constructing the basis matrix\n",
    "\n",
    "Use the equations above to write a function `fourier_matrix(N)` that constructs an $N\\times N$ complex basis matrix.  Show the values of this matrix for a small value of N (e.g. 10, or whatever displays nicely)."
   ]
  },
  {
   "cell_type": "markdown",
   "metadata": {},
   "source": [
    "#### 2b. Fourier matrix properties\n",
    "\n",
    "Use your function to show that the matrix inverse is the conjugate transpose, or that $\\def\\bA{\\textbf{A}}\n",
    "\\bA^{-1}\\bA = \\bA^H\\bA = N\\textbf{I}$.\n",
    "\n",
    "Again use small values of $N$.\n",
    "\n"
   ]
  },
  {
   "cell_type": "markdown",
   "metadata": {},
   "source": [
    "#### 2c. Comparing to the standard `fft` function.\n",
    "\n",
    "Show that the matrix FFT is numerically identical to the `fft` function by computing apply both versions to a small random vector."
   ]
  },
  {
   "cell_type": "markdown",
   "metadata": {},
   "source": [
    "#### 2d. Benchmarking\n",
    "\n",
    "It is important to note that the matrix solution is *significantly* slower than the standard `fft` implementation ($O(N^2)$ vs $O(N\\log N)$), because the FFT is specialized to take advantage of the common structures in the basis functions and avoid redundant computation.  Run some benchmarks on larger vector sizes to show this."
   ]
  },
  {
   "cell_type": "markdown",
   "metadata": {},
   "source": [
    "#### 2e. Synthesizing bandpass noise\n",
    "\n",
    "Use the inverse Fourier transform to synthesize examples of bandpass noise by defining the spectrum of the noise in Fourier space.  Explain what you did and show your examples."
   ]
  },
  {
   "cell_type": "markdown",
   "metadata": {},
   "source": [
    "### 3. Transforms in 2D\n",
    "\n",
    "In this section, you will look at two-dimensional (2D) forward and inverse transforms.  You will need a package like scipy.fft for python or FFT.jl in julia.\n",
    "\n",
    "2D transforms operate on matrix input, e.g. an image, and yield a matrix of coefficients as a result.  Use what you know about the coefficient representation to derive the 2D basis functions for the 2D Fourier or discrete cosine transforms.  Note that the discrete cosine transform only uses cosines, so the coefficients are all real.  Uses a matrix size of $8\\times 8$ or $16\\times 16$ and plot the basis functions in order in a grid plot.  \n",
    "\n",
    "As a warm-up, you may wish to do this exericse for the 1D case, so you can confirm your results using the discussion above.\n",
    "\n",
    "Exploration idea: Make the same plot but for different types of 2D wavelet transforms.\n"
   ]
  },
  {
   "cell_type": "markdown",
   "metadata": {},
   "source": [
    "***\n",
    "### Submission Instructions\n",
    "\n",
    "Please refer to the Assignment Submission Instructions on canvas under the Pages tab."
   ]
  },
  {
   "cell_type": "code",
   "execution_count": null,
   "metadata": {},
   "outputs": [],
   "source": []
  }
 ],
 "metadata": {
  "kernelspec": {
   "display_name": "Julia 1.7.2",
   "language": "julia",
   "name": "julia-1.7"
  },
  "language_info": {
   "file_extension": ".jl",
   "mimetype": "application/julia",
   "name": "julia",
   "version": "1.7.2"
  }
 },
 "nbformat": 4,
 "nbformat_minor": 4
}
