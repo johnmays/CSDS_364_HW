{
 "cells": [
  {
   "cell_type": "markdown",
   "metadata": {},
   "source": [
    "## Assignment A1a: Jupyter Notebooks\n",
    "\n",
    "### John Mays, jkm100"
   ]
  },
  {
   "cell_type": "markdown",
   "metadata": {},
   "source": [
    "### 1. Markdown and latex"
   ]
  },
  {
   "cell_type": "markdown",
   "metadata": {},
   "source": [
    "**1a.**\n",
    "\n",
    "$p(x | \\mu, \\sigma)$ is a function $f(x)$ that describes a normal distribution for a continuous random variable ($X$).\n",
    "\n",
    "The function is almost always written as \n",
    "$$p(x| \\mu, \\sigma)=\\frac{1}{\\sqrt{2\\pi\\sigma^2}}e^{-\\frac{(x-\\mu)^{2}}{2\\sigma^{2}}},$$\n",
    "and is used to represent a continuous random variable whose value and distribution are unknown."
   ]
  },
  {
   "cell_type": "markdown",
   "metadata": {},
   "source": [
    "**1b.**\n",
    "\n",
    "For more than one continuous random variable (with a normal distribution where $\\mu$ is the mean and $\\sigma$ is the standard deviation), $Ex_i,\\; i = 1 \\dots N,$$\n",
    "the joint probability distribution can be expressed as a product of the individual pdfs:\n",
    "$\\begin{align*}\n",
    "    p(x_{1:N}|\\mu, \\sigma) &= \\prod_{i=1}^{N}p(x_{i}| \\mu, \\sigma)\\\\\n",
    "    &= \\frac{1}{(2\\pi\\sigma)^{\\frac{N}{2}}}e^{-\\frac{1}{2\\sigma^{2}}\\sum_{i=1}^{N}(x_{i}-\\mu)^{2}}\n",
    "\\end{align*}$\n",
    "\n",
    "\n",
    "--*To answer **1a** and **1b**, I referenced my probability textbook: Introduction to Probability by Anderson, Seppäläinen, and Valkó (Cambridge) pp. 90-91, 119-121*"
   ]
  },
  {
   "cell_type": "markdown",
   "metadata": {},
   "source": [
    "### 2. Simple functions and plotting"
   ]
  },
  {
   "cell_type": "code",
   "execution_count": 1,
   "metadata": {},
   "outputs": [],
   "source": [
    "# Import Statements:\n",
    "import numpy as np\n",
    "import math\n",
    "import matplotlib.pyplot as plt"
   ]
  },
  {
   "cell_type": "markdown",
   "metadata": {},
   "source": [
    "**Function g:**"
   ]
  },
  {
   "cell_type": "code",
   "execution_count": 2,
   "metadata": {},
   "outputs": [],
   "source": [
    "# Gaussian pdf:\n",
    "def g (x, mu = 0, sigma = 1.0):\n",
    "    return (1 / math.sqrt(2*math.pi*(sigma**2)))*math.exp(-((x-mu)**2)/(2*(sigma**2)))"
   ]
  },
  {
   "cell_type": "markdown",
   "metadata": {},
   "source": [
    "**Plotting:**"
   ]
  },
  {
   "cell_type": "code",
   "execution_count": 3,
   "metadata": {},
   "outputs": [],
   "source": [
    "def plot_g (x_1, mu = 0, sigma = 1.0):\n",
    "    # Plotting pdf\n",
    "    x = np.linspace(start=mu-4*sigma, stop=mu+4*sigma, num=100)\n",
    "    p = []\n",
    "    for x_ind in x:\n",
    "        p.append(g(x_ind, mu=mu, sigma=sigma))\n",
    "    plt.plot(x, p)\n",
    "    plt.xlabel(\"x\")\n",
    "    plt.ylabel(\"Likelihood: p(x|mu, sigma)\")\n",
    "    plt.title(\"PDF of a Gaussian Distribution\")\n",
    "\n",
    "    # Plotting point x_1\n",
    "    y_1 = g(x_1, mu=mu, sigma=sigma)\n",
    "    plt.scatter(x_1, y_1)\n",
    "\n",
    "    #Creating annotation:\n",
    "    plt.annotate(text=\"{val}\".format(val = round(y_1, 3)), xy=(x_1, y_1+ 0.01))\n",
    "\n",
    "    plt.show()"
   ]
  },
  {
   "cell_type": "code",
   "execution_count": 4,
   "metadata": {},
   "outputs": [
    {
     "data": {
      "image/png": "[encoded data removed]",
      "text/plain": [
       "<Figure size 432x288 with 1 Axes>"
      ]
     },
     "metadata": {
      "needs_background": "light"
     },
     "output_type": "display_data"
    }
   ],
   "source": [
    "plot_g(x_1 = 1, mu = 0, sigma=1.0)"
   ]
  }
 ],
 "metadata": {
  "interpreter": {
   "hash": "40d3a090f54c6569ab1632332b64b2c03c39dcf918b08424e98f38b5ae0af88f"
  },
  "kernelspec": {
   "display_name": "Python 3.8.8 64-bit ('base': conda)",
   "language": "python",
   "name": "python3"
  },
  "language_info": {
   "codemirror_mode": {
    "name": "ipython",
    "version": 3
   },
   "file_extension": ".py",
   "mimetype": "text/x-python",
   "name": "python",
   "nbconvert_exporter": "python",
   "pygments_lexer": "ipython3",
   "version": "3.8.8"
  },
  "orig_nbformat": 4
 },
 "nbformat": 4,
 "nbformat_minor": 2
}
