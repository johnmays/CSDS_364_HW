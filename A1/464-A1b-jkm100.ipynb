{
 "cells": [
  {
   "cell_type": "markdown",
   "metadata": {},
   "source": [
    "## Assignment A1b: Functions and Computation"
   ]
  },
  {
   "cell_type": "code",
   "execution_count": 33,
   "metadata": {},
   "outputs": [],
   "source": [
    "# Appropriate Libraries:\n",
    "import math\n",
    "import numpy as np"
   ]
  },
  {
   "cell_type": "markdown",
   "metadata": {},
   "source": [
    "### 1. Common functions"
   ]
  },
  {
   "cell_type": "markdown",
   "metadata": {},
   "source": [
    "### 1a. `sinewave`"
   ]
  },
  {
   "cell_type": "code",
   "execution_count": 69,
   "metadata": {},
   "outputs": [],
   "source": [
    "\"\"\"hello grader or professor. is this how you would do broadcasting? \"\"\"\n",
    "\n",
    "def sinewave(t, f=1.0, d=0.0):\n",
    "    if(type(t)==list):\n",
    "        t = np.array(t)\n",
    "    phi = 2 * np.pi * d * f\n",
    "    return np.sin(2 * np.pi * f * t + phi)"
   ]
  },
  {
   "cell_type": "code",
   "execution_count": 71,
   "metadata": {},
   "outputs": [],
   "source": [
    "# Example of an array of different time values:\n",
    "t_60Hz = np.linspace(0,2,num=60*2+1)"
   ]
  },
  {
   "cell_type": "markdown",
   "metadata": {},
   "source": [
    "#### 1)\n",
    "Formula: \n",
    "\n",
    "$\\text{time}\\times f_{s} = i$\n",
    "\n",
    "Unit Analysis:\n",
    "\n",
    "$\\text{seconds} \\times \\text{Hz}= \\text{seconds} \\times \\frac{\\text{samples}}{\\text{second}}= \\text{samples}$\n",
    "\n",
    "#### 2)\n",
    "Formula:\n",
    "\n",
    "$\\text{delay} \\times f_{s} \\times 2\\pi = \\text{phase} = \\phi$\n",
    "\n",
    "Unit Analysis:\n",
    "\n",
    "$\\text{seconds} \\times \\frac{\\text{cycles}}{\\text{second}} \\times \\frac{\\text{radians}}{\\text{second}} = \\text{radians}$\n"
   ]
  },
  {
   "cell_type": "markdown",
   "metadata": {},
   "source": [
    "### 1b. `gabor`"
   ]
  },
  {
   "cell_type": "code",
   "execution_count": 89,
   "metadata": {},
   "outputs": [],
   "source": [
    "def gabor (t, a=1.0, sigma:int=1, phi = 0.0):\n",
    "    f = 1.0\n",
    "    return a * np.exp((-t**2)/(2 * (sigma**2))) * np.cos(2*np.pi*f*t+phi)\n",
    "\n",
    "def gabore (t, a=1.0, sigma:int=1):\n",
    "    return gabor(t, a, sigma, phi=0.0)\n",
    "\n",
    "def gaboro (t, a=1.0, sigma:int=1):\n",
    "    return gabor(t, a, sigma, phi=(np.pi/2))   "
   ]
  },
  {
   "cell_type": "code",
   "execution_count": 90,
   "metadata": {},
   "outputs": [
    {
     "data": {
      "text/plain": [
       "-0.9092076346591275"
      ]
     },
     "execution_count": 90,
     "metadata": {},
     "output_type": "execute_result"
    }
   ],
   "source": [
    "gaboro(0.3)"
   ]
  },
  {
   "cell_type": "markdown",
   "metadata": {},
   "source": []
  },
  {
   "cell_type": "markdown",
   "metadata": {},
   "source": [
    "### 1c. `gammatone`"
   ]
  },
  {
   "cell_type": "markdown",
   "metadata": {},
   "source": [
    "### 2. Simple computation"
   ]
  },
  {
   "cell_type": "markdown",
   "metadata": {},
   "source": [
    "### 2a. `localmaxima`|"
   ]
  },
  {
   "cell_type": "markdown",
   "metadata": {},
   "source": [
    "### 2b. `crossings`\n"
   ]
  },
  {
   "cell_type": "markdown",
   "metadata": {},
   "source": [
    "### 2c. `envelope`"
   ]
  }
 ],
 "metadata": {
  "interpreter": {
   "hash": "40d3a090f54c6569ab1632332b64b2c03c39dcf918b08424e98f38b5ae0af88f"
  },
  "kernelspec": {
   "display_name": "Julia 1.5.3",
   "language": "python",
   "name": "python3"
  },
  "language_info": {
   "codemirror_mode": {
    "name": "ipython",
    "version": 3
   },
   "file_extension": ".py",
   "mimetype": "text/x-python",
   "name": "python",
   "nbconvert_exporter": "python",
   "pygments_lexer": "ipython3",
   "version": "3.8.8"
  }
 },
 "nbformat": 4,
 "nbformat_minor": 4
}
